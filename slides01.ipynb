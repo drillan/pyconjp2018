{
 "cells": [
  {
   "cell_type": "code",
   "execution_count": 1,
   "metadata": {
    "slideshow": {
     "slide_type": "skip"
    }
   },
   "outputs": [
    {
     "data": {
      "text/html": [
       "<link rel=\"stylesheet\" type=\"text/css\" href=\"./static/css/custom.css\">\n",
       "<link rel=\"stylesheet\" type=\"text/css\" href=\"./static/css/highlight.css\">"
      ],
      "text/plain": [
       "<IPython.core.display.HTML object>"
      ]
     },
     "metadata": {},
     "output_type": "display_data"
    }
   ],
   "source": [
    "%%HTML\n",
    "<link rel=\"stylesheet\" type=\"text/css\" href=\"./static/css/custom.css\">\n",
    "<link rel=\"stylesheet\" type=\"text/css\" href=\"./static/css/highlight.css\">"
   ]
  },
  {
   "cell_type": "code",
   "execution_count": 2,
   "metadata": {
    "slideshow": {
     "slide_type": "skip"
    }
   },
   "outputs": [],
   "source": [
    "%matplotlib inline\n",
    "%load_ext tsumiki\n",
    "\n",
    "import time\n",
    "\n",
    "import numpy as np\n",
    "import pandas as pd\n",
    "from IPython import display"
   ]
  },
  {
   "cell_type": "markdown",
   "metadata": {
    "slideshow": {
     "slide_type": "slide"
    }
   },
   "source": [
    "# Jupyterで広がるPythonの可能性\n",
    "\n",
    "---\n",
    "2018/09/17 @大田区産業プラザPiO  \n",
    "driller@patraqushe\n"
   ]
  },
  {
   "cell_type": "markdown",
   "metadata": {
    "hide_input": true,
    "slideshow": {
     "slide_type": "slide"
    }
   },
   "source": [
    "### だれ？\n",
    "\n",
    "\n",
    "#### なまえ\n",
    "driller / どりらん\n",
    "\n",
    "#### Twitter\n",
    "@patraqushe  "
   ]
  },
  {
   "cell_type": "markdown",
   "metadata": {
    "slideshow": {
     "slide_type": "slide"
    }
   },
   "source": [
    "### しごと\n",
    "\n",
    "* デリバティブのトレーダー  \n",
    "  たまにデイトレーダーと間違えられる  \n",
    "  JavaとJavaScriptくらいの違い、つまり大してかわらない\n",
    "* 最近はPythonの仕事も"
   ]
  },
  {
   "cell_type": "code",
   "execution_count": 3,
   "metadata": {
    "hideCode": true,
    "hide_input": false,
    "scrolled": false,
    "slideshow": {
     "slide_type": "subslide"
    },
    "tags": [
     "h"
    ]
   },
   "outputs": [
    {
     "data": {
      "text/html": [
       "<div class=\"tsumiki\">\n",
       "  <style>\n",
       "  .tsumiki .columns1 {\n",
       "    margin-bottom: 12px;\n",
       "  }\n",
       "</style>\n",
       "<h3>共著</h3>\n",
       "<style>\n",
       "  .tsumiki .columns2 {\n",
       "    -webkit-columns: 2;\n",
       "    -moz-columns: 2;\n",
       "    -ms-columns: 2;\n",
       "    columns: 2;\n",
       "    display: inline-flex;\n",
       "    align-items: top;\n",
       "    width: 100%;\n",
       "  }\n",
       "\n",
       "\n",
       "  .tsumiki #col0 {\n",
       "      width: calc(100% / 2);\n",
       "  }\n",
       "\n",
       "  .tsumiki #col1 {\n",
       "      width: calc(100% / 2);\n",
       "  }\n",
       "\n",
       "</style>\n",
       "<div class=\"columns2\">\n",
       "  \n",
       "    <div id=\"col1\">\n",
       "    <pre><code>\n",
       "</code></pre>\n",
       "<h4>PythonユーザのためのJupyter［実践］入門</h4>\n",
       "<ul>\n",
       "<li>Jupyterのつかいかた</li>\n",
       "<li>pandasの基礎</li>\n",
       "<li>データの可視化<br />\n",
       "<strong>Matplotlibの豆腐で困ってる人は本書を読むように！</strong></li>\n",
       "<li>クラウド上のJupyter</li>\n",
       "<li>R, RubyでJupyter</li>\n",
       "<li>スライド, ipywidgetsなど  </li>\n",
       "</ul>\n",
       "    </div>\n",
       "  \n",
       "    <div id=\"col2\">\n",
       "    <img src=\"./static/images/jupyterbook.jpg\" width=300 />\n",
       "    </div>\n",
       "  \n",
       "</div> \n",
       "</div>"
      ],
      "text/plain": [
       "<IPython.core.display.HTML object>"
      ]
     },
     "execution_count": 3,
     "metadata": {},
     "output_type": "execute_result"
    }
   ],
   "source": [
    "%%tsumiki\n",
    "\n",
    ":Markdown:\n",
    "\n",
    "### 共著\n",
    "\n",
    ":Markdown::\n",
    "            \n",
    "#### PythonユーザのためのJupyter［実践］入門\n",
    "\n",
    "\n",
    "* Jupyterのつかいかた\n",
    "* pandasの基礎\n",
    "* データの可視化\n",
    "  **Matplotlibの豆腐で困ってる人は本書を読むように！**\n",
    "* クラウド上のJupyter\n",
    "* R, RubyでJupyter\n",
    "* スライド, ipywidgetsなど  \n",
    "\n",
    "\n",
    ":HTML::\n",
    "<img src=\"./static/images/jupyterbook.jpg\" width=300 />"
   ]
  },
  {
   "cell_type": "code",
   "execution_count": 4,
   "metadata": {
    "hideCode": true,
    "hide_input": false,
    "slideshow": {
     "slide_type": "subslide"
    },
    "tags": [
     "h"
    ]
   },
   "outputs": [
    {
     "data": {
      "text/html": [
       "<div class=\"tsumiki\">\n",
       "  <style>\n",
       "  .tsumiki .columns1 {\n",
       "    margin-bottom: 12px;\n",
       "  }\n",
       "</style>\n",
       "<h3>Software Design 2018年2月号に寄稿</h3>\n",
       "<style>\n",
       "  .tsumiki .columns2 {\n",
       "    -webkit-columns: 2;\n",
       "    -moz-columns: 2;\n",
       "    -ms-columns: 2;\n",
       "    columns: 2;\n",
       "    display: inline-flex;\n",
       "    align-items: top;\n",
       "    width: 100%;\n",
       "  }\n",
       "\n",
       "\n",
       "  .tsumiki #col0 {\n",
       "      width: calc(100% / 2);\n",
       "  }\n",
       "\n",
       "  .tsumiki #col1 {\n",
       "      width: calc(100% / 2);\n",
       "  }\n",
       "\n",
       "</style>\n",
       "<div class=\"columns2\">\n",
       "  \n",
       "    <div id=\"col1\">\n",
       "    <p>第1特集「そのPythonライブラリ，どうして必要なんですか？」  </p>\n",
       "<ul>\n",
       "<li>第1章：パッケージ管理の基礎を知ろう<br />\n",
       "  効率的な開発のための前準備……石本 敦夫  </li>\n",
       "<li>第2章：Pythonの基礎力を高めよう<br />\n",
       "  ライブラリの使い方と作り方……くーむ</li>\n",
       "<li>第3章：データ分析の前処理をさくっと終わらせよう<br />\n",
       "  定時に帰るためのpandas入門……@driller  </li>\n",
       "<li>第4章：イメージどおりにデータを可視化しよう<br />\n",
       "  データに隠された意味を見つけるMatplotlib入門……片柳 薫子  </li>\n",
       "</ul>\n",
       "    </div>\n",
       "  \n",
       "    <div id=\"col2\">\n",
       "    <img src=\"./static/images/sd201802.png\" width=300 >\n",
       "    </div>\n",
       "  \n",
       "</div> \n",
       "</div>"
      ],
      "text/plain": [
       "<IPython.core.display.HTML object>"
      ]
     },
     "execution_count": 4,
     "metadata": {},
     "output_type": "execute_result"
    }
   ],
   "source": [
    "%%tsumiki\n",
    "\n",
    ":Markdown:\n",
    "\n",
    "### Software Design 2018年2月号に寄稿\n",
    "        \n",
    ":Markdown::\n",
    "\n",
    "第1特集「そのPythonライブラリ，どうして必要なんですか？」  \n",
    "  \n",
    "* 第1章：パッケージ管理の基礎を知ろう  \n",
    "  効率的な開発のための前準備……石本 敦夫  \n",
    "* 第2章：Pythonの基礎力を高めよう  \n",
    "  ライブラリの使い方と作り方……くーむ\n",
    "* 第3章：データ分析の前処理をさくっと終わらせよう  \n",
    "  定時に帰るためのpandas入門……@driller  \n",
    "* 第4章：イメージどおりにデータを可視化しよう  \n",
    "  データに隠された意味を見つけるMatplotlib入門……片柳 薫子  \n",
    "\n",
    ":HTML::\n",
    "<img src=\"./static/images/sd201802.png\" width=300 >"
   ]
  },
  {
   "cell_type": "code",
   "execution_count": 5,
   "metadata": {
    "hideCode": true,
    "hide_input": false,
    "slideshow": {
     "slide_type": "subslide"
    },
    "tags": [
     "h"
    ]
   },
   "outputs": [
    {
     "data": {
      "text/html": [
       "<div class=\"tsumiki\">\n",
       "  <style>\n",
       "  .tsumiki .columns1 {\n",
       "    margin-bottom: 12px;\n",
       "  }\n",
       "</style>\n",
       "<h3>fin-py</h3>\n",
       "<style>\n",
       "  .tsumiki .columns2 {\n",
       "    -webkit-columns: 2;\n",
       "    -moz-columns: 2;\n",
       "    -ms-columns: 2;\n",
       "    columns: 2;\n",
       "    display: inline-flex;\n",
       "    align-items: top;\n",
       "    width: 100%;\n",
       "  }\n",
       "\n",
       "\n",
       "  .tsumiki #col0 {\n",
       "      width: calc(100% / 2);\n",
       "  }\n",
       "\n",
       "  .tsumiki #col1 {\n",
       "      width: calc(100% / 2);\n",
       "  }\n",
       "\n",
       "</style>\n",
       "<div class=\"columns2\">\n",
       "  \n",
       "    <div id=\"col1\">\n",
       "    <ul>\n",
       "<li>Python x 金融のコミュニティ</li>\n",
       "<li>PyConJP 2016をきっかけに発足</li>\n",
       "</ul>\n",
       "    </div>\n",
       "  \n",
       "    <div id=\"col2\">\n",
       "    <img src=\"./static/images/finpy_600x600.png\" width=300 />\n",
       "    </div>\n",
       "  \n",
       "</div> \n",
       "</div>"
      ],
      "text/plain": [
       "<IPython.core.display.HTML object>"
      ]
     },
     "execution_count": 5,
     "metadata": {},
     "output_type": "execute_result"
    }
   ],
   "source": [
    "%%tsumiki\n",
    "\n",
    ":Markdown:\n",
    "### fin-py\n",
    "\n",
    ":Markdown::\n",
    "* Python x 金融のコミュニティ\n",
    "* PyConJP 2016をきっかけに発足\n",
    "\n",
    ":HTML::\n",
    "<img src=\"./static/images/finpy_600x600.png\" width=300 />"
   ]
  },
  {
   "cell_type": "markdown",
   "metadata": {
    "slideshow": {
     "slide_type": "slide"
    }
   },
   "source": [
    "## Project Jupyter\n",
    "---\n",
    "### History"
   ]
  },
  {
   "cell_type": "markdown",
   "metadata": {
    "slideshow": {
     "slide_type": "subslide"
    }
   },
   "source": [
    "#### IPython\n",
    "* 2001年 - Fernando Perez氏による開発  \n",
    "  当時からMaple, Mathematicaを使用、後のNotebookに影響を与える\n",
    "* REPLの拡張版\n",
    "  - 型推定の強化\n",
    "  - コード補完\n",
    "  - マジックコマンド"
   ]
  },
  {
   "cell_type": "markdown",
   "metadata": {
    "slideshow": {
     "slide_type": "subslide"
    }
   },
   "source": [
    "### IPython Notebook\n",
    "* 2011 - Fernando Pérez, Brian Granger氏による開発\n",
    "* データサイエンティストに対して生のコードを説明してもわかりにくかった\n",
    "* コードの追跡や共有を容易に"
   ]
  },
  {
   "cell_type": "code",
   "execution_count": 6,
   "metadata": {
    "hideCode": true,
    "hide_input": false,
    "scrolled": false,
    "slideshow": {
     "slide_type": "subslide"
    },
    "tags": [
     "h"
    ]
   },
   "outputs": [
    {
     "data": {
      "text/html": [
       "<div class=\"tsumiki\">\n",
       "  <style>\n",
       "  .tsumiki .columns2 {\n",
       "    -webkit-columns: 2;\n",
       "    -moz-columns: 2;\n",
       "    -ms-columns: 2;\n",
       "    columns: 2;\n",
       "    display: inline-flex;\n",
       "    align-items: top;\n",
       "    width: 100%;\n",
       "  }\n",
       "\n",
       "\n",
       "  .tsumiki #col0 {\n",
       "      width: calc(100% / 2);\n",
       "  }\n",
       "\n",
       "  .tsumiki #col1 {\n",
       "      width: calc(100% / 2);\n",
       "  }\n",
       "\n",
       "</style>\n",
       "<div class=\"columns2\">\n",
       "  \n",
       "    <div id=\"col1\">\n",
       "    <h3>Project Jupyter</h3>\n",
       "<ul>\n",
       "<li>2014 - Fernando Pérez氏がIPythonからスピンオフしたJupyterプロジェクトを発表</li>\n",
       "<li>名称は <strong>Ju</strong>lia <strong>Py</strong>thon <strong>R</strong> から</li>\n",
       "<li>2018年9月時点では数十のコンピュータ言語に対応</li>\n",
       "</ul>\n",
       "    </div>\n",
       "  \n",
       "    <div id=\"col2\">\n",
       "    <img src=\"./static/images/jupyter-logo.svg\" width=300/>\n",
       "    </div>\n",
       "  \n",
       "</div> \n",
       "</div>"
      ],
      "text/plain": [
       "<IPython.core.display.HTML object>"
      ]
     },
     "execution_count": 6,
     "metadata": {},
     "output_type": "execute_result"
    }
   ],
   "source": [
    "%%tsumiki\n",
    "\n",
    ":Markdown::\n",
    "### Project Jupyter\n",
    "* 2014 - Fernando Pérez氏がIPythonからスピンオフしたJupyterプロジェクトを発表\n",
    "* 名称は **Ju**lia **Py**thon **R** から\n",
    "* 2018年9月時点では数十のコンピュータ言語に対応\n",
    "\n",
    ":HTML::\n",
    "<img src=\"./static/images/jupyter-logo.svg\" width=300/>"
   ]
  },
  {
   "cell_type": "code",
   "execution_count": 7,
   "metadata": {
    "hideCode": true,
    "hide_input": false,
    "slideshow": {
     "slide_type": "subslide"
    },
    "tags": [
     "h"
    ]
   },
   "outputs": [
    {
     "data": {
      "text/html": [
       "<div class=\"tsumiki\">\n",
       "  <style>\n",
       "  .tsumiki .columns1 {\n",
       "    margin-bottom: 12px;\n",
       "  }\n",
       "</style>\n",
       "<h4>Project Jupyter</h4>\n",
       "<style>\n",
       "  .tsumiki .columns4 {\n",
       "    -webkit-columns: 4;\n",
       "    -moz-columns: 4;\n",
       "    -ms-columns: 4;\n",
       "    columns: 4;\n",
       "    display: inline-flex;\n",
       "    align-items: top;\n",
       "    width: 100%;\n",
       "  }\n",
       "\n",
       "\n",
       "  .tsumiki #col0 {\n",
       "      width: calc(100% / 4);\n",
       "  }\n",
       "\n",
       "  .tsumiki #col1 {\n",
       "      width: calc(100% / 4);\n",
       "  }\n",
       "\n",
       "  .tsumiki #col2 {\n",
       "      width: calc(100% / 4);\n",
       "  }\n",
       "\n",
       "  .tsumiki #col3 {\n",
       "      width: calc(100% / 4);\n",
       "  }\n",
       "\n",
       "</style>\n",
       "<div class=\"columns4\">\n",
       "  \n",
       "    <div id=\"col1\">\n",
       "    <h5>User Interfaces</h5>\n",
       "<ul>\n",
       "<li>JupyterLab</li>\n",
       "<li>Jupyter Notebook</li>\n",
       "<li>Jupyter Console</li>\n",
       "<li>Qt Console</li>\n",
       "</ul>\n",
       "    </div>\n",
       "  \n",
       "    <div id=\"col2\">\n",
       "    <h5>IPython</h5>\n",
       "<ul>\n",
       "<li>IPython</li>\n",
       "<li>IPyParallel</li>\n",
       "<li>Traitlets</li>\n",
       "</ul>\n",
       "    </div>\n",
       "  \n",
       "    <div id=\"col3\">\n",
       "    <h5>Kernels</h5>\n",
       "<ul>\n",
       "<li>IPython</li>\n",
       "<li>IRkernel</li>\n",
       "<li>IJulia</li>\n",
       "<li>Community maintained kernels</li>\n",
       "</ul>\n",
       "    </div>\n",
       "  \n",
       "    <div id=\"col4\">\n",
       "    <h5>Widgets</h5>\n",
       "<ul>\n",
       "<li>IPyWidgets/Jupyter Widgets</li>\n",
       "<li>widget-cookiecutter</li>\n",
       "</ul>\n",
       "    </div>\n",
       "  \n",
       "</div> \n",
       "<style>\n",
       "  .tsumiki .columns1 {\n",
       "    margin-bottom: 12px;\n",
       "  }\n",
       "</style>\n",
       "\n",
       "<style>\n",
       "  .tsumiki .columns4 {\n",
       "    -webkit-columns: 4;\n",
       "    -moz-columns: 4;\n",
       "    -ms-columns: 4;\n",
       "    columns: 4;\n",
       "    display: inline-flex;\n",
       "    align-items: top;\n",
       "    width: 100%;\n",
       "  }\n",
       "\n",
       "\n",
       "  .tsumiki #col0 {\n",
       "      width: calc(100% / 4);\n",
       "  }\n",
       "\n",
       "  .tsumiki #col1 {\n",
       "      width: calc(100% / 4);\n",
       "  }\n",
       "\n",
       "  .tsumiki #col2 {\n",
       "      width: calc(100% / 4);\n",
       "  }\n",
       "\n",
       "  .tsumiki #col3 {\n",
       "      width: calc(100% / 4);\n",
       "  }\n",
       "\n",
       "</style>\n",
       "<div class=\"columns4\">\n",
       "  \n",
       "    <div id=\"col1\">\n",
       "    <h5>Notebook Documents</h5>\n",
       "<ul>\n",
       "<li>nbconvert</li>\n",
       "<li>nbformat</li>\n",
       "<li>nbviewer</li>\n",
       "</ul>\n",
       "    </div>\n",
       "  \n",
       "    <div id=\"col2\">\n",
       "    <h5>JupyterHub</h5>\n",
       "<ul>\n",
       "<li>JupyterHub</li>\n",
       "<li>Zero to JupyterHub</li>\n",
       "<li>nbgrader</li>\n",
       "<li>All JupyterHub Projects...</li>\n",
       "</ul>\n",
       "    </div>\n",
       "  \n",
       "    <div id=\"col3\">\n",
       "    <h5>Deployment</h5>\n",
       "<ul>\n",
       "<li>Docker Stacks</li>\n",
       "<li>Kernel Gateway</li>\n",
       "</ul>\n",
       "    </div>\n",
       "  \n",
       "    <div id=\"col4\">\n",
       "    <h5>Foundations</h5>\n",
       "<ul>\n",
       "<li>Jupyter Client</li>\n",
       "<li>Jupyter Core</li>\n",
       "<li>Jupyter Alabaster Theme</li>\n",
       "</ul>\n",
       "    </div>\n",
       "  \n",
       "</div> \n",
       "</div>"
      ],
      "text/plain": [
       "<IPython.core.display.HTML object>"
      ]
     },
     "execution_count": 7,
     "metadata": {},
     "output_type": "execute_result"
    }
   ],
   "source": [
    "%%tsumiki\n",
    ":Markdown:\n",
    "#### Project Jupyter\n",
    ":Markdown::::\n",
    "##### User Interfaces\n",
    "* JupyterLab\n",
    "* Jupyter Notebook\n",
    "* Jupyter Console\n",
    "* Qt Console\n",
    ":Markdown::::\n",
    "##### IPython\n",
    "* IPython\n",
    "* IPyParallel\n",
    "* Traitlets\n",
    ":Markdown::::\n",
    "##### Kernels\n",
    "* IPython\n",
    "* IRkernel\n",
    "* IJulia\n",
    "* Community maintained kernels\n",
    ":Markdown::::\n",
    "##### Widgets\n",
    "* IPyWidgets/Jupyter Widgets\n",
    "* widget-cookiecutter\n",
    ":Markdown:\n",
    ":Markdown::::\n",
    "##### Notebook Documents\n",
    "* nbconvert\n",
    "* nbformat\n",
    "* nbviewer\n",
    ":Markdown::::\n",
    "##### JupyterHub\n",
    "* JupyterHub\n",
    "* Zero to JupyterHub\n",
    "* nbgrader\n",
    "* All JupyterHub Projects...\n",
    ":Markdown::::\n",
    "##### Deployment\n",
    "* Docker Stacks\n",
    "* Kernel Gateway\n",
    ":Markdown::::\n",
    "##### Foundations\n",
    "* Jupyter Client\n",
    "* Jupyter Core\n",
    "* Jupyter Alabaster Theme"
   ]
  },
  {
   "cell_type": "markdown",
   "metadata": {
    "slideshow": {
     "slide_type": "slide"
    }
   },
   "source": [
    "## Jupyter Notebook"
   ]
  },
  {
   "cell_type": "markdown",
   "metadata": {
    "slideshow": {
     "slide_type": "subslide"
    }
   },
   "source": [
    "### Notebook\n",
    "\n",
    "* セルにコードを記述して即座に実行できる  \n",
    "  REPLと比較して再編集が容易\n",
    "* マークダウンでコメントが書ける\n",
    "* 可視化した画像やHTMLを埋め込める"
   ]
  },
  {
   "cell_type": "markdown",
   "metadata": {
    "slideshow": {
     "slide_type": "subslide"
    }
   },
   "source": [
    "## Jupyter NotebookのUI\n",
    "\n",
    "* ノートブック\n",
    "* ファイルマネージャ\n",
    "* ターミナル"
   ]
  },
  {
   "cell_type": "markdown",
   "metadata": {
    "slideshow": {
     "slide_type": "subslide"
    }
   },
   "source": [
    "### ファイルマネージャ\n",
    "\n",
    "最低限のことはJupyter上で行える\n",
    "* 新規作成\n",
    "* 削除\n",
    "* リネーム\n",
    "* asciiファイルの編集"
   ]
  },
  {
   "cell_type": "markdown",
   "metadata": {
    "slideshow": {
     "slide_type": "subslide"
    }
   },
   "source": [
    "### ターミナル\n",
    "\n",
    "* Jupyterを起動した状態の環境変数を引き継ぐ\n",
    "* 仮想環境が引き継がれるため、ライブラリのインストールが容易"
   ]
  },
  {
   "cell_type": "markdown",
   "metadata": {
    "slideshow": {
     "slide_type": "subslide"
    }
   },
   "source": [
    "### エディタ\n",
    "\n",
    "* キーバインドが選べる\n",
    "  - Sublime Text\n",
    "  - Vim\n",
    "  - emacs\n",
    "* シンタックスハイライト"
   ]
  },
  {
   "cell_type": "markdown",
   "metadata": {
    "slideshow": {
     "slide_type": "subslide"
    }
   },
   "source": [
    "### Notebook\n",
    "\n",
    "* コードを実行\n",
    "* マークアップ記法によるテキストの埋め込み\n",
    "* 画像出力(主にグラフ)の埋め込み\n",
    "* HTMLを埋め込み"
   ]
  },
  {
   "cell_type": "markdown",
   "metadata": {
    "slideshow": {
     "slide_type": "slide"
    }
   },
   "source": [
    "## 3行でわかるJupyter Notebookのすごさ\n",
    "---\n",
    "vmstatコマンドの事例"
   ]
  },
  {
   "cell_type": "markdown",
   "metadata": {
    "slideshow": {
     "slide_type": "subslide"
    }
   },
   "source": [
    "#### 1行目: vmstatコマンドを実行"
   ]
  },
  {
   "cell_type": "code",
   "execution_count": 20,
   "metadata": {
    "deletable": false,
    "editable": false,
    "run_control": {
     "frozen": true
    },
    "scrolled": true,
    "slideshow": {
     "slide_type": "fragment"
    },
    "tags": [
     "f"
    ]
   },
   "outputs": [
    {
     "data": {
      "text/plain": [
       "['procs -----------memory---------- ---swap-- -----io---- -system-- ------cpu-----',\n",
       " ' r  b   swpd   free   buff  cache   si   so    bi    bo   in   cs us sy id wa st',\n",
       " ' 4  1      0 1050744 377556 1557428    0    0    48    64  267  155 21  5 73  1  0',\n",
       " ' 4  0      0 1048784 377564 1559040    0    0     0    60  679 2526  7  2 87  4  0',\n",
       " ' 0  0      0 1051728 377564 1555516    0    0     0   312  587 2111  4  1 95  0  0',\n",
       " ' 0  0      0 1051728 377580 1555204    0    0     0   124  391 1712  1  1 97  1  0',\n",
       " ' 0  0      0 1051744 377580 1554948    0    0     0     0  308 1558  1  1 98  0  0']"
      ]
     },
     "execution_count": 20,
     "metadata": {},
     "output_type": "execute_result"
    }
   ],
   "source": [
    "%sc -l out=vmstat 1 5\n",
    "out.l"
   ]
  },
  {
   "cell_type": "markdown",
   "metadata": {
    "slideshow": {
     "slide_type": "subslide"
    }
   },
   "source": [
    "#### 2行目: pandas.DataFrameに変換"
   ]
  },
  {
   "cell_type": "code",
   "execution_count": 21,
   "metadata": {
    "deletable": false,
    "editable": false,
    "run_control": {
     "frozen": true
    },
    "slideshow": {
     "slide_type": "fragment"
    },
    "tags": [
     "f"
    ]
   },
   "outputs": [
    {
     "data": {
      "text/html": [
       "<div>\n",
       "<style scoped>\n",
       "    .dataframe tbody tr th:only-of-type {\n",
       "        vertical-align: middle;\n",
       "    }\n",
       "\n",
       "    .dataframe tbody tr th {\n",
       "        vertical-align: top;\n",
       "    }\n",
       "\n",
       "    .dataframe thead th {\n",
       "        text-align: right;\n",
       "    }\n",
       "</style>\n",
       "<table border=\"1\" class=\"dataframe\">\n",
       "  <thead>\n",
       "    <tr style=\"text-align: right;\">\n",
       "      <th></th>\n",
       "      <th>r</th>\n",
       "      <th>b</th>\n",
       "      <th>swpd</th>\n",
       "      <th>free</th>\n",
       "      <th>buff</th>\n",
       "      <th>cache</th>\n",
       "      <th>si</th>\n",
       "      <th>so</th>\n",
       "      <th>bi</th>\n",
       "      <th>bo</th>\n",
       "      <th>in</th>\n",
       "      <th>cs</th>\n",
       "      <th>us</th>\n",
       "      <th>sy</th>\n",
       "      <th>id</th>\n",
       "      <th>wa</th>\n",
       "      <th>st</th>\n",
       "    </tr>\n",
       "  </thead>\n",
       "  <tbody>\n",
       "    <tr>\n",
       "      <th>0</th>\n",
       "      <td>4.0</td>\n",
       "      <td>1.0</td>\n",
       "      <td>0.0</td>\n",
       "      <td>1050744.0</td>\n",
       "      <td>377556.0</td>\n",
       "      <td>1557428.0</td>\n",
       "      <td>0.0</td>\n",
       "      <td>0.0</td>\n",
       "      <td>48.0</td>\n",
       "      <td>64.0</td>\n",
       "      <td>267.0</td>\n",
       "      <td>155.0</td>\n",
       "      <td>21.0</td>\n",
       "      <td>5.0</td>\n",
       "      <td>73.0</td>\n",
       "      <td>1.0</td>\n",
       "      <td>0.0</td>\n",
       "    </tr>\n",
       "    <tr>\n",
       "      <th>1</th>\n",
       "      <td>4.0</td>\n",
       "      <td>0.0</td>\n",
       "      <td>0.0</td>\n",
       "      <td>1048784.0</td>\n",
       "      <td>377564.0</td>\n",
       "      <td>1559040.0</td>\n",
       "      <td>0.0</td>\n",
       "      <td>0.0</td>\n",
       "      <td>0.0</td>\n",
       "      <td>60.0</td>\n",
       "      <td>679.0</td>\n",
       "      <td>2526.0</td>\n",
       "      <td>7.0</td>\n",
       "      <td>2.0</td>\n",
       "      <td>87.0</td>\n",
       "      <td>4.0</td>\n",
       "      <td>0.0</td>\n",
       "    </tr>\n",
       "    <tr>\n",
       "      <th>2</th>\n",
       "      <td>0.0</td>\n",
       "      <td>0.0</td>\n",
       "      <td>0.0</td>\n",
       "      <td>1051728.0</td>\n",
       "      <td>377564.0</td>\n",
       "      <td>1555516.0</td>\n",
       "      <td>0.0</td>\n",
       "      <td>0.0</td>\n",
       "      <td>0.0</td>\n",
       "      <td>312.0</td>\n",
       "      <td>587.0</td>\n",
       "      <td>2111.0</td>\n",
       "      <td>4.0</td>\n",
       "      <td>1.0</td>\n",
       "      <td>95.0</td>\n",
       "      <td>0.0</td>\n",
       "      <td>0.0</td>\n",
       "    </tr>\n",
       "    <tr>\n",
       "      <th>3</th>\n",
       "      <td>0.0</td>\n",
       "      <td>0.0</td>\n",
       "      <td>0.0</td>\n",
       "      <td>1051728.0</td>\n",
       "      <td>377580.0</td>\n",
       "      <td>1555204.0</td>\n",
       "      <td>0.0</td>\n",
       "      <td>0.0</td>\n",
       "      <td>0.0</td>\n",
       "      <td>124.0</td>\n",
       "      <td>391.0</td>\n",
       "      <td>1712.0</td>\n",
       "      <td>1.0</td>\n",
       "      <td>1.0</td>\n",
       "      <td>97.0</td>\n",
       "      <td>1.0</td>\n",
       "      <td>0.0</td>\n",
       "    </tr>\n",
       "    <tr>\n",
       "      <th>4</th>\n",
       "      <td>0.0</td>\n",
       "      <td>0.0</td>\n",
       "      <td>0.0</td>\n",
       "      <td>1051744.0</td>\n",
       "      <td>377580.0</td>\n",
       "      <td>1554948.0</td>\n",
       "      <td>0.0</td>\n",
       "      <td>0.0</td>\n",
       "      <td>0.0</td>\n",
       "      <td>0.0</td>\n",
       "      <td>308.0</td>\n",
       "      <td>1558.0</td>\n",
       "      <td>1.0</td>\n",
       "      <td>1.0</td>\n",
       "      <td>98.0</td>\n",
       "      <td>0.0</td>\n",
       "      <td>0.0</td>\n",
       "    </tr>\n",
       "  </tbody>\n",
       "</table>\n",
       "</div>"
      ],
      "text/plain": [
       "     r    b  swpd       free      buff      cache   si   so    bi     bo  \\\n",
       "0  4.0  1.0   0.0  1050744.0  377556.0  1557428.0  0.0  0.0  48.0   64.0   \n",
       "1  4.0  0.0   0.0  1048784.0  377564.0  1559040.0  0.0  0.0   0.0   60.0   \n",
       "2  0.0  0.0   0.0  1051728.0  377564.0  1555516.0  0.0  0.0   0.0  312.0   \n",
       "3  0.0  0.0   0.0  1051728.0  377580.0  1555204.0  0.0  0.0   0.0  124.0   \n",
       "4  0.0  0.0   0.0  1051744.0  377580.0  1554948.0  0.0  0.0   0.0    0.0   \n",
       "\n",
       "      in      cs    us   sy    id   wa   st  \n",
       "0  267.0   155.0  21.0  5.0  73.0  1.0  0.0  \n",
       "1  679.0  2526.0   7.0  2.0  87.0  4.0  0.0  \n",
       "2  587.0  2111.0   4.0  1.0  95.0  0.0  0.0  \n",
       "3  391.0  1712.0   1.0  1.0  97.0  1.0  0.0  \n",
       "4  308.0  1558.0   1.0  1.0  98.0  0.0  0.0  "
      ]
     },
     "execution_count": 21,
     "metadata": {},
     "output_type": "execute_result"
    }
   ],
   "source": [
    "df = pd.DataFrame(out.fields()[2:], columns=out.fields()[1], dtype=float)\n",
    "df"
   ]
  },
  {
   "cell_type": "markdown",
   "metadata": {
    "slideshow": {
     "slide_type": "subslide"
    }
   },
   "source": [
    "#### 3行目: 折れ線グラフに可視化"
   ]
  },
  {
   "cell_type": "code",
   "execution_count": 22,
   "metadata": {
    "deletable": false,
    "editable": false,
    "run_control": {
     "frozen": true
    },
    "slideshow": {
     "slide_type": "fragment"
    },
    "tags": [
     "f"
    ]
   },
   "outputs": [
    {
     "data": {
      "image/png": "[encoded data removed]",
      "text/plain": [
       "<Figure size 864x432 with 1 Axes>"
      ]
     },
     "metadata": {},
     "output_type": "display_data"
    }
   ],
   "source": [
    "df.loc[:, \"si\":].plot(figsize=(12, 6));"
   ]
  },
  {
   "cell_type": "markdown",
   "metadata": {
    "slideshow": {
     "slide_type": "subslide"
    }
   },
   "source": [
    "#### 1つのセルにまとめた場合"
   ]
  },
  {
   "cell_type": "code",
   "execution_count": 15,
   "metadata": {
    "deletable": false,
    "editable": false,
    "run_control": {
     "frozen": true
    },
    "slideshow": {
     "slide_type": "fragment"
    },
    "tags": [
     "f"
    ]
   },
   "outputs": [
    {
     "data": {
      "image/png": "[encoded data removed]",
      "text/plain": [
       "<Figure size 864x432 with 1 Axes>"
      ]
     },
     "metadata": {},
     "output_type": "display_data"
    }
   ],
   "source": [
    "%sc -l out=vmstat 1 5\n",
    "df = pd.DataFrame(out.fields()[2:], columns=out.fields()[1], dtype=float)\n",
    "df.loc[:, \"si\":].plot(figsize=(12, 6));"
   ]
  },
  {
   "cell_type": "markdown",
   "metadata": {
    "slideshow": {
     "slide_type": "subslide"
    }
   },
   "source": [
    "#### 3行できたこと\n",
    "* OSのコマンド結果をPythonのオブジェクトとして扱う\n",
    "* テーブルデータをHTMLでみやすく表示\n",
    "* データを可視化して埋め込み"
   ]
  },
  {
   "cell_type": "code",
   "execution_count": 35,
   "metadata": {
    "deletable": false,
    "editable": false,
    "hideCode": true,
    "hide_input": false,
    "run_control": {
     "frozen": true
    },
    "slideshow": {
     "slide_type": "subslide"
    },
    "tags": [
     "h"
    ]
   },
   "outputs": [
    {
     "data": {
      "text/html": [
       "<div class=\"tsumiki\">\n",
       "  <style>\n",
       "  .tsumiki .columns1 {\n",
       "    margin-bottom: 12px;\n",
       "  }\n",
       "</style>\n",
       "<h3>Notebookの利点と欠点</h3>\n",
       "<style>\n",
       "  .tsumiki .columns2 {\n",
       "    -webkit-columns: 2;\n",
       "    -moz-columns: 2;\n",
       "    -ms-columns: 2;\n",
       "    columns: 2;\n",
       "    display: inline-flex;\n",
       "    align-items: top;\n",
       "    width: 100%;\n",
       "  }\n",
       "\n",
       "\n",
       "  .tsumiki #col0 {\n",
       "      width: calc(100% / 2);\n",
       "  }\n",
       "\n",
       "  .tsumiki #col1 {\n",
       "      width: calc(100% / 2);\n",
       "  }\n",
       "\n",
       "</style>\n",
       "<div class=\"columns2\">\n",
       "  \n",
       "    <div id=\"col1\">\n",
       "    <h4>利点</h4>\n",
       "<ul>\n",
       "<li>コードブロックごとに実行でき、都度結果を確認できる</li>\n",
       "<li>マークアップでメモを残せる</li>\n",
       "<li>データを可視化しやすい</li>\n",
       "<li>第三者にわかりやすい形で共有できる</li>\n",
       "<li>自由度が高い</li>\n",
       "</ul>\n",
       "    </div>\n",
       "  \n",
       "    <div id=\"col2\">\n",
       "    <h4>欠点</h4>\n",
       "<ul>\n",
       "<li>コードを削除しても実行したグローバル変数は残る<br />\n",
       "  名前空間が汚染される</li>\n",
       "<li>バージョン管理が難しい</li>\n",
       "<li>自由度が高い</li>\n",
       "</ul>\n",
       "    </div>\n",
       "  \n",
       "</div> \n",
       "</div>"
      ],
      "text/plain": [
       "<IPython.core.display.HTML object>"
      ]
     },
     "execution_count": 35,
     "metadata": {},
     "output_type": "execute_result"
    }
   ],
   "source": [
    "%%tsumiki\n",
    "\n",
    ":Markdown:\n",
    "### Notebookの利点と欠点\n",
    "\n",
    ":Markdown::\n",
    "#### 利点\n",
    "* コードブロックごとに実行でき、都度結果を確認できる\n",
    "* マークアップでメモを残せる\n",
    "* データを可視化しやすい\n",
    "* 第三者にわかりやすい形で共有できる\n",
    "* 自由度が高い\n",
    "\n",
    ":Markdown::\n",
    "#### 欠点\n",
    "* コードを削除しても実行したグローバル変数は残る  \n",
    "  名前空間が汚染される\n",
    "* バージョン管理が難しい\n",
    "* 自由度が高い"
   ]
  },
  {
   "cell_type": "markdown",
   "metadata": {
    "slideshow": {
     "slide_type": "slide"
    }
   },
   "source": [
    "# Jupyter Notebookの便利帳"
   ]
  },
  {
   "cell_type": "markdown",
   "metadata": {
    "slideshow": {
     "slide_type": "subslide"
    }
   },
   "source": [
    "#### Shift + Tab\n",
    "\n",
    "![shift+tab](./static/images/shift-tab.png)"
   ]
  },
  {
   "cell_type": "markdown",
   "metadata": {
    "slideshow": {
     "slide_type": "subslide"
    }
   },
   "source": [
    "#### obj?\n",
    "\n",
    "Docstringを確認できる\n",
    "![obj?](./static/images/obj-question.png)"
   ]
  },
  {
   "cell_type": "markdown",
   "metadata": {
    "slideshow": {
     "slide_type": "subslide"
    }
   },
   "source": [
    "#### obj??\n",
    "\n",
    "ソースコードを確認できる\n",
    "![obj?](./static/images/obj-question2.png)"
   ]
  },
  {
   "cell_type": "markdown",
   "metadata": {
    "slideshow": {
     "slide_type": "subslide"
    }
   },
   "source": [
    "#### ?obj.*\n",
    "\n",
    "オブジェクトをワイルドカードで検索できる\n",
    "![?obj*](./static/images/question-obj.png)"
   ]
  },
  {
   "cell_type": "code",
   "execution_count": 8,
   "metadata": {
    "hideCode": true,
    "hide_input": false,
    "slideshow": {
     "slide_type": "subslide"
    },
    "tags": [
     "h"
    ]
   },
   "outputs": [
    {
     "data": {
      "text/html": [
       "<div class=\"tsumiki\">\n",
       "  <style>\n",
       "  .tsumiki .columns2 {\n",
       "    -webkit-columns: 2;\n",
       "    -moz-columns: 2;\n",
       "    -ms-columns: 2;\n",
       "    columns: 2;\n",
       "    display: inline-flex;\n",
       "    align-items: top;\n",
       "    width: 100%;\n",
       "  }\n",
       "\n",
       "\n",
       "  .tsumiki #col0 {\n",
       "      width: calc(100% / 2);\n",
       "  }\n",
       "\n",
       "  .tsumiki #col1 {\n",
       "      width: calc(100% / 2);\n",
       "  }\n",
       "\n",
       "</style>\n",
       "<div class=\"columns2\">\n",
       "  \n",
       "    <div id=\"col1\">\n",
       "    <h4><code>_</code>, <code>__</code>, <code>___</code> (アンダーバー)</h4>\n",
       "<p><code>_</code>: 直前の <strong>実行結果</strong><br />\n",
       "<code>__</code>: 2つ前の <strong>実行結果</strong><br />\n",
       "<code>___</code>: 3つ前の <strong>実行結果</strong><br />\n",
       "<p><br />\n",
       "実行した順番 ≠ セルの順番<br />\n",
       "</p></p>\n",
       "    </div>\n",
       "  \n",
       "    <div id=\"col2\">\n",
       "    <p><img alt=\"obj?\" src=\"./static/images/_,__,___.png\" /></p>\n",
       "    </div>\n",
       "  \n",
       "</div> \n",
       "</div>"
      ],
      "text/plain": [
       "<IPython.core.display.HTML object>"
      ]
     },
     "execution_count": 8,
     "metadata": {},
     "output_type": "execute_result"
    }
   ],
   "source": [
    "%%tsumiki\n",
    "\n",
    ":Markdown::\n",
    "#### `_`, `__`, `___` (アンダーバー)\n",
    "`_`: 直前の **実行結果**\n",
    "`__`: 2つ前の **実行結果**\n",
    "`___`: 3つ前の **実行結果**\n",
    "\n",
    "<p>\n",
    "実行した順番 ≠ セルの順番\n",
    "</p>\n",
    "\n",
    ":Markdown::\n",
    "![obj?](./static/images/_,__,___.png)"
   ]
  },
  {
   "cell_type": "code",
   "execution_count": 9,
   "metadata": {
    "hideCode": true,
    "hide_input": false,
    "slideshow": {
     "slide_type": "subslide"
    },
    "tags": [
     "h"
    ]
   },
   "outputs": [
    {
     "data": {
      "text/html": [
       "<div class=\"tsumiki\">\n",
       "  <style>\n",
       "  .tsumiki .columns2 {\n",
       "    -webkit-columns: 2;\n",
       "    -moz-columns: 2;\n",
       "    -ms-columns: 2;\n",
       "    columns: 2;\n",
       "    display: inline-flex;\n",
       "    align-items: top;\n",
       "    width: 100%;\n",
       "  }\n",
       "\n",
       "\n",
       "  .tsumiki #col0 {\n",
       "      width: calc(100% / 2);\n",
       "  }\n",
       "\n",
       "  .tsumiki #col1 {\n",
       "      width: calc(100% / 2);\n",
       "  }\n",
       "\n",
       "</style>\n",
       "<div class=\"columns2\">\n",
       "  \n",
       "    <div id=\"col1\">\n",
       "    <h4><code>_番号</code></h4>\n",
       "<p><code>_1</code>: セル番号1の実行結果<br />\n",
       "<code>_2</code>: セル番号2の実行結果<br />\n",
       "<code>_3</code>: セル番号3の実行結果</p>\n",
       "    </div>\n",
       "  \n",
       "    <div id=\"col2\">\n",
       "    <p><img alt=\"obj?\" src=\"./static/images/_n.png\" /></p>\n",
       "    </div>\n",
       "  \n",
       "</div> \n",
       "</div>"
      ],
      "text/plain": [
       "<IPython.core.display.HTML object>"
      ]
     },
     "execution_count": 9,
     "metadata": {},
     "output_type": "execute_result"
    }
   ],
   "source": [
    "%%tsumiki\n",
    "\n",
    ":Markdown::\n",
    "#### `_番号`\n",
    "`_1`: セル番号1の実行結果\n",
    "`_2`: セル番号2の実行結果\n",
    "`_3`: セル番号3の実行結果\n",
    "\n",
    ":Markdown::\n",
    "![obj?](./static/images/_n.png)"
   ]
  },
  {
   "cell_type": "code",
   "execution_count": 10,
   "metadata": {
    "hideCode": true,
    "hide_input": false,
    "slideshow": {
     "slide_type": "subslide"
    },
    "tags": [
     "h"
    ]
   },
   "outputs": [
    {
     "data": {
      "text/html": [
       "<div class=\"tsumiki\">\n",
       "  <style>\n",
       "  .tsumiki .columns2 {\n",
       "    -webkit-columns: 2;\n",
       "    -moz-columns: 2;\n",
       "    -ms-columns: 2;\n",
       "    columns: 2;\n",
       "    display: inline-flex;\n",
       "    align-items: top;\n",
       "    width: 100%;\n",
       "  }\n",
       "\n",
       "\n",
       "  .tsumiki #col0 {\n",
       "      width: calc(100% / 2);\n",
       "  }\n",
       "\n",
       "  .tsumiki #col1 {\n",
       "      width: calc(100% / 2);\n",
       "  }\n",
       "\n",
       "</style>\n",
       "<div class=\"columns2\">\n",
       "  \n",
       "    <div id=\"col1\">\n",
       "    <h4><code>_i</code>, <code>_ii</code>, <code>_iii</code></h4>\n",
       "<p><code>_i</code>: 直前に <strong>実行した</strong> 入力<br />\n",
       "<code>_ii</code>: 2つ前に <strong>実行した</strong> 入力<br />\n",
       "<code>_iii</code>: 3つ前に <strong>実行した</strong> 入力<br />\n",
       "<p><br />\n",
       "実行した順番 ≠ セルの順番<br />\n",
       "</p></p>\n",
       "    </div>\n",
       "  \n",
       "    <div id=\"col2\">\n",
       "    <p><img alt=\"obj?\" src=\"./static/images/_i,_ii,_iii.png\" /></p>\n",
       "    </div>\n",
       "  \n",
       "</div> \n",
       "</div>"
      ],
      "text/plain": [
       "<IPython.core.display.HTML object>"
      ]
     },
     "execution_count": 10,
     "metadata": {},
     "output_type": "execute_result"
    }
   ],
   "source": [
    "%%tsumiki\n",
    "\n",
    ":Markdown::\n",
    "#### `_i`, `_ii`, `_iii`\n",
    "`_i`: 直前に **実行した** 入力\n",
    "`_ii`: 2つ前に **実行した** 入力\n",
    "`_iii`: 3つ前に **実行した** 入力\n",
    "\n",
    "<p>\n",
    "実行した順番 ≠ セルの順番\n",
    "</p>\n",
    "\n",
    ":Markdown::\n",
    "![obj?](./static/images/_i,_ii,_iii.png)"
   ]
  },
  {
   "cell_type": "code",
   "execution_count": 11,
   "metadata": {
    "hideCode": true,
    "hide_input": false,
    "slideshow": {
     "slide_type": "subslide"
    },
    "tags": [
     "h"
    ]
   },
   "outputs": [
    {
     "data": {
      "text/html": [
       "<div class=\"tsumiki\">\n",
       "  <style>\n",
       "  .tsumiki .columns2 {\n",
       "    -webkit-columns: 2;\n",
       "    -moz-columns: 2;\n",
       "    -ms-columns: 2;\n",
       "    columns: 2;\n",
       "    display: inline-flex;\n",
       "    align-items: top;\n",
       "    width: 100%;\n",
       "  }\n",
       "\n",
       "\n",
       "  .tsumiki #col0 {\n",
       "      width: calc(100% / 2);\n",
       "  }\n",
       "\n",
       "  .tsumiki #col1 {\n",
       "      width: calc(100% / 2);\n",
       "  }\n",
       "\n",
       "</style>\n",
       "<div class=\"columns2\">\n",
       "  \n",
       "    <div id=\"col1\">\n",
       "    <h4><code>_i1</code>, <code>_i2</code>, <code>_i3</code></h4>\n",
       "<p><code>_i1</code>: セル番号1の入力<br />\n",
       "<code>_i2</code>: セル番号2の入力<br />\n",
       "<code>_i3</code>: セル番号3の入力</p>\n",
       "    </div>\n",
       "  \n",
       "    <div id=\"col2\">\n",
       "    <p><img alt=\"obj?\" src=\"./static/images/_i1,_i2,_i3.png\" /></p>\n",
       "    </div>\n",
       "  \n",
       "</div> \n",
       "</div>"
      ],
      "text/plain": [
       "<IPython.core.display.HTML object>"
      ]
     },
     "execution_count": 11,
     "metadata": {},
     "output_type": "execute_result"
    }
   ],
   "source": [
    "%%tsumiki\n",
    "\n",
    ":Markdown::\n",
    "#### `_i1`, `_i2`, `_i3`\n",
    "`_i1`: セル番号1の入力\n",
    "`_i2`: セル番号2の入力\n",
    "`_i3`: セル番号3の入力\n",
    "\n",
    "\n",
    ":Markdown::\n",
    "![obj?](./static/images/_i1,_i2,_i3.png)"
   ]
  },
  {
   "cell_type": "code",
   "execution_count": 12,
   "metadata": {
    "hideCode": true,
    "hide_input": false,
    "slideshow": {
     "slide_type": "subslide"
    },
    "tags": [
     "h"
    ]
   },
   "outputs": [
    {
     "data": {
      "text/html": [
       "<div class=\"tsumiki\">\n",
       "  <style>\n",
       "  .tsumiki .columns2 {\n",
       "    -webkit-columns: 2;\n",
       "    -moz-columns: 2;\n",
       "    -ms-columns: 2;\n",
       "    columns: 2;\n",
       "    display: inline-flex;\n",
       "    align-items: top;\n",
       "    width: 100%;\n",
       "  }\n",
       "\n",
       "\n",
       "  .tsumiki #col0 {\n",
       "      width: calc(100% / 2);\n",
       "  }\n",
       "\n",
       "  .tsumiki #col1 {\n",
       "      width: calc(100% / 2);\n",
       "  }\n",
       "\n",
       "</style>\n",
       "<div class=\"columns2\">\n",
       "  \n",
       "    <div id=\"col1\">\n",
       "    <h4><code>_dh</code>, <code>_oh</code></h4>\n",
       "<p><code>_dh</code>: Notebookのカレントディレクトリ<br />\n",
       "<code>_oh</code>: セル番号と実行結果の辞書<br />\n",
       "<code>_ih</code>: <strong>入力した順番</strong> リスト</p>\n",
       "    </div>\n",
       "  \n",
       "    <div id=\"col2\">\n",
       "    <p><img alt=\"obj?\" src=\"./static/images/_dh,_oh_ih.png\" /></p>\n",
       "    </div>\n",
       "  \n",
       "</div> \n",
       "</div>"
      ],
      "text/plain": [
       "<IPython.core.display.HTML object>"
      ]
     },
     "execution_count": 12,
     "metadata": {},
     "output_type": "execute_result"
    }
   ],
   "source": [
    "%%tsumiki\n",
    "\n",
    ":Markdown::\n",
    "#### `_dh`, `_oh`\n",
    "`_dh`: Notebookのカレントディレクトリ\n",
    "`_oh`: セル番号と実行結果の辞書\n",
    "`_ih`: **入力した順番** リスト\n",
    "\n",
    ":Markdown::\n",
    "![obj?](./static/images/_dh,_oh_ih.png)"
   ]
  },
  {
   "cell_type": "markdown",
   "metadata": {
    "slideshow": {
     "slide_type": "subslide"
    }
   },
   "source": [
    "#### 標準出力は拾わない"
   ]
  },
  {
   "cell_type": "code",
   "execution_count": 1,
   "metadata": {
    "deletable": false,
    "editable": false,
    "run_control": {
     "frozen": true
    },
    "slideshow": {
     "slide_type": "fragment"
    },
    "tags": [
     "f"
    ]
   },
   "outputs": [
    {
     "name": "stdout",
     "output_type": "stream",
     "text": [
      "1\n"
     ]
    }
   ],
   "source": [
    "print(1)"
   ]
  },
  {
   "cell_type": "code",
   "execution_count": 2,
   "metadata": {
    "deletable": false,
    "editable": false,
    "run_control": {
     "frozen": true
    },
    "slideshow": {
     "slide_type": "fragment"
    },
    "tags": [
     "f"
    ]
   },
   "outputs": [
    {
     "data": {
      "text/plain": [
       "''"
      ]
     },
     "execution_count": 2,
     "metadata": {},
     "output_type": "execute_result"
    }
   ],
   "source": [
    "_"
   ]
  },
  {
   "cell_type": "markdown",
   "metadata": {
    "slideshow": {
     "slide_type": "subslide"
    }
   },
   "source": [
    "#### 事例:データの前処理\n",
    "* `,`を取り除く\n",
    "* 型変換する\n",
    "* 線形補間する"
   ]
  },
  {
   "cell_type": "code",
   "execution_count": 35,
   "metadata": {
    "deletable": false,
    "editable": false,
    "run_control": {
     "frozen": true
    },
    "slideshow": {
     "slide_type": "fragment"
    },
    "tags": [
     "f"
    ]
   },
   "outputs": [
    {
     "data": {
      "text/plain": [
       "0     1000\n",
       "1    2,000\n",
       "2      NaN\n",
       "3    4,000\n",
       "dtype: object"
      ]
     },
     "execution_count": 35,
     "metadata": {},
     "output_type": "execute_result"
    }
   ],
   "source": [
    "data = pd.Series(['1000', '2,000', np.nan, '4,000'])\n",
    "data"
   ]
  },
  {
   "cell_type": "markdown",
   "metadata": {
    "slideshow": {
     "slide_type": "subslide"
    }
   },
   "source": [
    "#### 通常の処理1\n",
    "メソッドをつないでいく(チェーン)  \n",
    "`data.method().method().method()...`  \n",
    "* 途中経過がわからない\n",
    "* 間の処理の問題を気づきにくい"
   ]
  },
  {
   "cell_type": "markdown",
   "metadata": {
    "slideshow": {
     "slide_type": "subslide"
    }
   },
   "source": [
    "#### 通常の処理2\n",
    "別オブジェクトに格納していく\n",
    "\n",
    "`do_something1 = data.method()`  \n",
    "`do_something2 = do_something1.method()`  \n",
    "`do_something3 = do_something2.method()`\n",
    "\n",
    "* オブジェクト名を決めるのが大変  \n",
    "  - 名前のバッティング\n",
    "  - 意味のある名前をつけようとすると大抵長くなる"
   ]
  },
  {
   "cell_type": "markdown",
   "metadata": {
    "slideshow": {
     "slide_type": "subslide"
    }
   },
   "source": [
    "#### _の活用例\n",
    "`,`を取り除く"
   ]
  },
  {
   "cell_type": "code",
   "execution_count": 36,
   "metadata": {
    "deletable": false,
    "editable": false,
    "run_control": {
     "frozen": true
    },
    "slideshow": {
     "slide_type": "fragment"
    },
    "tags": [
     "f"
    ]
   },
   "outputs": [
    {
     "data": {
      "text/plain": [
       "0    1000\n",
       "1    2000\n",
       "2     NaN\n",
       "3    4000\n",
       "dtype: object"
      ]
     },
     "execution_count": 36,
     "metadata": {},
     "output_type": "execute_result"
    }
   ],
   "source": [
    "_.str.replace(\",\", \"\")"
   ]
  },
  {
   "cell_type": "markdown",
   "metadata": {
    "slideshow": {
     "slide_type": "subslide"
    }
   },
   "source": [
    "#### _の活用例\n",
    "型変換する"
   ]
  },
  {
   "cell_type": "code",
   "execution_count": 37,
   "metadata": {
    "deletable": false,
    "editable": false,
    "run_control": {
     "frozen": true
    },
    "slideshow": {
     "slide_type": "fragment"
    },
    "tags": [
     "f"
    ]
   },
   "outputs": [
    {
     "data": {
      "text/plain": [
       "0    1000.0\n",
       "1    2000.0\n",
       "2       NaN\n",
       "3    4000.0\n",
       "dtype: float64"
      ]
     },
     "execution_count": 37,
     "metadata": {},
     "output_type": "execute_result"
    }
   ],
   "source": [
    "_.astype(float)"
   ]
  },
  {
   "cell_type": "markdown",
   "metadata": {
    "slideshow": {
     "slide_type": "subslide"
    }
   },
   "source": [
    "#### _の活用例\n",
    "線形補間する"
   ]
  },
  {
   "cell_type": "code",
   "execution_count": 38,
   "metadata": {
    "deletable": false,
    "editable": false,
    "run_control": {
     "frozen": true
    },
    "slideshow": {
     "slide_type": "fragment"
    },
    "tags": [
     "f"
    ]
   },
   "outputs": [
    {
     "data": {
      "text/plain": [
       "0    1000.0\n",
       "1    2000.0\n",
       "2    3000.0\n",
       "3    4000.0\n",
       "dtype: float64"
      ]
     },
     "execution_count": 38,
     "metadata": {},
     "output_type": "execute_result"
    }
   ],
   "source": [
    "_.interpolate()"
   ]
  },
  {
   "cell_type": "markdown",
   "metadata": {
    "slideshow": {
     "slide_type": "subslide"
    }
   },
   "source": [
    "#### まとめ\n",
    "* 最終的には下記のようにつなげればよいことがわかる\n",
    "* 途中経過を確認できる"
   ]
  },
  {
   "cell_type": "code",
   "execution_count": 39,
   "metadata": {
    "deletable": false,
    "editable": false,
    "run_control": {
     "frozen": true
    },
    "slideshow": {
     "slide_type": "fragment"
    },
    "tags": [
     "f"
    ]
   },
   "outputs": [
    {
     "data": {
      "text/plain": [
       "'.str.replace(\",\", \"\").astype(float).interpolate()'"
      ]
     },
     "execution_count": 39,
     "metadata": {},
     "output_type": "execute_result"
    }
   ],
   "source": [
    "\"\".join((_iii, _ii, _i)).replace(\"_\", \"\")\n",
    "# このような書き方も\n",
    "# \"\".join(_ih[start:end]).replace(\"_\", \"\")"
   ]
  },
  {
   "cell_type": "markdown",
   "metadata": {
    "slideshow": {
     "slide_type": "slide"
    }
   },
   "source": [
    "#### !, !!\n",
    "\n",
    "* `!`を行頭につけるとOSのコマンドが実行できる\n",
    "* `!!`上記の機能に加え、結果をリストに格納できる"
   ]
  },
  {
   "cell_type": "markdown",
   "metadata": {
    "slideshow": {
     "slide_type": "subslide"
    }
   },
   "source": [
    "#### !の例"
   ]
  },
  {
   "cell_type": "code",
   "execution_count": 1,
   "metadata": {
    "deletable": false,
    "editable": false,
    "run_control": {
     "frozen": true
    },
    "slideshow": {
     "slide_type": "fragment"
    },
    "tags": [
     "f"
    ]
   },
   "outputs": [
    {
     "name": "stdout",
     "output_type": "stream",
     "text": [
      "file1.csv  file2.csv\r\n"
     ]
    }
   ],
   "source": [
    "!ls sample"
   ]
  },
  {
   "cell_type": "code",
   "execution_count": 2,
   "metadata": {
    "deletable": false,
    "editable": false,
    "run_control": {
     "frozen": true
    },
    "slideshow": {
     "slide_type": "fragment"
    },
    "tags": [
     "f"
    ]
   },
   "outputs": [
    {
     "name": "stdout",
     "output_type": "stream",
     "text": [
      "111,222,333\r\n",
      "100,200,300"
     ]
    }
   ],
   "source": [
    "!cat sample/file1.csv"
   ]
  },
  {
   "cell_type": "markdown",
   "metadata": {
    "slideshow": {
     "slide_type": "subslide"
    }
   },
   "source": [
    "#### !!の例"
   ]
  },
  {
   "cell_type": "code",
   "execution_count": 19,
   "metadata": {
    "deletable": false,
    "editable": false,
    "run_control": {
     "frozen": true
    },
    "slideshow": {
     "slide_type": "fragment"
    },
    "tags": [
     "f"
    ]
   },
   "outputs": [
    {
     "data": {
      "text/plain": [
       "['111,222,333', '100,200,300']"
      ]
     },
     "execution_count": 19,
     "metadata": {},
     "output_type": "execute_result"
    }
   ],
   "source": [
    "!!cat sample/file1.csv"
   ]
  },
  {
   "cell_type": "code",
   "execution_count": 20,
   "metadata": {
    "deletable": false,
    "editable": false,
    "run_control": {
     "frozen": true
    },
    "slideshow": {
     "slide_type": "subslide"
    },
    "tags": [
     "f"
    ]
   },
   "outputs": [
    {
     "data": {
      "text/plain": [
       "['procs -----------memory---------- ---swap-- -----io---- -system-- ------cpu-----',\n",
       " ' r  b   swpd   free   buff  cache   si   so    bi    bo   in   cs us sy id wa st',\n",
       " ' 1  1      0 2668600 314112 1320540    0    0    90    33  174  491 10  1 88  1  0',\n",
       " ' 0  0      0 2667608 314112 1320548    0    0     0  1068  532 1198  8  1 92  0  0',\n",
       " ' 0  0      0 2671288 314112 1317072    0    0     4     0  444 1584  3  1 96  0  0']"
      ]
     },
     "execution_count": 20,
     "metadata": {},
     "output_type": "execute_result"
    }
   ],
   "source": [
    "!!vmstat 1 3"
   ]
  },
  {
   "cell_type": "code",
   "execution_count": 21,
   "metadata": {
    "deletable": false,
    "editable": false,
    "run_control": {
     "frozen": true
    },
    "slideshow": {
     "slide_type": "fragment"
    },
    "tags": [
     "f"
    ]
   },
   "outputs": [
    {
     "data": {
      "text/html": [
       "<div>\n",
       "<style scoped>\n",
       "    .dataframe tbody tr th:only-of-type {\n",
       "        vertical-align: middle;\n",
       "    }\n",
       "\n",
       "    .dataframe tbody tr th {\n",
       "        vertical-align: top;\n",
       "    }\n",
       "\n",
       "    .dataframe thead th {\n",
       "        text-align: right;\n",
       "    }\n",
       "</style>\n",
       "<table border=\"1\" class=\"dataframe\">\n",
       "  <thead>\n",
       "    <tr style=\"text-align: right;\">\n",
       "      <th></th>\n",
       "      <th>r</th>\n",
       "      <th>b</th>\n",
       "      <th>swpd</th>\n",
       "      <th>free</th>\n",
       "      <th>buff</th>\n",
       "      <th>cache</th>\n",
       "      <th>si</th>\n",
       "      <th>so</th>\n",
       "      <th>bi</th>\n",
       "      <th>bo</th>\n",
       "      <th>in</th>\n",
       "      <th>cs</th>\n",
       "      <th>us</th>\n",
       "      <th>sy</th>\n",
       "      <th>id</th>\n",
       "      <th>wa</th>\n",
       "      <th>st</th>\n",
       "    </tr>\n",
       "  </thead>\n",
       "  <tbody>\n",
       "    <tr>\n",
       "      <th>0</th>\n",
       "      <td>1</td>\n",
       "      <td>1</td>\n",
       "      <td>0</td>\n",
       "      <td>2668600</td>\n",
       "      <td>314112</td>\n",
       "      <td>1320540</td>\n",
       "      <td>0</td>\n",
       "      <td>0</td>\n",
       "      <td>90</td>\n",
       "      <td>33</td>\n",
       "      <td>174</td>\n",
       "      <td>491</td>\n",
       "      <td>10</td>\n",
       "      <td>1</td>\n",
       "      <td>88</td>\n",
       "      <td>1</td>\n",
       "      <td>0</td>\n",
       "    </tr>\n",
       "    <tr>\n",
       "      <th>1</th>\n",
       "      <td>0</td>\n",
       "      <td>0</td>\n",
       "      <td>0</td>\n",
       "      <td>2667608</td>\n",
       "      <td>314112</td>\n",
       "      <td>1320548</td>\n",
       "      <td>0</td>\n",
       "      <td>0</td>\n",
       "      <td>0</td>\n",
       "      <td>1068</td>\n",
       "      <td>532</td>\n",
       "      <td>1198</td>\n",
       "      <td>8</td>\n",
       "      <td>1</td>\n",
       "      <td>92</td>\n",
       "      <td>0</td>\n",
       "      <td>0</td>\n",
       "    </tr>\n",
       "    <tr>\n",
       "      <th>2</th>\n",
       "      <td>0</td>\n",
       "      <td>0</td>\n",
       "      <td>0</td>\n",
       "      <td>2671288</td>\n",
       "      <td>314112</td>\n",
       "      <td>1317072</td>\n",
       "      <td>0</td>\n",
       "      <td>0</td>\n",
       "      <td>4</td>\n",
       "      <td>0</td>\n",
       "      <td>444</td>\n",
       "      <td>1584</td>\n",
       "      <td>3</td>\n",
       "      <td>1</td>\n",
       "      <td>96</td>\n",
       "      <td>0</td>\n",
       "      <td>0</td>\n",
       "    </tr>\n",
       "  </tbody>\n",
       "</table>\n",
       "</div>"
      ],
      "text/plain": [
       "   r  b swpd     free    buff    cache si so  bi    bo   in    cs  us sy  id  \\\n",
       "0  1  1    0  2668600  314112  1320540  0  0  90    33  174   491  10  1  88   \n",
       "1  0  0    0  2667608  314112  1320548  0  0   0  1068  532  1198   8  1  92   \n",
       "2  0  0    0  2671288  314112  1317072  0  0   4     0  444  1584   3  1  96   \n",
       "\n",
       "  wa st  \n",
       "0  1  0  \n",
       "1  0  0  \n",
       "2  0  0  "
      ]
     },
     "execution_count": 21,
     "metadata": {},
     "output_type": "execute_result"
    }
   ],
   "source": [
    "pd.DataFrame([x.split() for x in _][2:], columns=_[1].split())"
   ]
  },
  {
   "cell_type": "markdown",
   "metadata": {
    "slideshow": {
     "slide_type": "slide"
    }
   },
   "source": [
    "# マジックコマンド"
   ]
  },
  {
   "cell_type": "markdown",
   "metadata": {
    "slideshow": {
     "slide_type": "subslide"
    }
   },
   "source": [
    "### マジックコマンドとは\n",
    "* IPython独自のコマンド\n",
    "* line magic: 1行で実行するコマンド\n",
    "* cell magic: セル全体に適用されるコマンド"
   ]
  },
  {
   "cell_type": "markdown",
   "metadata": {
    "slideshow": {
     "slide_type": "subslide"
    }
   },
   "source": [
    "### line magic"
   ]
  },
  {
   "cell_type": "markdown",
   "metadata": {
    "slideshow": {
     "slide_type": "subslide"
    }
   },
   "source": [
    "### マジックコマンドのリファレンス\n",
    "\n",
    "* %magic  \n",
    "  すべてのマジックコマンドのリファレンス\n",
    "* %lsmagic  \n",
    "  マジックコマンドのリスト\n",
    "* %quickref  \n",
    "  IPythonのクイックリファレンス"
   ]
  },
  {
   "cell_type": "code",
   "execution_count": 13,
   "metadata": {
    "hideCode": true,
    "hide_input": false,
    "slideshow": {
     "slide_type": "subslide"
    },
    "tags": [
     "h"
    ]
   },
   "outputs": [
    {
     "data": {
      "text/html": [
       "<div class=\"tsumiki\">\n",
       "  <style>\n",
       "  .tsumiki .columns1 {\n",
       "    margin-bottom: 12px;\n",
       "  }\n",
       "</style>\n",
       "<h3>OS関連</h3>\n",
       "<style>\n",
       "  .tsumiki .columns2 {\n",
       "    -webkit-columns: 2;\n",
       "    -moz-columns: 2;\n",
       "    -ms-columns: 2;\n",
       "    columns: 2;\n",
       "    display: inline-flex;\n",
       "    align-items: top;\n",
       "    width: 100%;\n",
       "  }\n",
       "\n",
       "\n",
       "  .tsumiki #col0 {\n",
       "      width: calc(100% / 2);\n",
       "  }\n",
       "\n",
       "  .tsumiki #col1 {\n",
       "      width: calc(100% / 2);\n",
       "  }\n",
       "\n",
       "</style>\n",
       "<div class=\"columns2\">\n",
       "  \n",
       "    <div id=\"col1\">\n",
       "    <h4>ディレクトリ</h4>\n",
       "<ul>\n",
       "<li>%cd, %pwd, </li>\n",
       "</ul>\n",
       "<h4>ファイル・ディレクトリ操作</h4>\n",
       "<ul>\n",
       "<li>%cp, %mv, %rm, %rmdir</li>\n",
       "</ul>\n",
       "<h4>ls</h4>\n",
       "<ul>\n",
       "<li>%ldir, %lf, %lk, %ll, %ls, %lx</li>\n",
       "</ul>\n",
       "    </div>\n",
       "  \n",
       "    <div id=\"col2\">\n",
       "    <h4>ファイルの内容</h4>\n",
       "<ul>\n",
       "<li>%cat, %less, %more</li>\n",
       "</ul>\n",
       "<h4>man</h4>\n",
       "<ul>\n",
       "<li>%man</li>\n",
       "</ul>\n",
       "<h4>環境変数</h4>\n",
       "<ul>\n",
       "<li>%env, %set_env</li>\n",
       "</ul>\n",
       "    </div>\n",
       "  \n",
       "</div> \n",
       "</div>"
      ],
      "text/plain": [
       "<IPython.core.display.HTML object>"
      ]
     },
     "execution_count": 13,
     "metadata": {},
     "output_type": "execute_result"
    }
   ],
   "source": [
    "%%tsumiki\n",
    "\n",
    ":Markdown:\n",
    "### OS関連\n",
    "\n",
    ":Markdown::\n",
    "#### ディレクトリ  \n",
    "* %cd, %pwd, \n",
    "#### ファイル・ディレクトリ操作\n",
    "* %cp, %mv, %rm, %rmdir\n",
    "#### ls\n",
    "* %ldir, %lf, %lk, %ll, %ls, %lx\n",
    "\n",
    ":Markdown::\n",
    "#### ファイルの内容\n",
    "* %cat, %less, %more\n",
    "#### man\n",
    "* %man\n",
    "#### 環境変数\n",
    "* %env, %set_env"
   ]
  },
  {
   "cell_type": "markdown",
   "metadata": {
    "slideshow": {
     "slide_type": "subslide"
    }
   },
   "source": [
    "#### OS関連\n",
    "\n",
    "* `!`で代用できるコマンドだがOS依存がなくなる  \n",
    "  Windowsで`ls`や`cat`が気軽にできる！\n",
    "* 結果をオブジェクトに格納できるコマンドがある  \n",
    "  - %pwd -> str\n",
    "  - %env -> dict"
   ]
  },
  {
   "cell_type": "markdown",
   "metadata": {
    "slideshow": {
     "slide_type": "subslide"
    }
   },
   "source": [
    "### 名前空間関連\n",
    "\n",
    "* %who, %who_ls, %whos\n",
    "* %reset, %reset_selective, %xdel\n",
    "* %psearch\n",
    "* %pinfo, %pinfo2"
   ]
  },
  {
   "cell_type": "markdown",
   "metadata": {
    "slideshow": {
     "slide_type": "subslide"
    }
   },
   "source": [
    "### 名前空間関連\n",
    "\n",
    "* Notebook上では名前空間が汚染されることが多い  \n",
    "  - 一度セルを実行すると、対象のセルを残してもオブジェクトは残る\n",
    "  - 意図せぬ結果となりバグの温床に\n",
    "* マジックコマンドでオブジェクトを管理\n",
    "  - 一覧\n",
    "  - 検索\n",
    "  - 情報取得\n",
    "  - 消去、リセット"
   ]
  },
  {
   "cell_type": "markdown",
   "metadata": {
    "slideshow": {
     "slide_type": "subslide"
    }
   },
   "source": [
    "#### %whos\n",
    "`__name__`などの特殊なオブジェクトは出てこない"
   ]
  },
  {
   "cell_type": "code",
   "execution_count": 1,
   "metadata": {
    "deletable": false,
    "editable": false,
    "run_control": {
     "frozen": true
    },
    "slideshow": {
     "slide_type": "fragment"
    },
    "tags": [
     "f"
    ]
   },
   "outputs": [
    {
     "name": "stdout",
     "output_type": "stream",
     "text": [
      "Variable   Type      Data/Info\n",
      "------------------------------\n",
      "black      module    <module 'black' from '/ho<...>/site-packages/black.py'>\n",
      "i          int       1\n",
      "isort      module    <module 'isort' from '/ho<...>kages/isort/__init__.py'>\n",
      "json       module    <module 'json' from '/usr<...>hon3.6/json/__init__.py'>\n",
      "s          str       a\n"
     ]
    }
   ],
   "source": [
    "i = 1\n",
    "s = \"a\"\n",
    "%whos"
   ]
  },
  {
   "cell_type": "markdown",
   "metadata": {
    "slideshow": {
     "slide_type": "subslide"
    }
   },
   "source": [
    "### デバッグ関連\n",
    "\n",
    "* %debug, %pdb\n",
    "\n",
    "### プロファイル関連\n",
    "\n",
    "* %prun"
   ]
  },
  {
   "cell_type": "markdown",
   "metadata": {
    "slideshow": {
     "slide_type": "subslide"
    }
   },
   "source": [
    "#### %prun\n",
    "\n",
    "![prun](./static/images/prun.png)"
   ]
  },
  {
   "cell_type": "markdown",
   "metadata": {
    "slideshow": {
     "slide_type": "subslide"
    }
   },
   "source": [
    "### 実行関連\n",
    "\n",
    "* %run, %rerun, %rep, %recall\n",
    "* %sc, %sx, %system\n",
    "* %time, %timeit"
   ]
  },
  {
   "cell_type": "markdown",
   "metadata": {},
   "source": [
    "##### %run\n",
    "\n",
    "* Pythonのモジュールをそのまま実行できる\n",
    "* 名前空間がNotebook上に展開される  \n",
    "  モジュールにある関数などをそのまま実行できる"
   ]
  },
  {
   "cell_type": "markdown",
   "metadata": {},
   "source": [
    "#### %system, %sx, %sc\n",
    "\n",
    "* %system, %sx  \n",
    "  `!!`と等価  \n",
    "  コマンドの実行結果をリストに取り込める\n",
    "* %sc  \n",
    "  %sxよりも詳細な挙動を設定できる\n",
    "  - `-l`:結果をリストに格納\n",
    "  - `-s`:空白文字をセパレータとして処理"
   ]
  },
  {
   "cell_type": "markdown",
   "metadata": {},
   "source": [
    "#### %time, %timeit\n",
    "\n",
    "* %time  \n",
    "  コードの実行時間を出力\n",
    "* %timeit  \n",
    "  コードを複数回実行して統計した結果を出力  \n",
    "  さまざまなオプションを設定できる"
   ]
  },
  {
   "cell_type": "markdown",
   "metadata": {
    "slideshow": {
     "slide_type": "subslide"
    }
   },
   "source": [
    "### 拡張関連\n",
    "\n",
    "* %load_ext  \n",
    "  サードパーティ製のマジックコマンドを呼び出す  \n",
    "  マジックコマンドはPythonで自作できる\n",
    "* %unload_ext\n",
    "  ロードしたマジックコマンドをアンロード"
   ]
  },
  {
   "cell_type": "markdown",
   "metadata": {
    "slideshow": {
     "slide_type": "subslide"
    }
   },
   "source": [
    "### cell magic"
   ]
  },
  {
   "cell_type": "markdown",
   "metadata": {
    "slideshow": {
     "slide_type": "subslide"
    }
   },
   "source": [
    "#### %%writefile, %%file\n",
    "* セルに記述した内容をファイルに書き出す\n",
    "* モジュール化したい場合などに便利\n",
    "* 外部データやモジュールが必用な場合でも、1つのNotebookで完結できる\n",
    "  -> 配布が楽"
   ]
  },
  {
   "cell_type": "code",
   "execution_count": 1,
   "metadata": {
    "deletable": false,
    "editable": false,
    "run_control": {
     "frozen": true
    },
    "slideshow": {
     "slide_type": "fragment"
    },
    "tags": [
     "f"
    ]
   },
   "outputs": [
    {
     "name": "stdout",
     "output_type": "stream",
     "text": [
      "Writing sample/hello.py\n"
     ]
    }
   ],
   "source": [
    "%%writefile sample/hello.py\n",
    "\n",
    "def func():\n",
    "    return \"hello world\""
   ]
  },
  {
   "cell_type": "code",
   "execution_count": 2,
   "metadata": {
    "deletable": false,
    "editable": false,
    "run_control": {
     "frozen": true
    },
    "slideshow": {
     "slide_type": "fragment"
    },
    "tags": [
     "f"
    ]
   },
   "outputs": [
    {
     "data": {
      "text/plain": [
       "'hello world'"
      ]
     },
     "execution_count": 2,
     "metadata": {},
     "output_type": "execute_result"
    }
   ],
   "source": [
    "from sample import hello\n",
    "\n",
    "hello.func()"
   ]
  },
  {
   "cell_type": "markdown",
   "metadata": {
    "slideshow": {
     "slide_type": "subslide"
    }
   },
   "source": [
    "#### %%time, %%timeit\n",
    "\n",
    "`%time`, `%timeit`をセル全体に対して実行できる"
   ]
  },
  {
   "cell_type": "markdown",
   "metadata": {
    "slideshow": {
     "slide_type": "subslide"
    }
   },
   "source": [
    "#### %%!, %%system, %%sx\n",
    "\n",
    "`!!`, `%system`, `%sx`をセル全体に対して実行できる"
   ]
  },
  {
   "cell_type": "code",
   "execution_count": 5,
   "metadata": {
    "deletable": false,
    "editable": false,
    "run_control": {
     "frozen": true
    },
    "slideshow": {
     "slide_type": "fragment"
    },
    "tags": [
     "f"
    ]
   },
   "outputs": [
    {
     "data": {
      "text/plain": [
       "['111,222,333', '100,200,300', 'AAA,BBB,CCC']"
      ]
     },
     "execution_count": 5,
     "metadata": {},
     "output_type": "execute_result"
    }
   ],
   "source": [
    "%%sx\n",
    "\n",
    "cat sample/file1.csv\n",
    "echo\n",
    "cat sample/file2.csv"
   ]
  },
  {
   "cell_type": "markdown",
   "metadata": {
    "slideshow": {
     "slide_type": "subslide"
    }
   },
   "source": [
    "#### %%capture\n",
    "\n",
    "標準出力と標準エラーをオブジェクトに格納できる"
   ]
  },
  {
   "cell_type": "code",
   "execution_count": 6,
   "metadata": {
    "deletable": false,
    "editable": false,
    "run_control": {
     "frozen": true
    },
    "slideshow": {
     "slide_type": "fragment"
    },
    "tags": [
     "f"
    ]
   },
   "outputs": [],
   "source": [
    "%%capture capture_out\n",
    "\n",
    "print(1)"
   ]
  },
  {
   "cell_type": "code",
   "execution_count": 7,
   "metadata": {
    "deletable": false,
    "editable": false,
    "run_control": {
     "frozen": true
    },
    "slideshow": {
     "slide_type": "fragment"
    },
    "tags": [
     "f"
    ]
   },
   "outputs": [
    {
     "data": {
      "text/plain": [
       "'1\\n'"
      ]
     },
     "execution_count": 7,
     "metadata": {},
     "output_type": "execute_result"
    }
   ],
   "source": [
    "capture_out.stdout"
   ]
  },
  {
   "cell_type": "markdown",
   "metadata": {
    "slideshow": {
     "slide_type": "subslide"
    }
   },
   "source": [
    "#### %%bash\n",
    "bashを実行する"
   ]
  },
  {
   "cell_type": "code",
   "execution_count": 8,
   "metadata": {
    "deletable": false,
    "editable": false,
    "run_control": {
     "frozen": true
    },
    "slideshow": {
     "slide_type": "fragment"
    },
    "tags": [
     "f"
    ]
   },
   "outputs": [
    {
     "name": "stdout",
     "output_type": "stream",
     "text": [
      "111,222,333\n",
      "100,200,300\n"
     ]
    }
   ],
   "source": [
    "%%bash\n",
    "\n",
    "for file in sample/*.csv\n",
    "do\n",
    "  grep 1 $file\n",
    "done"
   ]
  },
  {
   "cell_type": "markdown",
   "metadata": {
    "slideshow": {
     "slide_type": "subslide"
    }
   },
   "source": [
    "#### %%python2\n",
    "python2のコードを実行する"
   ]
  },
  {
   "cell_type": "code",
   "execution_count": 15,
   "metadata": {
    "deletable": false,
    "editable": false,
    "run_control": {
     "frozen": true
    },
    "slideshow": {
     "slide_type": "fragment"
    },
    "tags": [
     "f"
    ]
   },
   "outputs": [
    {
     "name": "stdout",
     "output_type": "stream",
     "text": [
      "[0, 1, 2]\n"
     ]
    }
   ],
   "source": [
    "%%python2\n",
    "\n",
    "def func():\n",
    "    yield 1\n",
    "\n",
    "func().next()\n",
    "print range(3)"
   ]
  },
  {
   "cell_type": "markdown",
   "metadata": {
    "slideshow": {
     "slide_type": "subslide"
    }
   },
   "source": [
    "#### %%pypy\n",
    "\n",
    "* PythonのコードをPyPyから実行する\n",
    "* `pypy3`ではなく`pypy`を呼び出す  \n",
    "  `pypy3`にする場合にはPATHを工夫する"
   ]
  },
  {
   "cell_type": "markdown",
   "metadata": {
    "slideshow": {
     "slide_type": "subslide"
    }
   },
   "source": [
    "#### Pythonで実行した場合"
   ]
  },
  {
   "cell_type": "code",
   "execution_count": 1,
   "metadata": {
    "deletable": false,
    "editable": false,
    "run_control": {
     "frozen": true
    },
    "slideshow": {
     "slide_type": "fragment"
    },
    "tags": [
     "f"
    ]
   },
   "outputs": [
    {
     "name": "stdout",
     "output_type": "stream",
     "text": [
      "0.5433800220489502\n"
     ]
    }
   ],
   "source": [
    "import time\n",
    "\n",
    "start = time.time()\n",
    "for x in range(1000000):\n",
    "    x ** 2\n",
    "\n",
    "print(time.time() - start)"
   ]
  },
  {
   "cell_type": "markdown",
   "metadata": {
    "slideshow": {
     "slide_type": "subslide"
    }
   },
   "source": [
    "#### PyPyで実行した場合"
   ]
  },
  {
   "cell_type": "code",
   "execution_count": 2,
   "metadata": {
    "deletable": false,
    "editable": false,
    "run_control": {
     "frozen": true
    },
    "slideshow": {
     "slide_type": "fragment"
    },
    "tags": [
     "f"
    ]
   },
   "outputs": [
    {
     "name": "stdout",
     "output_type": "stream",
     "text": [
      "0.0037856101989746094\n"
     ]
    }
   ],
   "source": [
    "%%pypy\n",
    "\n",
    "import time\n",
    "\n",
    "start = time.time()\n",
    "for x in range(1000000):\n",
    "    x ** 2\n",
    "\n",
    "print(time.time() - start)"
   ]
  },
  {
   "cell_type": "markdown",
   "metadata": {
    "slideshow": {
     "slide_type": "fragment"
    }
   },
   "source": [
    "実行速度が**143**倍に！"
   ]
  },
  {
   "cell_type": "markdown",
   "metadata": {
    "slideshow": {
     "slide_type": "subslide"
    }
   },
   "source": [
    "#### %%javascript, %%js\n",
    "JavaScriptのコードを実行"
   ]
  },
  {
   "cell_type": "code",
   "execution_count": 4,
   "metadata": {
    "deletable": false,
    "editable": false,
    "run_control": {
     "frozen": true
    },
    "slideshow": {
     "slide_type": "fragment"
    },
    "tags": [
     "f"
    ]
   },
   "outputs": [
    {
     "data": {
      "application/javascript": [
       "\n",
       "function fizzbuzz(n) {\n",
       "    if (n % 3 == 0 && n % 5 == 0) return \"Fizz,Buzz\";\n",
       "    else if (n % 3 == 0) return \"Fizz\";\n",
       "    else if (n % 5 == 0) return \"Buzz\";\n",
       "    else return;\n",
       "}\n",
       "\n",
       "console.log(element.text(fizzbuzz(5)))"
      ],
      "text/plain": [
       "<IPython.core.display.Javascript object>"
      ]
     },
     "metadata": {},
     "output_type": "display_data"
    }
   ],
   "source": [
    "%%javascript\n",
    "\n",
    "function fizzbuzz(n) {\n",
    "    if (n % 3 == 0 && n % 5 == 0) return \"Fizz,Buzz\";\n",
    "    else if (n % 3 == 0) return \"Fizz\";\n",
    "    else if (n % 5 == 0) return \"Buzz\";\n",
    "    else return n;\n",
    "}\n",
    "\n",
    "console.log(element.text(fizzbuzz(5)))"
   ]
  },
  {
   "cell_type": "markdown",
   "metadata": {
    "slideshow": {
     "slide_type": "subslide"
    }
   },
   "source": [
    "#### %%ruby\n",
    "Rubyのコードを実行"
   ]
  },
  {
   "cell_type": "code",
   "execution_count": 5,
   "metadata": {
    "deletable": false,
    "editable": false,
    "run_control": {
     "frozen": true
    },
    "slideshow": {
     "slide_type": "fragment"
    },
    "tags": [
     "f"
    ]
   },
   "outputs": [
    {
     "name": "stdout",
     "output_type": "stream",
     "text": [
      "Fizz\n"
     ]
    }
   ],
   "source": [
    "%%ruby\n",
    "\n",
    "def fizzbuzz(n)\n",
    "    if n%15==0\n",
    "        return \"FizzBuzz\"\n",
    "    elsif n%3==0\n",
    "        return \"Fizz\"\n",
    "    elsif n%5==0 \n",
    "        return \"Buzz\"\n",
    "    else\n",
    "        return n\n",
    "    end\n",
    "end\n",
    "\n",
    "puts fizzbuzz(3)"
   ]
  },
  {
   "cell_type": "markdown",
   "metadata": {
    "slideshow": {
     "slide_type": "subslide"
    }
   },
   "source": [
    "#### %%perl\n",
    "Perlのコードを実行"
   ]
  },
  {
   "cell_type": "code",
   "execution_count": 6,
   "metadata": {
    "deletable": false,
    "editable": false,
    "run_control": {
     "frozen": true
    },
    "slideshow": {
     "slide_type": "fragment"
    },
    "tags": [
     "f"
    ]
   },
   "outputs": [
    {
     "name": "stdout",
     "output_type": "stream",
     "text": [
      "Fizz,Buzz"
     ]
    }
   ],
   "source": [
    "%%perl\n",
    "\n",
    "sub fizzbuzz {\n",
    "    my ($n) = @_;\n",
    "    if ( $n % 3 == 0 && $n % 5 == 0 ) {\n",
    "        return \"Fizz,Buzz\";\n",
    "    }\n",
    "    elsif ( $n % 3 == 0 ) {\n",
    "        print \"Fizz\";\n",
    "    }\n",
    "    elsif ( $n % 5 == 0 ) {\n",
    "        return \"Buzz\";\n",
    "    }\n",
    "    else {\n",
    "        return $n;\n",
    "    }\n",
    "}\n",
    "\n",
    "print fizzbuzz(15)"
   ]
  },
  {
   "cell_type": "markdown",
   "metadata": {
    "slideshow": {
     "slide_type": "subslide"
    }
   },
   "source": [
    "#### %%script\n",
    "\n",
    "* 引数をシバン(#!)のように扱える  \n",
    "  つまり、なんでもできる"
   ]
  },
  {
   "cell_type": "markdown",
   "metadata": {
    "slideshow": {
     "slide_type": "subslide"
    }
   },
   "source": [
    "juliaの実行例"
   ]
  },
  {
   "cell_type": "code",
   "execution_count": 7,
   "metadata": {
    "deletable": false,
    "editable": false,
    "run_control": {
     "frozen": true
    },
    "slideshow": {
     "slide_type": "fragment"
    },
    "tags": [
     "f"
    ]
   },
   "outputs": [
    {
     "name": "stdout",
     "output_type": "stream",
     "text": [
      "fizzbuzz (generic function with 1 method)\n",
      "3\n"
     ]
    }
   ],
   "source": [
    "%%script julia\n",
    "\n",
    "function fizzbuzz(n)\n",
    "    if n % 15 == 0\n",
    "        println(\"fizzbuzz\")\n",
    "    elseif n % 5 == 0\n",
    "        println(\"buzz\")\n",
    "    elseif n % 3 == 0\n",
    "        println(\"fizz\")\n",
    "    else\n",
    "        println(n)\n",
    "    end\n",
    "end \n",
    "\n",
    "println(3)"
   ]
  },
  {
   "cell_type": "markdown",
   "metadata": {
    "slideshow": {
     "slide_type": "subslide"
    }
   },
   "source": [
    "#### display関連\n",
    "セルに記述された内容をレンダリングして出力  \n",
    "詳細は`IPython.display`で解説\n",
    "* %%HTML, %%html\n",
    "* %%SVG, %%svg\n",
    "* %%markdown\n",
    "* %%latex"
   ]
  },
  {
   "cell_type": "markdown",
   "metadata": {
    "slideshow": {
     "slide_type": "slide"
    }
   },
   "source": [
    "## Jupyter NotebookでSQL"
   ]
  },
  {
   "cell_type": "markdown",
   "metadata": {
    "slideshow": {
     "slide_type": "subslide"
    }
   },
   "source": [
    "#### ipython-sql\n",
    "* サードパーティ製のマジックコマンド\n",
    "  - %sql, %%sql\n",
    "* SQLAlchemyからDBに接続  \n",
    "* pandas.DataFrameに対応"
   ]
  },
  {
   "cell_type": "markdown",
   "metadata": {
    "slideshow": {
     "slide_type": "subslide"
    }
   },
   "source": [
    "#### テーブルを作成"
   ]
  },
  {
   "cell_type": "code",
   "execution_count": 1,
   "metadata": {
    "deletable": false,
    "editable": false,
    "run_control": {
     "frozen": true
    },
    "slideshow": {
     "slide_type": "fragment"
    },
    "tags": [
     "f"
    ]
   },
   "outputs": [],
   "source": [
    "%load_ext sql"
   ]
  },
  {
   "cell_type": "code",
   "execution_count": 3,
   "metadata": {
    "deletable": false,
    "editable": false,
    "run_control": {
     "frozen": true
    },
    "slideshow": {
     "slide_type": "fragment"
    },
    "tags": [
     "f"
    ]
   },
   "outputs": [
    {
     "name": "stdout",
     "output_type": "stream",
     "text": [
      "Done.\n",
      "1 rows affected.\n",
      "1 rows affected.\n"
     ]
    },
    {
     "data": {
      "text/plain": [
       "[]"
      ]
     },
     "execution_count": 3,
     "metadata": {},
     "output_type": "execute_result"
    }
   ],
   "source": [
    "%%sql sqlite://\n",
    "CREATE TABLE sample_table (name, age);\n",
    "INSERT INTO sample_table VALUES ('Nagato', 16);\n",
    "INSERT INTO sample_table VALUES ('Mikuru', 17);"
   ]
  },
  {
   "cell_type": "markdown",
   "metadata": {
    "slideshow": {
     "slide_type": "subslide"
    }
   },
   "source": [
    "#### SELECTの結果をDataFrameに"
   ]
  },
  {
   "cell_type": "code",
   "execution_count": 4,
   "metadata": {
    "deletable": false,
    "editable": false,
    "run_control": {
     "frozen": true
    },
    "slideshow": {
     "slide_type": "fragment"
    },
    "tags": [
     "f"
    ]
   },
   "outputs": [
    {
     "name": "stdout",
     "output_type": "stream",
     "text": [
      " * sqlite://\n",
      "Done.\n"
     ]
    },
    {
     "data": {
      "text/html": [
       "<table>\n",
       "    <tr>\n",
       "        <th>name</th>\n",
       "        <th>age</th>\n",
       "    </tr>\n",
       "    <tr>\n",
       "        <td>Nagato</td>\n",
       "        <td>16</td>\n",
       "    </tr>\n",
       "    <tr>\n",
       "        <td>Mikuru</td>\n",
       "        <td>17</td>\n",
       "    </tr>\n",
       "</table>"
      ],
      "text/plain": [
       "[('Nagato', 16), ('Mikuru', 17)]"
      ]
     },
     "execution_count": 4,
     "metadata": {},
     "output_type": "execute_result"
    }
   ],
   "source": [
    "%%sql\n",
    "SELECT * from sample_table;"
   ]
  },
  {
   "cell_type": "code",
   "execution_count": 5,
   "metadata": {
    "deletable": false,
    "editable": false,
    "run_control": {
     "frozen": true
    },
    "slideshow": {
     "slide_type": "fragment"
    },
    "tags": [
     "f"
    ]
   },
   "outputs": [
    {
     "data": {
      "text/plain": [
       "16.5"
      ]
     },
     "execution_count": 5,
     "metadata": {},
     "output_type": "execute_result"
    }
   ],
   "source": [
    "_.DataFrame()[\"age\"].mean()"
   ]
  },
  {
   "cell_type": "markdown",
   "metadata": {
    "slideshow": {
     "slide_type": "slide"
    }
   },
   "source": [
    "## Unofficial Jupyter Notebook Extensions"
   ]
  },
  {
   "cell_type": "markdown",
   "metadata": {
    "slideshow": {
     "slide_type": "subslide"
    }
   },
   "source": [
    "#### Unofficial Jupyter Notebook Extensions\n",
    "※ 以降は`nbextensions`と表記\n",
    "\n",
    "* Notebookに機能を追加する拡張機能群\n",
    "* JavaScript\n",
    "* ローカルブラウザで動作"
   ]
  },
  {
   "cell_type": "markdown",
   "metadata": {
    "slideshow": {
     "slide_type": "subslide"
    }
   },
   "source": [
    "#### ExecuteTime\n",
    "\n",
    "* セルの実行時間が表示される\n",
    "* デフォルトで表示されるため、`%%time`よりお手軽\n",
    "\n",
    "![ExecuteTime](./static/images/ExecuteTime.png)"
   ]
  },
  {
   "cell_type": "markdown",
   "metadata": {
    "hide_input": true,
    "slideshow": {
     "slide_type": "subslide"
    }
   },
   "source": [
    "#### Freeze\n",
    "セルを読み取り専用にしたり、実行不可にできる  \n",
    "\n",
    "* <i class=\"fa-lock fa\"></i>read-only  \n",
    "  変更したくないセルにプロテクトをかけられる\n",
    "* <i class=\"fa-unlock-alt fa\"></i>unlock\n",
    "* <i class=\"fa-asterisk fa\"></i>frozen(実行不可)  \n",
    "  `Rull All`を実行した際に、実行したくないセルをスキップできる"
   ]
  },
  {
   "cell_type": "markdown",
   "metadata": {
    "slideshow": {
     "slide_type": "subslide"
    }
   },
   "source": [
    "#### Snippets\n",
    "\n",
    "* ドロップダウンで登録済みのスニペットをセルに貼付け\n",
    "* 任意のコードやマークアップなどを登録できる\n",
    "* さまざまな用途に  \n",
    "  - import\n",
    "  - docstringのテンプレート\n",
    "  - チートシート代わり"
   ]
  },
  {
   "cell_type": "code",
   "execution_count": 14,
   "metadata": {
    "hideCode": true,
    "hide_input": true,
    "slideshow": {
     "slide_type": "subslide"
    },
    "tags": [
     "h"
    ]
   },
   "outputs": [
    {
     "data": {
      "text/html": [
       "<video src=\"./static/images/Snippets_import.mp4\" controls>\n",
       "      Your browser does not support the <code>video</code> element.\n",
       "    </video>"
      ],
      "text/plain": [
       "<IPython.core.display.Video object>"
      ]
     },
     "execution_count": 14,
     "metadata": {},
     "output_type": "execute_result"
    }
   ],
   "source": [
    "display.Video(\"./static/images/Snippets_import.mp4\")"
   ]
  },
  {
   "cell_type": "code",
   "execution_count": 15,
   "metadata": {
    "hideCode": true,
    "hide_input": true,
    "slideshow": {
     "slide_type": "subslide"
    }
   },
   "outputs": [
    {
     "data": {
      "text/html": [
       "<video src=\"./static/images/Snippets_docstring.mp4\" controls>\n",
       "      Your browser does not support the <code>video</code> element.\n",
       "    </video>"
      ],
      "text/plain": [
       "<IPython.core.display.Video object>"
      ]
     },
     "execution_count": 15,
     "metadata": {},
     "output_type": "execute_result"
    }
   ],
   "source": [
    "display.Video(\"./static/images/Snippets_docstring.mp4\")"
   ]
  },
  {
   "cell_type": "markdown",
   "metadata": {
    "slideshow": {
     "slide_type": "subslide"
    }
   },
   "source": [
    "#### Snippets Menu\n",
    "* 予めよくつかわれるスニペットが登録されている\n",
    "  - numpy\n",
    "  - scipy\n",
    "  - matplotlib\n",
    "  - sympy\n",
    "  - pandas\n",
    "  - astropy\n",
    "  - h5py\n",
    "  - numba\n",
    "  - python\n",
    " - markdown\n",
    "* カスタマイズできる"
   ]
  },
  {
   "cell_type": "markdown",
   "metadata": {
    "slideshow": {
     "slide_type": "slide"
    }
   },
   "source": [
    "## Jupyter Notebookでもきれいなコードを書く"
   ]
  },
  {
   "cell_type": "markdown",
   "metadata": {
    "slideshow": {
     "slide_type": "subslide"
    }
   },
   "source": [
    "#### pycodestyle_magic\n",
    "\n",
    "* [pycodestyle](http://pycodestyle.pycqa.org/en/latest/)のcell magic\n",
    "* PEP8に違反した箇所を出力\n",
    "* コードは実行しないので注意"
   ]
  },
  {
   "cell_type": "code",
   "execution_count": 38,
   "metadata": {
    "deletable": false,
    "editable": false,
    "run_control": {
     "frozen": true
    },
    "slideshow": {
     "slide_type": "subslide"
    },
    "tags": [
     "f"
    ]
   },
   "outputs": [],
   "source": [
    "%load_ext pycodestyle_magic"
   ]
  },
  {
   "cell_type": "code",
   "execution_count": 39,
   "metadata": {
    "deletable": false,
    "editable": false,
    "run_control": {
     "frozen": true
    },
    "slideshow": {
     "slide_type": "fragment"
    },
    "tags": [
     "f"
    ]
   },
   "outputs": [
    {
     "name": "stderr",
     "output_type": "stream",
     "text": [
      "2:8: E231 missing whitespace after ','\n",
      "2:10: E202 whitespace before ')'\n",
      "4:1: E305 expected 2 blank lines after class or function definition, found 0\n",
      "4:8: E231 missing whitespace after ','\n"
     ]
    }
   ],
   "source": [
    "%%pycodestyle\n",
    "\n",
    "def f(x,y ):\n",
    "    return x**+y\n",
    "print(3,2)"
   ]
  },
  {
   "cell_type": "markdown",
   "metadata": {
    "slideshow": {
     "slide_type": "subslide"
    }
   },
   "source": [
    "#### Ruler\n",
    "\n",
    "* nbextensions\n",
    "* 指定した文字数に縦線を描画\n",
    "* コード1行当たりの文字数の上限を可視化できる\n",
    "* 線の色やスタイルが変更できる\n",
    "* 線は複数設定できる  \n",
    "  インデントの可視化など\n",
    "\n",
    "![Ruler](./static/images/Ruler.png)"
   ]
  },
  {
   "cell_type": "markdown",
   "metadata": {
    "slideshow": {
     "slide_type": "subslide"
    }
   },
   "source": [
    "#### isort formatter\n",
    "\n",
    "* [isort](http://timothycrosley.github.io/isort/)のnbextensions\n",
    "* import文を並び替える"
   ]
  },
  {
   "cell_type": "code",
   "execution_count": 16,
   "metadata": {
    "hide_input": true,
    "slideshow": {
     "slide_type": "fragment"
    }
   },
   "outputs": [
    {
     "data": {
      "text/html": [
       "<video src=\"./static/images/isort.mp4\" controls>\n",
       "      Your browser does not support the <code>video</code> element.\n",
       "    </video>"
      ],
      "text/plain": [
       "<IPython.core.display.Video object>"
      ]
     },
     "execution_count": 16,
     "metadata": {},
     "output_type": "execute_result"
    }
   ],
   "source": [
    "display.Video(\"./static/images/isort.mp4\")"
   ]
  },
  {
   "cell_type": "markdown",
   "metadata": {
    "slideshow": {
     "slide_type": "subslide"
    }
   },
   "source": [
    "#### コードフォーマッタ\n",
    "\n",
    "* [autopep8](https://github.com/hhatto/autopep8)  \n",
    "  nbextensions:Autopep8\n",
    "* [yapf](https://github.com/google/yapf)  \n",
    "  nbextensions:Code prettify\n",
    "* [Black](https://black.readthedocs.io/en/stable/index.html)\n",
    "  cell magic:[blackcellmagic](https://github.com/csurfer/blackcellmagic)  \n",
    "  nbextensions:[jupyter-black](https://github.com/drillan/jupyter-black)"
   ]
  },
  {
   "cell_type": "markdown",
   "metadata": {
    "slideshow": {
     "slide_type": "subslide"
    }
   },
   "source": [
    "#### おだい:このコードをなんとかする\n",
    "```python\n",
    "pd.Series([1,np.nan,3,np.nan,4,np.nan,6],index=list(\"ABCDEFG\"),name=\"test\",dtype=float,).interpolate(method=\"linear\",axis=0,limit=None,inplace=False,limit_direction=\"forward\",limit_area=None,downcast=None,)\n",
    "```"
   ]
  },
  {
   "cell_type": "markdown",
   "metadata": {
    "slideshow": {
     "slide_type": "subslide"
    }
   },
   "source": [
    "#### Autopep8"
   ]
  },
  {
   "cell_type": "code",
   "execution_count": 17,
   "metadata": {
    "hideCode": true,
    "hide_input": true,
    "slideshow": {
     "slide_type": "fragment"
    },
    "tags": [
     "h"
    ]
   },
   "outputs": [
    {
     "data": {
      "text/html": [
       "<video src=\"./static/images/autopep8.mp4\" controls>\n",
       "      Your browser does not support the <code>video</code> element.\n",
       "    </video>"
      ],
      "text/plain": [
       "<IPython.core.display.Video object>"
      ]
     },
     "execution_count": 17,
     "metadata": {},
     "output_type": "execute_result"
    }
   ],
   "source": [
    "display.Video(\"./static/images/autopep8.mp4\")"
   ]
  },
  {
   "cell_type": "markdown",
   "metadata": {
    "slideshow": {
     "slide_type": "subslide"
    }
   },
   "source": [
    "#### Code prettify(yapf)"
   ]
  },
  {
   "cell_type": "code",
   "execution_count": 18,
   "metadata": {
    "hideCode": true,
    "hide_input": true,
    "slideshow": {
     "slide_type": "fragment"
    },
    "tags": [
     "h"
    ]
   },
   "outputs": [
    {
     "data": {
      "text/html": [
       "<video src=\"./static/images/yapf.mp4\" controls>\n",
       "      Your browser does not support the <code>video</code> element.\n",
       "    </video>"
      ],
      "text/plain": [
       "<IPython.core.display.Video object>"
      ]
     },
     "execution_count": 18,
     "metadata": {},
     "output_type": "execute_result"
    }
   ],
   "source": [
    "display.Video(\"./static/images/yapf.mp4\")"
   ]
  },
  {
   "cell_type": "markdown",
   "metadata": {
    "slideshow": {
     "slide_type": "subslide"
    }
   },
   "source": [
    "#### %%blackcellmagic"
   ]
  },
  {
   "cell_type": "code",
   "execution_count": 19,
   "metadata": {
    "hideCode": true,
    "hide_input": true,
    "slideshow": {
     "slide_type": "fragment"
    },
    "tags": [
     "h"
    ]
   },
   "outputs": [
    {
     "data": {
      "text/html": [
       "<video src=\"./static/images/blackcellmagic.mp4\" controls>\n",
       "      Your browser does not support the <code>video</code> element.\n",
       "    </video>"
      ],
      "text/plain": [
       "<IPython.core.display.Video object>"
      ]
     },
     "execution_count": 19,
     "metadata": {},
     "output_type": "execute_result"
    }
   ],
   "source": [
    "display.Video(\"./static/images/blackcellmagic.mp4\")"
   ]
  },
  {
   "cell_type": "markdown",
   "metadata": {
    "slideshow": {
     "slide_type": "subslide"
    }
   },
   "source": [
    "#### jupyter-black"
   ]
  },
  {
   "cell_type": "code",
   "execution_count": 20,
   "metadata": {
    "hideCode": true,
    "hide_input": true,
    "slideshow": {
     "slide_type": "fragment"
    },
    "tags": [
     "h"
    ]
   },
   "outputs": [
    {
     "data": {
      "text/html": [
       "<video src=\"./static/images/jupyter-black.mp4\" controls>\n",
       "      Your browser does not support the <code>video</code> element.\n",
       "    </video>"
      ],
      "text/plain": [
       "<IPython.core.display.Video object>"
      ]
     },
     "execution_count": 20,
     "metadata": {},
     "output_type": "execute_result"
    }
   ],
   "source": [
    "display.Video(\"./static/images/jupyter-black.mp4\")"
   ]
  },
  {
   "cell_type": "markdown",
   "metadata": {
    "slideshow": {
     "slide_type": "slide"
    }
   },
   "source": [
    "## IPython.display"
   ]
  },
  {
   "cell_type": "markdown",
   "metadata": {
    "slideshow": {
     "slide_type": "subslide"
    }
   },
   "source": [
    "### IPython.display\n",
    "\n",
    "* `DisplayObject`を継承したクラス\n",
    "* 文字列やURLから得たデータをレンダリングしてNotebook上に表示\n",
    "* cell magicで代用できるものが多い"
   ]
  },
  {
   "cell_type": "markdown",
   "metadata": {
    "slideshow": {
     "slide_type": "subslide"
    }
   },
   "source": [
    "#### HTML\n",
    "* raw HTMLデータを表示\n",
    "* URLやローカルPATHを指定できる\n",
    "* JavaScriptも動作する\n",
    "* これさえ使えれば、表示上の問題は大抵どうにかなる"
   ]
  },
  {
   "cell_type": "code",
   "execution_count": 30,
   "metadata": {
    "deletable": false,
    "editable": false,
    "run_control": {
     "frozen": true
    },
    "slideshow": {
     "slide_type": "fragment"
    },
    "tags": [
     "f"
    ]
   },
   "outputs": [
    {
     "data": {
      "text/html": [
       "<font color=red>Red</font>"
      ],
      "text/plain": [
       "<IPython.core.display.HTML object>"
      ]
     },
     "execution_count": 30,
     "metadata": {},
     "output_type": "execute_result"
    }
   ],
   "source": [
    "display.HTML(\"<font color=red>Red</font>\")"
   ]
  },
  {
   "cell_type": "markdown",
   "metadata": {
    "slideshow": {
     "slide_type": "subslide"
    }
   },
   "source": [
    "HTMLを利用してNotebookのスタイルも変更できる"
   ]
  },
  {
   "cell_type": "code",
   "execution_count": 21,
   "metadata": {
    "hideCode": true,
    "hide_input": true,
    "slideshow": {
     "slide_type": "fragment"
    },
    "tags": [
     "h"
    ]
   },
   "outputs": [
    {
     "data": {
      "text/html": [
       "<video src=\"./static/images/width100.mp4\" controls>\n",
       "      Your browser does not support the <code>video</code> element.\n",
       "    </video>"
      ],
      "text/plain": [
       "<IPython.core.display.Video object>"
      ]
     },
     "execution_count": 21,
     "metadata": {},
     "output_type": "execute_result"
    }
   ],
   "source": [
    "display.Video(\"./static/images/width100.mp4\")"
   ]
  },
  {
   "cell_type": "markdown",
   "metadata": {
    "slideshow": {
     "slide_type": "fragment"
    }
   },
   "source": [
    "横幅いっぱいまで使えて便利"
   ]
  },
  {
   "cell_type": "markdown",
   "metadata": {
    "slideshow": {
     "slide_type": "subslide"
    }
   },
   "source": [
    "#### Markdown\n",
    "* マークダウン記法で記述したテキストを表示\n",
    "* URLやローカルPATHを指定できる\n",
    "* GFMに対応"
   ]
  },
  {
   "cell_type": "code",
   "execution_count": 22,
   "metadata": {
    "slideshow": {
     "slide_type": "fragment"
    }
   },
   "outputs": [
    {
     "data": {
      "text/markdown": [
       "col1|col2\n",
       "----|----\n",
       "data|data"
      ],
      "text/plain": [
       "<IPython.core.display.Markdown object>"
      ]
     },
     "metadata": {},
     "output_type": "display_data"
    }
   ],
   "source": [
    "%%markdown\n",
    "col1|col2\n",
    "----|----\n",
    "data|data"
   ]
  },
  {
   "cell_type": "markdown",
   "metadata": {
    "slideshow": {
     "slide_type": "subslide"
    }
   },
   "source": [
    "#### Markdownの応用事例\n",
    "* `format`関数やf-stringと組み合わせられる\n",
    "* Jinja2と組み合わせるといろいろできる"
   ]
  },
  {
   "cell_type": "code",
   "execution_count": 23,
   "metadata": {
    "slideshow": {
     "slide_type": "fragment"
    },
    "tags": [
     "e"
    ]
   },
   "outputs": [
    {
     "data": {
      "text/markdown": [
       "今日は2018-09-10日です"
      ],
      "text/plain": [
       "<IPython.core.display.Markdown object>"
      ]
     },
     "execution_count": 23,
     "metadata": {},
     "output_type": "execute_result"
    }
   ],
   "source": [
    "import datetime\n",
    "\n",
    "display.Markdown(f\"今日は{datetime.date.today()}日です\")"
   ]
  },
  {
   "cell_type": "markdown",
   "metadata": {
    "slideshow": {
     "slide_type": "subslide"
    }
   },
   "source": [
    "#### ScribdDocument\n",
    "TBD"
   ]
  },
  {
   "cell_type": "markdown",
   "metadata": {
    "slideshow": {
     "slide_type": "subslide"
    }
   },
   "source": [
    "#### FileLink, FileLinks\n",
    "\n",
    "* PATHのハイパーリンクを作成\n",
    "* GitHubのリポジトリから参照させたい場合などに便利"
   ]
  },
  {
   "cell_type": "code",
   "execution_count": 48,
   "metadata": {
    "deletable": false,
    "editable": false,
    "run_control": {
     "frozen": true
    },
    "slideshow": {
     "slide_type": "fragment"
    }
   },
   "outputs": [
    {
     "data": {
      "text/html": [
       "./sample/<br>\n",
       "&nbsp;&nbsp;<a href='./sample/file2.csv' target='_blank'>file2.csv</a><br>\n",
       "&nbsp;&nbsp;<a href='./sample/file1.csv' target='_blank'>file1.csv</a><br>"
      ],
      "text/plain": [
       "./sample/\n",
       "  file2.csv\n",
       "  file1.csv"
      ]
     },
     "execution_count": 48,
     "metadata": {},
     "output_type": "execute_result"
    }
   ],
   "source": [
    "display.FileLinks(\"./sample/\")"
   ]
  },
  {
   "cell_type": "markdown",
   "metadata": {
    "slideshow": {
     "slide_type": "subslide"
    }
   },
   "source": [
    "#### Image, SVG, Video, YouTubeVideo\n",
    "* 画像・動画を表示\n",
    "* URLやPATHの指定ができる"
   ]
  },
  {
   "cell_type": "code",
   "execution_count": 24,
   "metadata": {
    "slideshow": {
     "slide_type": "fragment"
    }
   },
   "outputs": [
    {
     "data": {
      "image/png": "[encoded data removed]",
      "text/plain": [
       "<IPython.core.display.Image object>"
      ]
     },
     "execution_count": 24,
     "metadata": {
      "image/png": {
       "height": 50,
       "width": 50
      }
     },
     "output_type": "execute_result"
    }
   ],
   "source": [
    "display.Image(\"static/images/finpy_600x600.png\", width=50, height=50)"
   ]
  },
  {
   "cell_type": "markdown",
   "metadata": {
    "slideshow": {
     "slide_type": "subslide"
    }
   },
   "source": [
    "####  display\n",
    "* オブジェクトをフロントエンドとして表示  \n",
    "  pandas.DataFrameなど\n",
    "* 表示形式をカスタマイズできる"
   ]
  },
  {
   "cell_type": "markdown",
   "metadata": {
    "slideshow": {
     "slide_type": "subslide"
    }
   },
   "source": [
    "#### displayの使用例"
   ]
  },
  {
   "cell_type": "code",
   "execution_count": 97,
   "metadata": {
    "deletable": false,
    "editable": false,
    "run_control": {
     "frozen": true
    },
    "slideshow": {
     "slide_type": "fragment"
    }
   },
   "outputs": [
    {
     "data": {
      "text/html": [
       "<div>\n",
       "<style scoped>\n",
       "    .dataframe tbody tr th:only-of-type {\n",
       "        vertical-align: middle;\n",
       "    }\n",
       "\n",
       "    .dataframe tbody tr th {\n",
       "        vertical-align: top;\n",
       "    }\n",
       "\n",
       "    .dataframe thead th {\n",
       "        text-align: right;\n",
       "    }\n",
       "</style>\n",
       "<table border=\"1\" class=\"dataframe\">\n",
       "  <thead>\n",
       "    <tr style=\"text-align: right;\">\n",
       "      <th></th>\n",
       "      <th>0</th>\n",
       "      <th>1</th>\n",
       "    </tr>\n",
       "  </thead>\n",
       "  <tbody>\n",
       "    <tr>\n",
       "      <th>0</th>\n",
       "      <td>10</td>\n",
       "      <td>20</td>\n",
       "    </tr>\n",
       "    <tr>\n",
       "      <th>1</th>\n",
       "      <td>30</td>\n",
       "      <td>40</td>\n",
       "    </tr>\n",
       "  </tbody>\n",
       "</table>\n",
       "</div>"
      ],
      "text/plain": [
       "    0   1\n",
       "0  10  20\n",
       "1  30  40"
      ]
     },
     "execution_count": 97,
     "metadata": {},
     "output_type": "execute_result"
    }
   ],
   "source": [
    "df1 = pd.DataFrame([[1, 2], [3, 4]])\n",
    "df2 = pd.DataFrame([[10, 20], [30, 40]])\n",
    "\n",
    "df1\n",
    "df2"
   ]
  },
  {
   "cell_type": "markdown",
   "metadata": {
    "slideshow": {
     "slide_type": "fragment"
    }
   },
   "source": [
    "通常は最後のオブジェクトしか表示されない"
   ]
  },
  {
   "cell_type": "code",
   "execution_count": 98,
   "metadata": {
    "deletable": false,
    "editable": false,
    "run_control": {
     "frozen": true
    },
    "slideshow": {
     "slide_type": "subslide"
    }
   },
   "outputs": [
    {
     "data": {
      "text/html": [
       "<div>\n",
       "<style scoped>\n",
       "    .dataframe tbody tr th:only-of-type {\n",
       "        vertical-align: middle;\n",
       "    }\n",
       "\n",
       "    .dataframe tbody tr th {\n",
       "        vertical-align: top;\n",
       "    }\n",
       "\n",
       "    .dataframe thead th {\n",
       "        text-align: right;\n",
       "    }\n",
       "</style>\n",
       "<table border=\"1\" class=\"dataframe\">\n",
       "  <thead>\n",
       "    <tr style=\"text-align: right;\">\n",
       "      <th></th>\n",
       "      <th>0</th>\n",
       "      <th>1</th>\n",
       "    </tr>\n",
       "  </thead>\n",
       "  <tbody>\n",
       "    <tr>\n",
       "      <th>0</th>\n",
       "      <td>1</td>\n",
       "      <td>2</td>\n",
       "    </tr>\n",
       "    <tr>\n",
       "      <th>1</th>\n",
       "      <td>3</td>\n",
       "      <td>4</td>\n",
       "    </tr>\n",
       "  </tbody>\n",
       "</table>\n",
       "</div>"
      ],
      "text/plain": [
       "   0  1\n",
       "0  1  2\n",
       "1  3  4"
      ]
     },
     "metadata": {},
     "output_type": "display_data"
    },
    {
     "data": {
      "text/html": [
       "<div>\n",
       "<style scoped>\n",
       "    .dataframe tbody tr th:only-of-type {\n",
       "        vertical-align: middle;\n",
       "    }\n",
       "\n",
       "    .dataframe tbody tr th {\n",
       "        vertical-align: top;\n",
       "    }\n",
       "\n",
       "    .dataframe thead th {\n",
       "        text-align: right;\n",
       "    }\n",
       "</style>\n",
       "<table border=\"1\" class=\"dataframe\">\n",
       "  <thead>\n",
       "    <tr style=\"text-align: right;\">\n",
       "      <th></th>\n",
       "      <th>0</th>\n",
       "      <th>1</th>\n",
       "    </tr>\n",
       "  </thead>\n",
       "  <tbody>\n",
       "    <tr>\n",
       "      <th>0</th>\n",
       "      <td>10</td>\n",
       "      <td>20</td>\n",
       "    </tr>\n",
       "    <tr>\n",
       "      <th>1</th>\n",
       "      <td>30</td>\n",
       "      <td>40</td>\n",
       "    </tr>\n",
       "  </tbody>\n",
       "</table>\n",
       "</div>"
      ],
      "text/plain": [
       "    0   1\n",
       "0  10  20\n",
       "1  30  40"
      ]
     },
     "metadata": {},
     "output_type": "display_data"
    }
   ],
   "source": [
    "display.display(df1)\n",
    "display.display(df2)"
   ]
  },
  {
   "cell_type": "markdown",
   "metadata": {
    "slideshow": {
     "slide_type": "subslide"
    }
   },
   "source": [
    "#### カスタマイズ例"
   ]
  },
  {
   "cell_type": "code",
   "execution_count": 103,
   "metadata": {
    "deletable": false,
    "editable": false,
    "run_control": {
     "frozen": true
    },
    "slideshow": {
     "slide_type": "fragment"
    }
   },
   "outputs": [
    {
     "data": {
      "text/plain": [
       "{\n",
       "  \"1\": 2,\n",
       "  \"3\": {\n",
       "    \"4\": 5\n",
       "  }\n",
       "}"
      ]
     },
     "metadata": {},
     "output_type": "display_data"
    }
   ],
   "source": [
    "class Json(object):\n",
    "    def __init__(self, json):\n",
    "        self.json = json\n",
    "\n",
    "    def _repr_pretty_(self, pp, cycle):\n",
    "        import json\n",
    "\n",
    "        pp.text(json.dumps(self.json, indent=2))\n",
    "\n",
    "    def __repr__(self):\n",
    "        return str(self.json)\n",
    "\n",
    "display.display(Json({1: 2, 3: {4: 5}}))"
   ]
  },
  {
   "cell_type": "markdown",
   "metadata": {
    "slideshow": {
     "slide_type": "subslide"
    }
   },
   "source": [
    "#### clear_output\n",
    "\n",
    "* 表示を消去する\n",
    "* 表示した情報を更新する場合に便利\n",
    "  - 出力を追記ではなく上書きする\n",
    "  - 画像を表示して差し替える(アニメーション)"
   ]
  },
  {
   "cell_type": "code",
   "execution_count": 25,
   "metadata": {
    "slideshow": {
     "slide_type": "subslide"
    },
    "tags": [
     "e"
    ]
   },
   "outputs": [
    {
     "name": "stdout",
     "output_type": "stream",
     "text": [
      "4\n"
     ]
    }
   ],
   "source": [
    "for i in range(5):\n",
    "    print(i)\n",
    "    time.sleep(2)\n",
    "    display.clear_output(wait=True)"
   ]
  },
  {
   "cell_type": "markdown",
   "metadata": {
    "slideshow": {
     "slide_type": "subslide"
    }
   },
   "source": [
    "#### update_display\n",
    "\n",
    "* `display`で一度表示した情報を更新\n",
    "* 複数の表示情報を制御できる\n",
    "* ipywidgetsと組み合わせると便利"
   ]
  },
  {
   "cell_type": "code",
   "execution_count": 26,
   "metadata": {
    "hideCode": true,
    "slideshow": {
     "slide_type": "subslide"
    }
   },
   "outputs": [
    {
     "data": {
      "text/html": [
       "<video src=\"./static/images/update_display.mp4\" controls>\n",
       "      Your browser does not support the <code>video</code> element.\n",
       "    </video>"
      ],
      "text/plain": [
       "<IPython.core.display.Video object>"
      ]
     },
     "execution_count": 26,
     "metadata": {},
     "output_type": "execute_result"
    }
   ],
   "source": [
    "display.Video(\"./static/images/update_display.mp4\")"
   ]
  },
  {
   "cell_type": "code",
   "execution_count": null,
   "metadata": {},
   "outputs": [],
   "source": []
  }
 ],
 "metadata": {
  "celltoolbar": "Hide code",
  "hide_input": false,
  "kernelspec": {
   "display_name": "Python 3",
   "language": "python",
   "name": "python3"
  },
  "language_info": {
   "codemirror_mode": {
    "name": "ipython",
    "version": 3
   },
   "file_extension": ".py",
   "mimetype": "text/x-python",
   "name": "python",
   "nbconvert_exporter": "python",
   "pygments_lexer": "ipython3",
   "version": "3.6.5"
  },
  "nbTranslate": {
   "displayLangs": [
    "*"
   ],
   "hotkey": "alt-t",
   "langInMainMenu": true,
   "sourceLang": "en",
   "targetLang": "fr",
   "useGoogleTranslate": true
  }
 },
 "nbformat": 4,
 "nbformat_minor": 2
}
