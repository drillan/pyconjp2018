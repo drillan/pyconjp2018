{
 "cells": [
  {
   "cell_type": "code",
   "execution_count": 1,
   "metadata": {
    "slideshow": {
     "slide_type": "skip"
    }
   },
   "outputs": [
    {
     "data": {
      "text/html": [
       "<link rel=\"stylesheet\" type=\"text/css\" href=\"./static/css/custom.css\">\n",
       "<link rel=\"stylesheet\" type=\"text/css\" href=\"./static/css/highlight.css\">"
      ],
      "text/plain": [
       "<IPython.core.display.HTML object>"
      ]
     },
     "metadata": {},
     "output_type": "display_data"
    }
   ],
   "source": [
    "%%HTML\n",
    "<link rel=\"stylesheet\" type=\"text/css\" href=\"./static/css/custom.css\">\n",
    "<link rel=\"stylesheet\" type=\"text/css\" href=\"./static/css/highlight.css\">"
   ]
  },
  {
   "cell_type": "code",
   "execution_count": 8,
   "metadata": {
    "slideshow": {
     "slide_type": "skip"
    }
   },
   "outputs": [
    {
     "name": "stdout",
     "output_type": "stream",
     "text": [
      "The Zen of Python, by Tim Peters\n",
      "\n",
      "Beautiful is better than ugly.\n",
      "Explicit is better than implicit.\n",
      "Simple is better than complex.\n",
      "Complex is better than complicated.\n",
      "Flat is better than nested.\n",
      "Sparse is better than dense.\n",
      "Readability counts.\n",
      "Special cases aren't special enough to break the rules.\n",
      "Although practicality beats purity.\n",
      "Errors should never pass silently.\n",
      "Unless explicitly silenced.\n",
      "In the face of ambiguity, refuse the temptation to guess.\n",
      "There should be one-- and preferably only one --obvious way to do it.\n",
      "Although that way may not be obvious at first unless you're Dutch.\n",
      "Now is better than never.\n",
      "Although never is often better than *right* now.\n",
      "If the implementation is hard to explain, it's a bad idea.\n",
      "If the implementation is easy to explain, it may be a good idea.\n",
      "Namespaces are one honking great idea -- let's do more of those!\n"
     ]
    }
   ],
   "source": [
    "%matplotlib inline\n",
    "%load_ext tsumiki\n",
    "\n",
    "import datetime\n",
    "import this\n",
    "import time\n",
    "from io import StringIO\n",
    "\n",
    "import matplotlib.pyplot as plt\n",
    "import numpy as np\n",
    "import pandas as pd\n",
    "from IPython import display\n",
    "from ipywidgets import FloatSlider, IntSlider, interact\n",
    "from jinja2 import Template"
   ]
  },
  {
   "cell_type": "markdown",
   "metadata": {
    "slideshow": {
     "slide_type": "slide"
    }
   },
   "source": [
    "# Jupyterで広がるPythonの可能性\n",
    "\n",
    "---\n",
    "2018/09/17 @大田区産業プラザPiO  \n",
    "driller@patraqushe\n"
   ]
  },
  {
   "cell_type": "markdown",
   "metadata": {
    "hide_input": true,
    "slideshow": {
     "slide_type": "slide"
    }
   },
   "source": [
    "#### だれ？\n",
    "\n",
    "\n",
    "* なまえ: どりらん\n",
    "* 本名: driller\n",
    "* Twitter: @patraqushe  \n",
    "  \n",
    "#### しごと\n",
    "\n",
    "* デリバティブのトレーダー  \n",
    "  たまにデイトレーダーと間違えられる  \n",
    "  JavaとJavaScriptくらいの違い -> つまり大してかわらない\n",
    "* 最近はPythonの仕事もしている"
   ]
  },
  {
   "cell_type": "code",
   "execution_count": 9,
   "metadata": {
    "hideCode": true,
    "hide_input": false,
    "scrolled": false,
    "slideshow": {
     "slide_type": "subslide"
    },
    "tags": [
     "h"
    ]
   },
   "outputs": [
    {
     "data": {
      "text/html": [
       "<div class=\"tsumiki\">\n",
       "  <style>\n",
       "  .tsumiki .columns1 {\n",
       "    margin-bottom: 12px;\n",
       "  }\n",
       "</style>\n",
       "<h3>共著</h3>\n",
       "<style>\n",
       "  .tsumiki {\n",
       "      width: 100%;\n",
       "  }\n",
       "  .tsumiki .columns2 {\n",
       "    -webkit-columns: 2;\n",
       "    -moz-columns: 2;\n",
       "    -ms-columns: 2;\n",
       "    columns: 2;\n",
       "    display: inline-flex;\n",
       "    align-items: top;\n",
       "    width: 100%;\n",
       "  }\n",
       "\n",
       "\n",
       "  .tsumiki #col0 {\n",
       "      width: calc(100% / 2);\n",
       "  }\n",
       "\n",
       "  .tsumiki #col1 {\n",
       "      width: calc(100% / 2);\n",
       "  }\n",
       "\n",
       "</style>\n",
       "<div class=\"columns2\">\n",
       "  \n",
       "    <div id=\"col1\">\n",
       "    <pre><code>\n",
       "</code></pre>\n",
       "<h4>PythonユーザのためのJupyter［実践］入門</h4>\n",
       "<ul>\n",
       "<li>Jupyterのつかいかた</li>\n",
       "<li>pandasの基礎</li>\n",
       "<li>データの可視化<br />\n",
       "<strong>Matplotlibの豆腐で困ってる人は本書を読むように！</strong></li>\n",
       "<li>クラウド上のJupyter</li>\n",
       "<li>R, RubyでJupyter</li>\n",
       "<li>スライド, ipywidgetsなど  </li>\n",
       "</ul>\n",
       "    </div>\n",
       "  \n",
       "    <div id=\"col2\">\n",
       "    <img src=\"./static/images/jupyterbook.jpg\" width=300 />\n",
       "    </div>\n",
       "  \n",
       "</div> \n",
       "</div>"
      ],
      "text/plain": [
       "<IPython.core.display.HTML object>"
      ]
     },
     "execution_count": 9,
     "metadata": {},
     "output_type": "execute_result"
    }
   ],
   "source": [
    "%%tsumiki\n",
    "\n",
    ":Markdown:\n",
    "\n",
    "### 共著\n",
    "\n",
    ":Markdown::\n",
    "            \n",
    "#### PythonユーザのためのJupyter［実践］入門\n",
    "\n",
    "\n",
    "* Jupyterのつかいかた\n",
    "* pandasの基礎\n",
    "* データの可視化\n",
    "  **Matplotlibの豆腐で困ってる人は本書を読むように！**\n",
    "* クラウド上のJupyter\n",
    "* R, RubyでJupyter\n",
    "* スライド, ipywidgetsなど  \n",
    "\n",
    "\n",
    ":HTML::\n",
    "<img src=\"./static/images/jupyterbook.jpg\" width=300 />"
   ]
  },
  {
   "cell_type": "code",
   "execution_count": 10,
   "metadata": {
    "hideCode": true,
    "hide_input": false,
    "slideshow": {
     "slide_type": "subslide"
    },
    "tags": [
     "h"
    ]
   },
   "outputs": [
    {
     "data": {
      "text/html": [
       "<div class=\"tsumiki\">\n",
       "  <style>\n",
       "  .tsumiki .columns1 {\n",
       "    margin-bottom: 12px;\n",
       "  }\n",
       "</style>\n",
       "<h3>Software Design 2018年2月号に寄稿</h3>\n",
       "<style>\n",
       "  .tsumiki {\n",
       "      width: 100%;\n",
       "  }\n",
       "  .tsumiki .columns2 {\n",
       "    -webkit-columns: 2;\n",
       "    -moz-columns: 2;\n",
       "    -ms-columns: 2;\n",
       "    columns: 2;\n",
       "    display: inline-flex;\n",
       "    align-items: top;\n",
       "    width: 100%;\n",
       "  }\n",
       "\n",
       "\n",
       "  .tsumiki #col0 {\n",
       "      width: calc(100% / 2);\n",
       "  }\n",
       "\n",
       "  .tsumiki #col1 {\n",
       "      width: calc(100% / 2);\n",
       "  }\n",
       "\n",
       "</style>\n",
       "<div class=\"columns2\">\n",
       "  \n",
       "    <div id=\"col1\">\n",
       "    <p>第1特集「そのPythonライブラリ，どうして必要なんですか？」  </p>\n",
       "<ul>\n",
       "<li>第1章：パッケージ管理の基礎を知ろう<br />\n",
       "  効率的な開発のための前準備……石本 敦夫  </li>\n",
       "<li>第2章：Pythonの基礎力を高めよう<br />\n",
       "  ライブラリの使い方と作り方……くーむ</li>\n",
       "<li>第3章：データ分析の前処理をさくっと終わらせよう<br />\n",
       "  定時に帰るためのpandas入門……@driller  </li>\n",
       "<li>第4章：イメージどおりにデータを可視化しよう<br />\n",
       "  データに隠された意味を見つけるMatplotlib入門……片柳 薫子  </li>\n",
       "</ul>\n",
       "    </div>\n",
       "  \n",
       "    <div id=\"col2\">\n",
       "    <img src=\"./static/images/sd201802.png\" width=300 >\n",
       "    </div>\n",
       "  \n",
       "</div> \n",
       "</div>"
      ],
      "text/plain": [
       "<IPython.core.display.HTML object>"
      ]
     },
     "execution_count": 10,
     "metadata": {},
     "output_type": "execute_result"
    }
   ],
   "source": [
    "%%tsumiki\n",
    "\n",
    ":Markdown:\n",
    "\n",
    "### Software Design 2018年2月号に寄稿\n",
    "        \n",
    ":Markdown::\n",
    "\n",
    "第1特集「そのPythonライブラリ，どうして必要なんですか？」  \n",
    "  \n",
    "* 第1章：パッケージ管理の基礎を知ろう  \n",
    "  効率的な開発のための前準備……石本 敦夫  \n",
    "* 第2章：Pythonの基礎力を高めよう  \n",
    "  ライブラリの使い方と作り方……くーむ\n",
    "* 第3章：データ分析の前処理をさくっと終わらせよう  \n",
    "  定時に帰るためのpandas入門……@driller  \n",
    "* 第4章：イメージどおりにデータを可視化しよう  \n",
    "  データに隠された意味を見つけるMatplotlib入門……片柳 薫子  \n",
    "\n",
    ":HTML::\n",
    "<img src=\"./static/images/sd201802.png\" width=300 >"
   ]
  },
  {
   "cell_type": "code",
   "execution_count": 11,
   "metadata": {
    "hideCode": true,
    "hide_input": false,
    "slideshow": {
     "slide_type": "subslide"
    },
    "tags": [
     "h"
    ]
   },
   "outputs": [
    {
     "data": {
      "text/html": [
       "<div class=\"tsumiki\">\n",
       "  <style>\n",
       "  .tsumiki .columns1 {\n",
       "    margin-bottom: 12px;\n",
       "  }\n",
       "</style>\n",
       "<h3>fin-py</h3>\n",
       "<style>\n",
       "  .tsumiki {\n",
       "      width: 100%;\n",
       "  }\n",
       "  .tsumiki .columns2 {\n",
       "    -webkit-columns: 2;\n",
       "    -moz-columns: 2;\n",
       "    -ms-columns: 2;\n",
       "    columns: 2;\n",
       "    display: inline-flex;\n",
       "    align-items: top;\n",
       "    width: 100%;\n",
       "  }\n",
       "\n",
       "\n",
       "  .tsumiki #col0 {\n",
       "      width: calc(100% / 2);\n",
       "  }\n",
       "\n",
       "  .tsumiki #col1 {\n",
       "      width: calc(100% / 2);\n",
       "  }\n",
       "\n",
       "</style>\n",
       "<div class=\"columns2\">\n",
       "  \n",
       "    <div id=\"col1\">\n",
       "    <ul>\n",
       "<li>Python x 金融のコミュニティ</li>\n",
       "<li>PyConJP 2016をきっかけに発足</li>\n",
       "<li>もくもく会(月例)</li>\n",
       "<li>トークイベント(不定期)</li>\n",
       "<li>スピンオフイベント(オプション勉強会など)</li>\n",
       "</ul>\n",
       "    </div>\n",
       "  \n",
       "    <div id=\"col2\">\n",
       "    <img src=\"./static/images/finpy_600x600.png\" width=300 />\n",
       "    </div>\n",
       "  \n",
       "</div> \n",
       "</div>"
      ],
      "text/plain": [
       "<IPython.core.display.HTML object>"
      ]
     },
     "execution_count": 11,
     "metadata": {},
     "output_type": "execute_result"
    }
   ],
   "source": [
    "%%tsumiki\n",
    "\n",
    ":Markdown:\n",
    "### fin-py\n",
    "\n",
    ":Markdown::\n",
    "* Python x 金融のコミュニティ\n",
    "* PyConJP 2016をきっかけに発足\n",
    "* もくもく会(月例)\n",
    "* トークイベント(不定期)\n",
    "* スピンオフイベント(オプション勉強会など)\n",
    "\n",
    ":HTML::\n",
    "<img src=\"./static/images/finpy_600x600.png\" width=300 />"
   ]
  },
  {
   "cell_type": "markdown",
   "metadata": {
    "deletable": false,
    "editable": false,
    "run_control": {
     "frozen": true
    },
    "slideshow": {
     "slide_type": "subslide"
    }
   },
   "source": [
    "#### ポスターセッションやってます\n",
    "\n",
    "* Fintech x IoTの事例  \n",
    "  社内でマイクロペイメント\n",
    "* 仮想通貨損益計算サービス  \n",
    "  Django\n",
    "* Pythonでファイナンシャルプランニング  \n",
    "  年金の最適化\n",
    "* Quantopian  \n",
    "  Pythonで株価分析・バックテスト  \n",
    "* 衛星写真で原油生産状況を追う"
   ]
  },
  {
   "cell_type": "code",
   "execution_count": 20,
   "metadata": {
    "deletable": false,
    "editable": false,
    "hideCode": true,
    "hidePrompt": false,
    "run_control": {
     "frozen": true
    },
    "slideshow": {
     "slide_type": "slide"
    }
   },
   "outputs": [
    {
     "data": {
      "text/html": [
       "<div class=\"tsumiki\">\n",
       "  <style>\n",
       "  .tsumiki .columns1 {\n",
       "    margin-bottom: 12px;\n",
       "  }\n",
       "</style>\n",
       "<h4>Agenda</h4>\n",
       "<style>\n",
       "  .tsumiki {\n",
       "      width: 100%;\n",
       "  }\n",
       "  .tsumiki .columns2 {\n",
       "    -webkit-columns: 2;\n",
       "    -moz-columns: 2;\n",
       "    -ms-columns: 2;\n",
       "    columns: 2;\n",
       "    display: inline-flex;\n",
       "    align-items: top;\n",
       "    width: 100%;\n",
       "  }\n",
       "\n",
       "\n",
       "  .tsumiki #col0 {\n",
       "      width: calc(100% / 2);\n",
       "  }\n",
       "\n",
       "  .tsumiki #col1 {\n",
       "      width: calc(100% / 2);\n",
       "  }\n",
       "\n",
       "</style>\n",
       "<div class=\"columns2\">\n",
       "  \n",
       "    <div id=\"col1\">\n",
       "    <ul>\n",
       "<li>Project Jupyter<br />\n",
       "  Jupyterの歴史</li>\n",
       "<li>Jupyter Notebookの基本<br />\n",
       "  基本を押さえて効率的に</li>\n",
       "<li>マジックコマンド<br />\n",
       "  便利なコマンド集</li>\n",
       "<li>Unofficial Jupyter Notebook Extensions(nbextensions)<br />\n",
       "  拡張機能で更に便利に</li>\n",
       "</ul>\n",
       "    </div>\n",
       "  \n",
       "    <div id=\"col2\">\n",
       "    <ul>\n",
       "<li>IPython.display<br />\n",
       "  出力をカスタマイズ</li>\n",
       "<li>ipywidgets<br />\n",
       "  インタラクティブに</li>\n",
       "<li>Jupyter Notebookでプレゼンテーション<br />\n",
       "  資料作成を効率的に</li>\n",
       "<li>Jupyter Publishing<br />\n",
       "  技術的な文書・WebサイトもJupyterで</li>\n",
       "<li>便利なライブラリ・Webアプリケーション<br />\n",
       "  更にJupyterを使いこなす</li>\n",
       "</ul>\n",
       "    </div>\n",
       "  \n",
       "</div> \n",
       "</div>"
      ],
      "text/plain": [
       "<IPython.core.display.HTML object>"
      ]
     },
     "execution_count": 20,
     "metadata": {},
     "output_type": "execute_result"
    }
   ],
   "source": [
    "%%tsumiki\n",
    "\n",
    ":Markdown:\n",
    "#### Agenda\n",
    "\n",
    ":Markdown::\n",
    "* Project Jupyter  \n",
    "  Jupyterの歴史\n",
    "* Jupyter Notebookの基本  \n",
    "  基本を押さえて効率的に\n",
    "* マジックコマンド  \n",
    "  便利なコマンド集\n",
    "* Unofficial Jupyter Notebook Extensions(nbextensions)  \n",
    "  拡張機能で更に便利に\n",
    "\n",
    ":Markdown::\n",
    "* IPython.display  \n",
    "  出力をカスタマイズ\n",
    "* ipywidgets  \n",
    "  インタラクティブに\n",
    "* Jupyter Notebookでプレゼンテーション  \n",
    "  資料作成を効率的に\n",
    "* Jupyter Publishing  \n",
    "  技術的な文書・WebサイトもJupyterで\n",
    "* 便利なライブラリ・Webアプリケーション  \n",
    "  更にJupyterを使いこなす"
   ]
  },
  {
   "cell_type": "markdown",
   "metadata": {
    "slideshow": {
     "slide_type": "slide"
    }
   },
   "source": [
    "## 1. Project Jupyter"
   ]
  },
  {
   "cell_type": "markdown",
   "metadata": {
    "slideshow": {
     "slide_type": "subslide"
    }
   },
   "source": [
    "#### IPython\n",
    "* 2001年 - Fernando Perez氏による開発  \n",
    "  当時からMaple, Mathematicaを使用、後のNotebookに影響を与える\n",
    "* REPLの拡張版\n",
    "  - 型推定の強化\n",
    "  - コード補完\n",
    "  - マジックコマンド"
   ]
  },
  {
   "cell_type": "markdown",
   "metadata": {
    "slideshow": {
     "slide_type": "subslide"
    }
   },
   "source": [
    "### IPython Notebook\n",
    "* 2011 - Fernando Pérez, Brian Granger氏による開発\n",
    "* データサイエンティストに対して生のコードを説明してもわかりにくかった\n",
    "* コードの追跡や共有を容易に"
   ]
  },
  {
   "cell_type": "code",
   "execution_count": 12,
   "metadata": {
    "hideCode": true,
    "hide_input": false,
    "scrolled": false,
    "slideshow": {
     "slide_type": "subslide"
    },
    "tags": [
     "h"
    ]
   },
   "outputs": [
    {
     "data": {
      "text/html": [
       "<div class=\"tsumiki\">\n",
       "  <style>\n",
       "  .tsumiki {\n",
       "      width: 100%;\n",
       "  }\n",
       "  .tsumiki .columns2 {\n",
       "    -webkit-columns: 2;\n",
       "    -moz-columns: 2;\n",
       "    -ms-columns: 2;\n",
       "    columns: 2;\n",
       "    display: inline-flex;\n",
       "    align-items: top;\n",
       "    width: 100%;\n",
       "  }\n",
       "\n",
       "\n",
       "  .tsumiki #col0 {\n",
       "      width: calc(100% / 2);\n",
       "  }\n",
       "\n",
       "  .tsumiki #col1 {\n",
       "      width: calc(100% / 2);\n",
       "  }\n",
       "\n",
       "</style>\n",
       "<div class=\"columns2\">\n",
       "  \n",
       "    <div id=\"col1\">\n",
       "    <h3>Project Jupyter</h3>\n",
       "<ul>\n",
       "<li>2014 - Fernando Pérez氏がIPythonからスピンオフしたJupyterプロジェクトを発表</li>\n",
       "<li>名称は <strong>Ju</strong>lia <strong>Py</strong>thon <strong>R</strong> から</li>\n",
       "<li>2018年9月時点では数十のコンピュータ言語に対応</li>\n",
       "</ul>\n",
       "    </div>\n",
       "  \n",
       "    <div id=\"col2\">\n",
       "    <img src=\"./static/images/jupyter-logo.svg\" width=300/>\n",
       "    </div>\n",
       "  \n",
       "</div> \n",
       "</div>"
      ],
      "text/plain": [
       "<IPython.core.display.HTML object>"
      ]
     },
     "execution_count": 12,
     "metadata": {},
     "output_type": "execute_result"
    }
   ],
   "source": [
    "%%tsumiki\n",
    "\n",
    ":Markdown::\n",
    "### Project Jupyter\n",
    "* 2014 - Fernando Pérez氏がIPythonからスピンオフしたJupyterプロジェクトを発表\n",
    "* 名称は **Ju**lia **Py**thon **R** から\n",
    "* 2018年9月時点では数十のコンピュータ言語に対応\n",
    "\n",
    ":HTML::\n",
    "<img src=\"./static/images/jupyter-logo.svg\" width=300/>"
   ]
  },
  {
   "cell_type": "markdown",
   "metadata": {
    "hideCode": false,
    "hide_input": false,
    "slideshow": {
     "slide_type": "subslide"
    },
    "tags": [
     "h"
    ]
   },
   "source": [
    "#### Project Jupyter\n",
    "User Interfaces |IPython    |Kernels                     |Widgets\n",
    "----------------|-----------|----------------------------|--------------------------\n",
    "JupyterLab      |IPython    |IPython                     |IPyWidgets/Jupyter Widgets\n",
    "Jupyter Notebook|IPyParallel|IRkernel                    |widget-cookiecutter\n",
    "Jupyter Console |Traitlets  |IJulia                      |-\n",
    "Qt Console      |-          |Community maintained kernels|-\n",
    "\n",
    "\n",
    "Notebook Documents|JupyterHub                |Deployment    |Foundations\n",
    "------------------|--------------------------|--------------|-----------------------\n",
    "nbconvert         |JupyterHub                |Docker Stacks |Jupyter Client\n",
    "nbformat          |Zero to JupyterHub        |Kernel Gateway|Jupyter Core\n",
    "nbviewer          |nbgrader                  |-             |Jupyter Alabaster Theme\n",
    "-                 |All JupyterHub Projects...|-             |-"
   ]
  },
  {
   "cell_type": "markdown",
   "metadata": {
    "slideshow": {
     "slide_type": "slide"
    }
   },
   "source": [
    "## 2. Jupyter Notebookの基本"
   ]
  },
  {
   "cell_type": "markdown",
   "metadata": {
    "slideshow": {
     "slide_type": "subslide"
    }
   },
   "source": [
    "## Jupyter NotebookのUI\n",
    "\n",
    "* ノートブック\n",
    "* ファイルマネージャ\n",
    "* ターミナル"
   ]
  },
  {
   "cell_type": "markdown",
   "metadata": {
    "slideshow": {
     "slide_type": "subslide"
    }
   },
   "source": [
    "### ファイルマネージャ\n",
    "\n",
    "最低限のことはJupyter上で行える\n",
    "* 新規作成\n",
    "* 削除\n",
    "* リネーム\n",
    "* asciiファイルの編集"
   ]
  },
  {
   "cell_type": "markdown",
   "metadata": {
    "slideshow": {
     "slide_type": "subslide"
    }
   },
   "source": [
    "### ターミナル\n",
    "\n",
    "* Jupyterを起動した状態の環境変数を引き継ぐ\n",
    "* 仮想環境が引き継がれるため、ライブラリのインストールが容易"
   ]
  },
  {
   "cell_type": "markdown",
   "metadata": {
    "slideshow": {
     "slide_type": "subslide"
    }
   },
   "source": [
    "### エディタ\n",
    "\n",
    "* キーバインドが選べる\n",
    "  - Sublime Text\n",
    "  - Vim\n",
    "  - emacs\n",
    "* シンタックスハイライト"
   ]
  },
  {
   "cell_type": "markdown",
   "metadata": {
    "slideshow": {
     "slide_type": "subslide"
    }
   },
   "source": [
    "### Notebook\n",
    "\n",
    "* セルにコードを記述して即座に実行できる  \n",
    "  ターミナル上のREPLと比較して再編集が容易\n",
    "* マークアップ記法によるテキストの埋め込み\n",
    "* 画像出力(主にグラフ)の埋め込み\n",
    "* HTMLを埋め込み"
   ]
  },
  {
   "cell_type": "markdown",
   "metadata": {
    "slideshow": {
     "slide_type": "slide"
    }
   },
   "source": [
    "## 3行でわかるJupyter Notebookのすごさ\n",
    "---\n",
    "vmstatコマンドの事例"
   ]
  },
  {
   "cell_type": "markdown",
   "metadata": {
    "slideshow": {
     "slide_type": "subslide"
    }
   },
   "source": [
    "#### 1行目: vmstatコマンドを実行"
   ]
  },
  {
   "cell_type": "code",
   "execution_count": 9,
   "metadata": {
    "deletable": false,
    "editable": false,
    "run_control": {
     "frozen": true
    },
    "scrolled": true,
    "slideshow": {
     "slide_type": "fragment"
    },
    "tags": [
     "f"
    ]
   },
   "outputs": [
    {
     "data": {
      "text/plain": [
       "['procs -----------memory---------- ---swap-- -----io---- -system-- ------cpu-----',\n",
       " ' r  b   swpd   free   buff  cache   si   so    bi    bo   in   cs us sy id wa st',\n",
       " ' 2  0      0 1900776 334136 1503092    0    0    72    25  212  613 13  2 84  1  0',\n",
       " ' 0  0      0 1900144 334136 1504660    0    0     0     0  896 2447 13  2 85  0  0',\n",
       " ' 1  0      0 1896548 334136 1507764    0    0     0     0 1416 3854 23  4 74  0  0',\n",
       " ' 1  0      0 1898168 334136 1504520    0    0     0     0 1174 3636 10  4 86  0  0',\n",
       " ' 1  0      0 1898036 334136 1504580    0    0     0     0  488 1523  3  1 96  0  0']"
      ]
     },
     "execution_count": 9,
     "metadata": {},
     "output_type": "execute_result"
    }
   ],
   "source": [
    "%sc -l out=vmstat 1 5\n",
    "out.l"
   ]
  },
  {
   "cell_type": "markdown",
   "metadata": {
    "slideshow": {
     "slide_type": "subslide"
    }
   },
   "source": [
    "#### 2行目: pandas.DataFrameに変換"
   ]
  },
  {
   "cell_type": "code",
   "execution_count": 10,
   "metadata": {
    "deletable": false,
    "editable": false,
    "run_control": {
     "frozen": true
    },
    "slideshow": {
     "slide_type": "fragment"
    },
    "tags": [
     "f"
    ]
   },
   "outputs": [
    {
     "data": {
      "text/html": [
       "<div>\n",
       "<style scoped>\n",
       "    .dataframe tbody tr th:only-of-type {\n",
       "        vertical-align: middle;\n",
       "    }\n",
       "\n",
       "    .dataframe tbody tr th {\n",
       "        vertical-align: top;\n",
       "    }\n",
       "\n",
       "    .dataframe thead th {\n",
       "        text-align: right;\n",
       "    }\n",
       "</style>\n",
       "<table border=\"1\" class=\"dataframe\">\n",
       "  <thead>\n",
       "    <tr style=\"text-align: right;\">\n",
       "      <th></th>\n",
       "      <th>r</th>\n",
       "      <th>b</th>\n",
       "      <th>swpd</th>\n",
       "      <th>free</th>\n",
       "      <th>buff</th>\n",
       "      <th>cache</th>\n",
       "      <th>si</th>\n",
       "      <th>so</th>\n",
       "      <th>bi</th>\n",
       "      <th>bo</th>\n",
       "      <th>in</th>\n",
       "      <th>cs</th>\n",
       "      <th>us</th>\n",
       "      <th>sy</th>\n",
       "      <th>id</th>\n",
       "      <th>wa</th>\n",
       "      <th>st</th>\n",
       "    </tr>\n",
       "  </thead>\n",
       "  <tbody>\n",
       "    <tr>\n",
       "      <th>0</th>\n",
       "      <td>2.0</td>\n",
       "      <td>0.0</td>\n",
       "      <td>0.0</td>\n",
       "      <td>1900776.0</td>\n",
       "      <td>334136.0</td>\n",
       "      <td>1503092.0</td>\n",
       "      <td>0.0</td>\n",
       "      <td>0.0</td>\n",
       "      <td>72.0</td>\n",
       "      <td>25.0</td>\n",
       "      <td>212.0</td>\n",
       "      <td>613.0</td>\n",
       "      <td>13.0</td>\n",
       "      <td>2.0</td>\n",
       "      <td>84.0</td>\n",
       "      <td>1.0</td>\n",
       "      <td>0.0</td>\n",
       "    </tr>\n",
       "    <tr>\n",
       "      <th>1</th>\n",
       "      <td>0.0</td>\n",
       "      <td>0.0</td>\n",
       "      <td>0.0</td>\n",
       "      <td>1900144.0</td>\n",
       "      <td>334136.0</td>\n",
       "      <td>1504660.0</td>\n",
       "      <td>0.0</td>\n",
       "      <td>0.0</td>\n",
       "      <td>0.0</td>\n",
       "      <td>0.0</td>\n",
       "      <td>896.0</td>\n",
       "      <td>2447.0</td>\n",
       "      <td>13.0</td>\n",
       "      <td>2.0</td>\n",
       "      <td>85.0</td>\n",
       "      <td>0.0</td>\n",
       "      <td>0.0</td>\n",
       "    </tr>\n",
       "    <tr>\n",
       "      <th>2</th>\n",
       "      <td>1.0</td>\n",
       "      <td>0.0</td>\n",
       "      <td>0.0</td>\n",
       "      <td>1896548.0</td>\n",
       "      <td>334136.0</td>\n",
       "      <td>1507764.0</td>\n",
       "      <td>0.0</td>\n",
       "      <td>0.0</td>\n",
       "      <td>0.0</td>\n",
       "      <td>0.0</td>\n",
       "      <td>1416.0</td>\n",
       "      <td>3854.0</td>\n",
       "      <td>23.0</td>\n",
       "      <td>4.0</td>\n",
       "      <td>74.0</td>\n",
       "      <td>0.0</td>\n",
       "      <td>0.0</td>\n",
       "    </tr>\n",
       "    <tr>\n",
       "      <th>3</th>\n",
       "      <td>1.0</td>\n",
       "      <td>0.0</td>\n",
       "      <td>0.0</td>\n",
       "      <td>1898168.0</td>\n",
       "      <td>334136.0</td>\n",
       "      <td>1504520.0</td>\n",
       "      <td>0.0</td>\n",
       "      <td>0.0</td>\n",
       "      <td>0.0</td>\n",
       "      <td>0.0</td>\n",
       "      <td>1174.0</td>\n",
       "      <td>3636.0</td>\n",
       "      <td>10.0</td>\n",
       "      <td>4.0</td>\n",
       "      <td>86.0</td>\n",
       "      <td>0.0</td>\n",
       "      <td>0.0</td>\n",
       "    </tr>\n",
       "    <tr>\n",
       "      <th>4</th>\n",
       "      <td>1.0</td>\n",
       "      <td>0.0</td>\n",
       "      <td>0.0</td>\n",
       "      <td>1898036.0</td>\n",
       "      <td>334136.0</td>\n",
       "      <td>1504580.0</td>\n",
       "      <td>0.0</td>\n",
       "      <td>0.0</td>\n",
       "      <td>0.0</td>\n",
       "      <td>0.0</td>\n",
       "      <td>488.0</td>\n",
       "      <td>1523.0</td>\n",
       "      <td>3.0</td>\n",
       "      <td>1.0</td>\n",
       "      <td>96.0</td>\n",
       "      <td>0.0</td>\n",
       "      <td>0.0</td>\n",
       "    </tr>\n",
       "  </tbody>\n",
       "</table>\n",
       "</div>"
      ],
      "text/plain": [
       "     r    b  swpd       free      buff      cache   si   so    bi    bo  \\\n",
       "0  2.0  0.0   0.0  1900776.0  334136.0  1503092.0  0.0  0.0  72.0  25.0   \n",
       "1  0.0  0.0   0.0  1900144.0  334136.0  1504660.0  0.0  0.0   0.0   0.0   \n",
       "2  1.0  0.0   0.0  1896548.0  334136.0  1507764.0  0.0  0.0   0.0   0.0   \n",
       "3  1.0  0.0   0.0  1898168.0  334136.0  1504520.0  0.0  0.0   0.0   0.0   \n",
       "4  1.0  0.0   0.0  1898036.0  334136.0  1504580.0  0.0  0.0   0.0   0.0   \n",
       "\n",
       "       in      cs    us   sy    id   wa   st  \n",
       "0   212.0   613.0  13.0  2.0  84.0  1.0  0.0  \n",
       "1   896.0  2447.0  13.0  2.0  85.0  0.0  0.0  \n",
       "2  1416.0  3854.0  23.0  4.0  74.0  0.0  0.0  \n",
       "3  1174.0  3636.0  10.0  4.0  86.0  0.0  0.0  \n",
       "4   488.0  1523.0   3.0  1.0  96.0  0.0  0.0  "
      ]
     },
     "execution_count": 10,
     "metadata": {},
     "output_type": "execute_result"
    }
   ],
   "source": [
    "df = pd.DataFrame(out.fields()[2:], columns=out.fields()[1], dtype=float)\n",
    "df"
   ]
  },
  {
   "cell_type": "markdown",
   "metadata": {
    "slideshow": {
     "slide_type": "subslide"
    }
   },
   "source": [
    "#### 3行目: 折れ線グラフに可視化"
   ]
  },
  {
   "cell_type": "code",
   "execution_count": 11,
   "metadata": {
    "deletable": false,
    "editable": false,
    "run_control": {
     "frozen": true
    },
    "slideshow": {
     "slide_type": "fragment"
    },
    "tags": [
     "f"
    ]
   },
   "outputs": [
    {
     "data": {
      "image/png": "[encoded data removed]",
      "text/plain": [
       "<Figure size 864x432 with 1 Axes>"
      ]
     },
     "metadata": {},
     "output_type": "display_data"
    }
   ],
   "source": [
    "df.loc[:, \"si\":].plot(figsize=(12, 6));"
   ]
  },
  {
   "cell_type": "markdown",
   "metadata": {
    "slideshow": {
     "slide_type": "subslide"
    }
   },
   "source": [
    "#### 1つのセルにまとめた場合"
   ]
  },
  {
   "cell_type": "code",
   "execution_count": 12,
   "metadata": {
    "deletable": false,
    "editable": false,
    "run_control": {
     "frozen": true
    },
    "slideshow": {
     "slide_type": "fragment"
    },
    "tags": [
     "f"
    ]
   },
   "outputs": [
    {
     "data": {
      "image/png": "[encoded data removed]",
      "text/plain": [
       "<Figure size 864x432 with 1 Axes>"
      ]
     },
     "metadata": {},
     "output_type": "display_data"
    }
   ],
   "source": [
    "%sc -l out=vmstat 1 5\n",
    "df = pd.DataFrame(out.fields()[2:], columns=out.fields()[1], dtype=float)\n",
    "df.loc[:, \"si\":].plot(figsize=(12, 6));"
   ]
  },
  {
   "cell_type": "markdown",
   "metadata": {
    "slideshow": {
     "slide_type": "subslide"
    }
   },
   "source": [
    "#### 3行できたこと\n",
    "* OSのコマンド結果をPythonのオブジェクトとして扱う\n",
    "* テーブルデータをHTMLでみやすく表示\n",
    "* データを可視化して埋め込み"
   ]
  },
  {
   "cell_type": "markdown",
   "metadata": {
    "slideshow": {
     "slide_type": "slide"
    }
   },
   "source": [
    "### Jupyter Notebookの便利帳"
   ]
  },
  {
   "cell_type": "markdown",
   "metadata": {
    "deletable": false,
    "editable": false,
    "run_control": {
     "frozen": true
    },
    "slideshow": {
     "slide_type": "subslide"
    }
   },
   "source": [
    "#### Shift + Tab\n",
    "\n",
    "![shift+tab](./static/images/shift-tab.png)"
   ]
  },
  {
   "cell_type": "markdown",
   "metadata": {
    "deletable": false,
    "editable": false,
    "run_control": {
     "frozen": true
    },
    "slideshow": {
     "slide_type": "subslide"
    }
   },
   "source": [
    "#### obj?\n",
    "\n",
    "Docstringを確認できる\n",
    "![obj?](./static/images/obj-question.png)"
   ]
  },
  {
   "cell_type": "markdown",
   "metadata": {
    "deletable": false,
    "editable": false,
    "run_control": {
     "frozen": true
    },
    "slideshow": {
     "slide_type": "subslide"
    }
   },
   "source": [
    "#### obj??\n",
    "\n",
    "ソースコードを確認できる\n",
    "![obj?](./static/images/obj-question2.png)"
   ]
  },
  {
   "cell_type": "markdown",
   "metadata": {
    "slideshow": {
     "slide_type": "subslide"
    }
   },
   "source": [
    "#### ?obj.*\n",
    "\n",
    "オブジェクトをワイルドカードで検索できる\n",
    "![?obj*](./static/images/question-obj.png)"
   ]
  },
  {
   "cell_type": "code",
   "execution_count": 30,
   "metadata": {
    "deletable": false,
    "editable": false,
    "hideCode": true,
    "hide_input": false,
    "run_control": {
     "frozen": true
    },
    "slideshow": {
     "slide_type": "subslide"
    },
    "tags": [
     "h"
    ]
   },
   "outputs": [
    {
     "data": {
      "text/html": [
       "<div class=\"tsumiki\">\n",
       "  <style>\n",
       "  .tsumiki .columns2 {\n",
       "    -webkit-columns: 2;\n",
       "    -moz-columns: 2;\n",
       "    -ms-columns: 2;\n",
       "    columns: 2;\n",
       "    display: inline-flex;\n",
       "    align-items: top;\n",
       "    width: 100%;\n",
       "  }\n",
       "\n",
       "\n",
       "  .tsumiki #col0 {\n",
       "      width: calc(100% / 2);\n",
       "  }\n",
       "\n",
       "  .tsumiki #col1 {\n",
       "      width: calc(100% / 2);\n",
       "  }\n",
       "\n",
       "</style>\n",
       "<div class=\"columns2\">\n",
       "  \n",
       "    <div id=\"col1\">\n",
       "    <h4><code>_</code>, <code>__</code>, <code>___</code> (アンダースコア)</h4>\n",
       "<p><code>_</code>: 直前の <strong>実行結果</strong><br />\n",
       "<code>__</code>: 2つ前の <strong>実行結果</strong><br />\n",
       "<code>___</code>: 3つ前の <strong>実行結果</strong><br />\n",
       "<p><br />\n",
       "実行した順番 ≠ セルの順番<br />\n",
       "</p></p>\n",
       "    </div>\n",
       "  \n",
       "    <div id=\"col2\">\n",
       "    <p><img alt=\"obj?\" src=\"./static/images/_,__,___.png\" /></p>\n",
       "    </div>\n",
       "  \n",
       "</div> \n",
       "</div>"
      ],
      "text/plain": [
       "<IPython.core.display.HTML object>"
      ]
     },
     "execution_count": 30,
     "metadata": {},
     "output_type": "execute_result"
    }
   ],
   "source": [
    "%%tsumiki\n",
    "\n",
    ":Markdown::\n",
    "#### `_`, `__`, `___` (アンダースコア)\n",
    "`_`: 直前の **実行結果**\n",
    "`__`: 2つ前の **実行結果**\n",
    "`___`: 3つ前の **実行結果**\n",
    "\n",
    "<p>\n",
    "実行した順番 ≠ セルの順番\n",
    "</p>\n",
    "\n",
    ":Markdown::\n",
    "![obj?](./static/images/_,__,___.png)"
   ]
  },
  {
   "cell_type": "code",
   "execution_count": 15,
   "metadata": {
    "deletable": false,
    "editable": false,
    "hideCode": true,
    "hide_input": false,
    "run_control": {
     "frozen": true
    },
    "slideshow": {
     "slide_type": "subslide"
    },
    "tags": [
     "h"
    ]
   },
   "outputs": [
    {
     "data": {
      "text/html": [
       "<div class=\"tsumiki\">\n",
       "  <style>\n",
       "  .tsumiki .columns2 {\n",
       "    -webkit-columns: 2;\n",
       "    -moz-columns: 2;\n",
       "    -ms-columns: 2;\n",
       "    columns: 2;\n",
       "    display: inline-flex;\n",
       "    align-items: top;\n",
       "    width: 100%;\n",
       "  }\n",
       "\n",
       "\n",
       "  .tsumiki #col0 {\n",
       "      width: calc(100% / 2);\n",
       "  }\n",
       "\n",
       "  .tsumiki #col1 {\n",
       "      width: calc(100% / 2);\n",
       "  }\n",
       "\n",
       "</style>\n",
       "<div class=\"columns2\">\n",
       "  \n",
       "    <div id=\"col1\">\n",
       "    <h4><code>_番号</code></h4>\n",
       "<p><code>_1</code>: セル番号1の実行結果<br />\n",
       "<code>_2</code>: セル番号2の実行結果<br />\n",
       "<code>_3</code>: セル番号3の実行結果</p>\n",
       "    </div>\n",
       "  \n",
       "    <div id=\"col2\">\n",
       "    <p><img alt=\"obj?\" src=\"./static/images/_n.png\" /></p>\n",
       "    </div>\n",
       "  \n",
       "</div> \n",
       "</div>"
      ],
      "text/plain": [
       "<IPython.core.display.HTML object>"
      ]
     },
     "execution_count": 15,
     "metadata": {},
     "output_type": "execute_result"
    }
   ],
   "source": [
    "%%tsumiki\n",
    "\n",
    ":Markdown::\n",
    "#### `_番号`\n",
    "`_1`: セル番号1の実行結果\n",
    "`_2`: セル番号2の実行結果\n",
    "`_3`: セル番号3の実行結果\n",
    "\n",
    ":Markdown::\n",
    "![obj?](./static/images/_n.png)"
   ]
  },
  {
   "cell_type": "code",
   "execution_count": 16,
   "metadata": {
    "deletable": false,
    "editable": false,
    "hideCode": true,
    "hide_input": false,
    "run_control": {
     "frozen": true
    },
    "slideshow": {
     "slide_type": "subslide"
    },
    "tags": [
     "h"
    ]
   },
   "outputs": [
    {
     "data": {
      "text/html": [
       "<div class=\"tsumiki\">\n",
       "  <style>\n",
       "  .tsumiki .columns2 {\n",
       "    -webkit-columns: 2;\n",
       "    -moz-columns: 2;\n",
       "    -ms-columns: 2;\n",
       "    columns: 2;\n",
       "    display: inline-flex;\n",
       "    align-items: top;\n",
       "    width: 100%;\n",
       "  }\n",
       "\n",
       "\n",
       "  .tsumiki #col0 {\n",
       "      width: calc(100% / 2);\n",
       "  }\n",
       "\n",
       "  .tsumiki #col1 {\n",
       "      width: calc(100% / 2);\n",
       "  }\n",
       "\n",
       "</style>\n",
       "<div class=\"columns2\">\n",
       "  \n",
       "    <div id=\"col1\">\n",
       "    <h4><code>_i</code>, <code>_ii</code>, <code>_iii</code></h4>\n",
       "<p><code>_i</code>: 直前に <strong>実行した</strong> 入力<br />\n",
       "<code>_ii</code>: 2つ前に <strong>実行した</strong> 入力<br />\n",
       "<code>_iii</code>: 3つ前に <strong>実行した</strong> 入力<br />\n",
       "<p><br />\n",
       "実行した順番 ≠ セルの順番<br />\n",
       "</p></p>\n",
       "    </div>\n",
       "  \n",
       "    <div id=\"col2\">\n",
       "    <p><img alt=\"obj?\" src=\"./static/images/_i,_ii,_iii.png\" /></p>\n",
       "    </div>\n",
       "  \n",
       "</div> \n",
       "</div>"
      ],
      "text/plain": [
       "<IPython.core.display.HTML object>"
      ]
     },
     "execution_count": 16,
     "metadata": {},
     "output_type": "execute_result"
    }
   ],
   "source": [
    "%%tsumiki\n",
    "\n",
    ":Markdown::\n",
    "#### `_i`, `_ii`, `_iii`\n",
    "`_i`: 直前に **実行した** 入力\n",
    "`_ii`: 2つ前に **実行した** 入力\n",
    "`_iii`: 3つ前に **実行した** 入力\n",
    "\n",
    "<p>\n",
    "実行した順番 ≠ セルの順番\n",
    "</p>\n",
    "\n",
    ":Markdown::\n",
    "![obj?](./static/images/_i,_ii,_iii.png)"
   ]
  },
  {
   "cell_type": "code",
   "execution_count": 17,
   "metadata": {
    "deletable": false,
    "editable": false,
    "hideCode": true,
    "hide_input": false,
    "run_control": {
     "frozen": true
    },
    "slideshow": {
     "slide_type": "subslide"
    },
    "tags": [
     "h"
    ]
   },
   "outputs": [
    {
     "data": {
      "text/html": [
       "<div class=\"tsumiki\">\n",
       "  <style>\n",
       "  .tsumiki .columns2 {\n",
       "    -webkit-columns: 2;\n",
       "    -moz-columns: 2;\n",
       "    -ms-columns: 2;\n",
       "    columns: 2;\n",
       "    display: inline-flex;\n",
       "    align-items: top;\n",
       "    width: 100%;\n",
       "  }\n",
       "\n",
       "\n",
       "  .tsumiki #col0 {\n",
       "      width: calc(100% / 2);\n",
       "  }\n",
       "\n",
       "  .tsumiki #col1 {\n",
       "      width: calc(100% / 2);\n",
       "  }\n",
       "\n",
       "</style>\n",
       "<div class=\"columns2\">\n",
       "  \n",
       "    <div id=\"col1\">\n",
       "    <h4><code>_i1</code>, <code>_i2</code>, <code>_i3</code></h4>\n",
       "<p><code>_i1</code>: セル番号1の入力<br />\n",
       "<code>_i2</code>: セル番号2の入力<br />\n",
       "<code>_i3</code>: セル番号3の入力</p>\n",
       "    </div>\n",
       "  \n",
       "    <div id=\"col2\">\n",
       "    <p><img alt=\"obj?\" src=\"./static/images/_i1,_i2,_i3.png\" /></p>\n",
       "    </div>\n",
       "  \n",
       "</div> \n",
       "</div>"
      ],
      "text/plain": [
       "<IPython.core.display.HTML object>"
      ]
     },
     "execution_count": 17,
     "metadata": {},
     "output_type": "execute_result"
    }
   ],
   "source": [
    "%%tsumiki\n",
    "\n",
    ":Markdown::\n",
    "#### `_i1`, `_i2`, `_i3`\n",
    "`_i1`: セル番号1の入力\n",
    "`_i2`: セル番号2の入力\n",
    "`_i3`: セル番号3の入力\n",
    "\n",
    "\n",
    ":Markdown::\n",
    "![obj?](./static/images/_i1,_i2,_i3.png)"
   ]
  },
  {
   "cell_type": "code",
   "execution_count": 18,
   "metadata": {
    "deletable": false,
    "editable": false,
    "hideCode": true,
    "hide_input": false,
    "run_control": {
     "frozen": true
    },
    "slideshow": {
     "slide_type": "subslide"
    },
    "tags": [
     "h"
    ]
   },
   "outputs": [
    {
     "data": {
      "text/html": [
       "<div class=\"tsumiki\">\n",
       "  <style>\n",
       "  .tsumiki .columns2 {\n",
       "    -webkit-columns: 2;\n",
       "    -moz-columns: 2;\n",
       "    -ms-columns: 2;\n",
       "    columns: 2;\n",
       "    display: inline-flex;\n",
       "    align-items: top;\n",
       "    width: 100%;\n",
       "  }\n",
       "\n",
       "\n",
       "  .tsumiki #col0 {\n",
       "      width: calc(100% / 2);\n",
       "  }\n",
       "\n",
       "  .tsumiki #col1 {\n",
       "      width: calc(100% / 2);\n",
       "  }\n",
       "\n",
       "</style>\n",
       "<div class=\"columns2\">\n",
       "  \n",
       "    <div id=\"col1\">\n",
       "    <h4><code>_dh</code>, <code>_oh</code></h4>\n",
       "<p><code>_dh</code>: Notebookのカレントディレクトリ<br />\n",
       "<code>_oh</code>: セル番号と実行結果の辞書<br />\n",
       "<code>_ih</code>: <strong>入力した順番</strong> リスト</p>\n",
       "    </div>\n",
       "  \n",
       "    <div id=\"col2\">\n",
       "    <p><img alt=\"obj?\" src=\"./static/images/_dh,_oh_ih.png\" /></p>\n",
       "    </div>\n",
       "  \n",
       "</div> \n",
       "</div>"
      ],
      "text/plain": [
       "<IPython.core.display.HTML object>"
      ]
     },
     "execution_count": 18,
     "metadata": {},
     "output_type": "execute_result"
    }
   ],
   "source": [
    "%%tsumiki\n",
    "\n",
    ":Markdown::\n",
    "#### `_dh`, `_oh`\n",
    "`_dh`: Notebookのカレントディレクトリ\n",
    "`_oh`: セル番号と実行結果の辞書\n",
    "`_ih`: **入力した順番** リスト\n",
    "\n",
    ":Markdown::\n",
    "![obj?](./static/images/_dh,_oh_ih.png)"
   ]
  },
  {
   "cell_type": "markdown",
   "metadata": {
    "slideshow": {
     "slide_type": "subslide"
    }
   },
   "source": [
    "#### 標準出力は拾わない"
   ]
  },
  {
   "cell_type": "code",
   "execution_count": 23,
   "metadata": {
    "deletable": false,
    "editable": false,
    "run_control": {
     "frozen": true
    },
    "slideshow": {
     "slide_type": "fragment"
    },
    "tags": [
     "f"
    ]
   },
   "outputs": [
    {
     "name": "stdout",
     "output_type": "stream",
     "text": [
      "1\n"
     ]
    }
   ],
   "source": [
    "print(1)"
   ]
  },
  {
   "cell_type": "code",
   "execution_count": 24,
   "metadata": {
    "deletable": false,
    "editable": false,
    "run_control": {
     "frozen": true
    },
    "slideshow": {
     "slide_type": "fragment"
    },
    "tags": [
     "f"
    ]
   },
   "outputs": [
    {
     "data": {
      "text/plain": [
       "''"
      ]
     },
     "execution_count": 24,
     "metadata": {},
     "output_type": "execute_result"
    }
   ],
   "source": [
    "_"
   ]
  },
  {
   "cell_type": "markdown",
   "metadata": {
    "slideshow": {
     "slide_type": "subslide"
    }
   },
   "source": [
    "#### 事例:データの前処理を試す\n",
    "* `,`を取り除く\n",
    "* 型変換する\n",
    "* 線形補間する"
   ]
  },
  {
   "cell_type": "code",
   "execution_count": 25,
   "metadata": {
    "deletable": false,
    "editable": false,
    "run_control": {
     "frozen": true
    },
    "slideshow": {
     "slide_type": "fragment"
    },
    "tags": [
     "f"
    ]
   },
   "outputs": [
    {
     "data": {
      "text/plain": [
       "0     1000\n",
       "1    2,000\n",
       "2      NaN\n",
       "3    4,000\n",
       "dtype: object"
      ]
     },
     "execution_count": 25,
     "metadata": {},
     "output_type": "execute_result"
    }
   ],
   "source": [
    "data = pd.Series(['1000', '2,000', np.nan, '4,000'])\n",
    "data"
   ]
  },
  {
   "cell_type": "markdown",
   "metadata": {
    "slideshow": {
     "slide_type": "subslide"
    }
   },
   "source": [
    "#### 通常の処理1\n",
    "メソッドをつないでいく  \n",
    "`data.method().method().method()...`  \n",
    "* 途中経過がわからない\n",
    "* 間の処理の問題を気づきにくい"
   ]
  },
  {
   "cell_type": "markdown",
   "metadata": {
    "slideshow": {
     "slide_type": "subslide"
    }
   },
   "source": [
    "#### 通常の処理2\n",
    "別オブジェクトに格納していく\n",
    "\n",
    "`do_something1 = data.method()`  \n",
    "`do_something2 = do_something1.method()`  \n",
    "`do_something3 = do_something2.method()`\n",
    "\n",
    "* オブジェクト名を決めるのが大変  \n",
    "  - 名前のバッティング\n",
    "  - 意味のある名前をつけようとすると大抵長くなる"
   ]
  },
  {
   "cell_type": "markdown",
   "metadata": {
    "slideshow": {
     "slide_type": "subslide"
    }
   },
   "source": [
    "#### _の活用例\n",
    "`,`を取り除く"
   ]
  },
  {
   "cell_type": "code",
   "execution_count": 26,
   "metadata": {
    "deletable": false,
    "editable": false,
    "run_control": {
     "frozen": true
    },
    "slideshow": {
     "slide_type": "fragment"
    },
    "tags": [
     "f"
    ]
   },
   "outputs": [
    {
     "data": {
      "text/plain": [
       "0    1000\n",
       "1    2000\n",
       "2     NaN\n",
       "3    4000\n",
       "dtype: object"
      ]
     },
     "execution_count": 26,
     "metadata": {},
     "output_type": "execute_result"
    }
   ],
   "source": [
    "_.str.replace(\",\", \"\")"
   ]
  },
  {
   "cell_type": "markdown",
   "metadata": {
    "slideshow": {
     "slide_type": "subslide"
    }
   },
   "source": [
    "#### _の活用例\n",
    "型変換する"
   ]
  },
  {
   "cell_type": "code",
   "execution_count": 27,
   "metadata": {
    "deletable": false,
    "editable": false,
    "run_control": {
     "frozen": true
    },
    "slideshow": {
     "slide_type": "fragment"
    },
    "tags": [
     "f"
    ]
   },
   "outputs": [
    {
     "data": {
      "text/plain": [
       "0    1000.0\n",
       "1    2000.0\n",
       "2       NaN\n",
       "3    4000.0\n",
       "dtype: float64"
      ]
     },
     "execution_count": 27,
     "metadata": {},
     "output_type": "execute_result"
    }
   ],
   "source": [
    "_.astype(float)"
   ]
  },
  {
   "cell_type": "markdown",
   "metadata": {
    "slideshow": {
     "slide_type": "subslide"
    }
   },
   "source": [
    "#### _の活用例\n",
    "線形補間する"
   ]
  },
  {
   "cell_type": "code",
   "execution_count": 28,
   "metadata": {
    "deletable": false,
    "editable": false,
    "run_control": {
     "frozen": true
    },
    "slideshow": {
     "slide_type": "fragment"
    },
    "tags": [
     "f"
    ]
   },
   "outputs": [
    {
     "data": {
      "text/plain": [
       "0    1000.0\n",
       "1    2000.0\n",
       "2    3000.0\n",
       "3    4000.0\n",
       "dtype: float64"
      ]
     },
     "execution_count": 28,
     "metadata": {},
     "output_type": "execute_result"
    }
   ],
   "source": [
    "_.interpolate()"
   ]
  },
  {
   "cell_type": "markdown",
   "metadata": {
    "slideshow": {
     "slide_type": "subslide"
    }
   },
   "source": [
    "#### まとめ\n",
    "* 最終的には下記のようにつなげればよいことがわかる\n",
    "* 途中経過を確認できる"
   ]
  },
  {
   "cell_type": "code",
   "execution_count": 29,
   "metadata": {
    "deletable": false,
    "editable": false,
    "run_control": {
     "frozen": true
    },
    "slideshow": {
     "slide_type": "fragment"
    },
    "tags": [
     "f"
    ]
   },
   "outputs": [
    {
     "data": {
      "text/plain": [
       "'.str.replace(\",\", \"\").astype(float).interpolate()'"
      ]
     },
     "execution_count": 29,
     "metadata": {},
     "output_type": "execute_result"
    }
   ],
   "source": [
    "\"\".join((_iii, _ii, _i)).replace(\"_\", \"\")\n",
    "# このような書き方も\n",
    "# \"\".join(_ih[start:end]).replace(\"_\", \"\")"
   ]
  },
  {
   "cell_type": "markdown",
   "metadata": {
    "slideshow": {
     "slide_type": "slide"
    }
   },
   "source": [
    "#### !, !!\n",
    "\n",
    "* `!`を行頭につけるとOSのコマンドが実行できる\n",
    "* `!!`上記の機能に加え、結果をリストに格納できる"
   ]
  },
  {
   "cell_type": "markdown",
   "metadata": {
    "slideshow": {
     "slide_type": "subslide"
    }
   },
   "source": [
    "#### !の例"
   ]
  },
  {
   "cell_type": "code",
   "execution_count": 31,
   "metadata": {
    "deletable": false,
    "editable": false,
    "run_control": {
     "frozen": true
    },
    "slideshow": {
     "slide_type": "fragment"
    },
    "tags": [
     "f"
    ]
   },
   "outputs": [
    {
     "name": "stdout",
     "output_type": "stream",
     "text": [
      "file1.csv  file2.csv\r\n"
     ]
    }
   ],
   "source": [
    "!ls sample"
   ]
  },
  {
   "cell_type": "code",
   "execution_count": 32,
   "metadata": {
    "deletable": false,
    "editable": false,
    "run_control": {
     "frozen": true
    },
    "slideshow": {
     "slide_type": "fragment"
    },
    "tags": [
     "f"
    ]
   },
   "outputs": [
    {
     "name": "stdout",
     "output_type": "stream",
     "text": [
      "111,222,333\r\n",
      "100,200,300"
     ]
    }
   ],
   "source": [
    "!cat sample/file1.csv"
   ]
  },
  {
   "cell_type": "markdown",
   "metadata": {
    "slideshow": {
     "slide_type": "subslide"
    }
   },
   "source": [
    "#### !!の例"
   ]
  },
  {
   "cell_type": "code",
   "execution_count": 33,
   "metadata": {
    "deletable": false,
    "editable": false,
    "run_control": {
     "frozen": true
    },
    "slideshow": {
     "slide_type": "fragment"
    },
    "tags": [
     "f"
    ]
   },
   "outputs": [
    {
     "data": {
      "text/plain": [
       "['111,222,333', '100,200,300']"
      ]
     },
     "execution_count": 33,
     "metadata": {},
     "output_type": "execute_result"
    }
   ],
   "source": [
    "!!cat sample/file1.csv"
   ]
  },
  {
   "cell_type": "markdown",
   "metadata": {
    "slideshow": {
     "slide_type": "slide"
    }
   },
   "source": [
    "## 3. マジックコマンド"
   ]
  },
  {
   "cell_type": "markdown",
   "metadata": {
    "slideshow": {
     "slide_type": "subslide"
    }
   },
   "source": [
    "### マジックコマンドとは\n",
    "* IPython独自のコマンド\n",
    "* line magic: 1行で実行するコマンド\n",
    "* cell magic: セル全体に適用されるコマンド\n",
    "* ユーザがマジックコマンドを作成できる(拡張マジック)"
   ]
  },
  {
   "cell_type": "markdown",
   "metadata": {
    "slideshow": {
     "slide_type": "subslide"
    }
   },
   "source": [
    "### line magic"
   ]
  },
  {
   "cell_type": "markdown",
   "metadata": {
    "slideshow": {
     "slide_type": "subslide"
    }
   },
   "source": [
    "### マジックコマンドのリファレンス\n",
    "\n",
    "* %magic  \n",
    "  すべてのマジックコマンドのリファレンス\n",
    "* %lsmagic  \n",
    "  マジックコマンドのリスト\n",
    "* %quickref  \n",
    "  IPythonのクイックリファレンス"
   ]
  },
  {
   "cell_type": "code",
   "execution_count": 34,
   "metadata": {
    "deletable": false,
    "editable": false,
    "hideCode": true,
    "hide_input": false,
    "run_control": {
     "frozen": true
    },
    "slideshow": {
     "slide_type": "subslide"
    },
    "tags": [
     "h"
    ]
   },
   "outputs": [
    {
     "data": {
      "text/html": [
       "<div class=\"tsumiki\">\n",
       "  <style>\n",
       "  .tsumiki .columns1 {\n",
       "    margin-bottom: 12px;\n",
       "  }\n",
       "</style>\n",
       "<h3>OSコマンド関連</h3>\n",
       "<style>\n",
       "  .tsumiki .columns2 {\n",
       "    -webkit-columns: 2;\n",
       "    -moz-columns: 2;\n",
       "    -ms-columns: 2;\n",
       "    columns: 2;\n",
       "    display: inline-flex;\n",
       "    align-items: top;\n",
       "    width: 100%;\n",
       "  }\n",
       "\n",
       "\n",
       "  .tsumiki #col0 {\n",
       "      width: calc(100% / 2);\n",
       "  }\n",
       "\n",
       "  .tsumiki #col1 {\n",
       "      width: calc(100% / 2);\n",
       "  }\n",
       "\n",
       "</style>\n",
       "<div class=\"columns2\">\n",
       "  \n",
       "    <div id=\"col1\">\n",
       "    <h4>ディレクトリ</h4>\n",
       "<ul>\n",
       "<li>%cd, %pwd, </li>\n",
       "</ul>\n",
       "<h4>ファイル・ディレクトリ操作</h4>\n",
       "<ul>\n",
       "<li>%cp, %mv, %rm, %rmdir</li>\n",
       "</ul>\n",
       "<h4>ls</h4>\n",
       "<ul>\n",
       "<li>%ldir, %lf, %lk, %ll, %ls, %lx</li>\n",
       "</ul>\n",
       "    </div>\n",
       "  \n",
       "    <div id=\"col2\">\n",
       "    <h4>ファイルの内容</h4>\n",
       "<ul>\n",
       "<li>%cat, %less, %more</li>\n",
       "</ul>\n",
       "<h4>man</h4>\n",
       "<ul>\n",
       "<li>%man</li>\n",
       "</ul>\n",
       "<h4>環境変数</h4>\n",
       "<ul>\n",
       "<li>%env, %set_env</li>\n",
       "</ul>\n",
       "    </div>\n",
       "  \n",
       "</div> \n",
       "</div>"
      ],
      "text/plain": [
       "<IPython.core.display.HTML object>"
      ]
     },
     "execution_count": 34,
     "metadata": {},
     "output_type": "execute_result"
    }
   ],
   "source": [
    "%%tsumiki\n",
    "\n",
    ":Markdown:\n",
    "### OSコマンド関連\n",
    "\n",
    ":Markdown::\n",
    "#### ディレクトリ  \n",
    "* %cd, %pwd, \n",
    "#### ファイル・ディレクトリ操作\n",
    "* %cp, %mv, %rm, %rmdir\n",
    "#### ls\n",
    "* %ldir, %lf, %lk, %ll, %ls, %lx\n",
    "\n",
    ":Markdown::\n",
    "#### ファイルの内容\n",
    "* %cat, %less, %more\n",
    "#### man\n",
    "* %man\n",
    "#### 環境変数\n",
    "* %env, %set_env"
   ]
  },
  {
   "cell_type": "markdown",
   "metadata": {
    "slideshow": {
     "slide_type": "subslide"
    }
   },
   "source": [
    "#### OSコマンド関連\n",
    "\n",
    "* `!`で代用できるコマンドだがOS依存がなくなる  \n",
    "  Windowsで`ls`や`pwd`が気軽にできる！\n",
    "* 結果をオブジェクトに格納できるコマンドがある  \n",
    "  - %pwd -> str\n",
    "  - %env -> dict"
   ]
  },
  {
   "cell_type": "markdown",
   "metadata": {
    "slideshow": {
     "slide_type": "subslide"
    }
   },
   "source": [
    "### 名前空間関連\n",
    "\n",
    "* %who, %who_ls, %whos\n",
    "* %reset, %reset_selective, %xdel\n",
    "* %psearch\n",
    "* %pinfo, %pinfo2"
   ]
  },
  {
   "cell_type": "markdown",
   "metadata": {
    "slideshow": {
     "slide_type": "subslide"
    }
   },
   "source": [
    "### 名前空間関連\n",
    "\n",
    "* Notebook上では名前空間が汚染されることが多い  \n",
    "  - 一度セルを実行すると、セルを消してもglobalsに残る\n",
    "  - 意図せぬ結果となりバグの温床に\n",
    "* マジックコマンドでオブジェクトを管理\n",
    "  - 一覧\n",
    "  - 検索\n",
    "  - 情報取得\n",
    "  - 消去、リセット"
   ]
  },
  {
   "cell_type": "markdown",
   "metadata": {
    "slideshow": {
     "slide_type": "subslide"
    }
   },
   "source": [
    "#### %who, %who_ls, %whos\n",
    "* ユーザが作成したglobals()の内容を表示  \n",
    "  `__name__`などの特殊なオブジェクトは出てこない"
   ]
  },
  {
   "cell_type": "code",
   "execution_count": 40,
   "metadata": {
    "deletable": false,
    "editable": false,
    "run_control": {
     "frozen": true
    },
    "slideshow": {
     "slide_type": "fragment"
    },
    "tags": [
     "f"
    ]
   },
   "outputs": [
    {
     "name": "stdout",
     "output_type": "stream",
     "text": [
      "Variable   Type    Data/Info\n",
      "----------------------------\n",
      "i          int     1\n",
      "s          str     a\n"
     ]
    }
   ],
   "source": [
    "i = 1\n",
    "s = \"a\"\n",
    "%whos"
   ]
  },
  {
   "cell_type": "markdown",
   "metadata": {
    "slideshow": {
     "slide_type": "subslide"
    }
   },
   "source": [
    "### デバッグ関連\n",
    "\n",
    "* %debug, %pdb\n",
    "\n",
    "### プロファイル関連\n",
    "\n",
    "* %prun"
   ]
  },
  {
   "cell_type": "markdown",
   "metadata": {
    "slideshow": {
     "slide_type": "subslide"
    }
   },
   "source": [
    "#### %prun\n",
    "\n",
    "![prun](./static/images/prun.png)"
   ]
  },
  {
   "cell_type": "markdown",
   "metadata": {
    "slideshow": {
     "slide_type": "subslide"
    }
   },
   "source": [
    "### 実行関連\n",
    "\n",
    "* %run, %rerun, %rep, %recall\n",
    "* %sc, %sx, %system\n",
    "* %time, %timeit"
   ]
  },
  {
   "cell_type": "markdown",
   "metadata": {
    "slideshow": {
     "slide_type": "subslide"
    }
   },
   "source": [
    "#### %system, %sx, %sc\n",
    "\n",
    "* %system, %sx  \n",
    "  `!!`と等価  \n",
    "  コマンドの実行結果をリストに取り込める\n",
    "* %sc  \n",
    "  %sxよりも詳細な挙動を設定できる\n",
    "  - `-l`:結果をリストに格納\n",
    "  - `-s`:空白文字をセパレータとして処理"
   ]
  },
  {
   "cell_type": "markdown",
   "metadata": {
    "slideshow": {
     "slide_type": "subslide"
    }
   },
   "source": [
    "#### %time, %timeit\n",
    "\n",
    "* %time  \n",
    "  コードの実行時間を出力\n",
    "* %timeit  \n",
    "  コードを複数回実行して統計した結果を出力  \n",
    "  さまざまなオプションを設定できる"
   ]
  },
  {
   "cell_type": "markdown",
   "metadata": {
    "slideshow": {
     "slide_type": "subslide"
    }
   },
   "source": [
    "### 拡張関連\n",
    "\n",
    "* %load_ext  \n",
    "  拡張マジックを呼び出す  \n",
    "  マジックコマンドはPythonで自作できる\n",
    "* %unload_ext  \n",
    "  ロードしたマジックコマンドをアンロード"
   ]
  },
  {
   "cell_type": "markdown",
   "metadata": {
    "slideshow": {
     "slide_type": "subslide"
    }
   },
   "source": [
    "### cell magic"
   ]
  },
  {
   "cell_type": "markdown",
   "metadata": {
    "slideshow": {
     "slide_type": "subslide"
    }
   },
   "source": [
    "#### %%writefile, %%file\n",
    "* セルに記述した内容をファイルに書き出す\n",
    "* モジュール化したい場合などに便利\n",
    "* 外部データやモジュールが必用な場合でも、1つのNotebookで完結できる\n",
    "  -> 配布が楽"
   ]
  },
  {
   "cell_type": "code",
   "execution_count": 42,
   "metadata": {
    "deletable": false,
    "editable": false,
    "run_control": {
     "frozen": true
    },
    "slideshow": {
     "slide_type": "fragment"
    },
    "tags": [
     "f"
    ]
   },
   "outputs": [
    {
     "name": "stdout",
     "output_type": "stream",
     "text": [
      "Writing sample/hello.py\n"
     ]
    }
   ],
   "source": [
    "%%writefile sample/hello.py\n",
    "\n",
    "def func():\n",
    "    return \"hello world\""
   ]
  },
  {
   "cell_type": "code",
   "execution_count": 43,
   "metadata": {
    "deletable": false,
    "editable": false,
    "run_control": {
     "frozen": true
    },
    "slideshow": {
     "slide_type": "fragment"
    },
    "tags": [
     "f"
    ]
   },
   "outputs": [
    {
     "data": {
      "text/plain": [
       "'hello world'"
      ]
     },
     "execution_count": 43,
     "metadata": {},
     "output_type": "execute_result"
    }
   ],
   "source": [
    "from sample import hello\n",
    "\n",
    "hello.func()"
   ]
  },
  {
   "cell_type": "markdown",
   "metadata": {
    "slideshow": {
     "slide_type": "subslide"
    }
   },
   "source": [
    "#### %%time, %%timeit\n",
    "\n",
    "`%time`, `%timeit`をセル全体に対して実行できる"
   ]
  },
  {
   "cell_type": "markdown",
   "metadata": {
    "slideshow": {
     "slide_type": "subslide"
    }
   },
   "source": [
    "#### %%!, %%system, %%sx\n",
    "\n",
    "`!!`, `%system`, `%sx`をセル全体に対して実行できる"
   ]
  },
  {
   "cell_type": "code",
   "execution_count": 44,
   "metadata": {
    "deletable": false,
    "editable": false,
    "run_control": {
     "frozen": true
    },
    "slideshow": {
     "slide_type": "fragment"
    },
    "tags": [
     "f"
    ]
   },
   "outputs": [
    {
     "data": {
      "text/plain": [
       "['111,222,333', '100,200,300', 'AAA,BBB,CCC']"
      ]
     },
     "execution_count": 44,
     "metadata": {},
     "output_type": "execute_result"
    }
   ],
   "source": [
    "%%sx\n",
    "\n",
    "cat sample/file1.csv\n",
    "echo\n",
    "cat sample/file2.csv"
   ]
  },
  {
   "cell_type": "markdown",
   "metadata": {
    "slideshow": {
     "slide_type": "subslide"
    }
   },
   "source": [
    "#### %%capture\n",
    "\n",
    "標準出力と標準エラーをオブジェクトに格納できる"
   ]
  },
  {
   "cell_type": "code",
   "execution_count": 45,
   "metadata": {
    "deletable": false,
    "editable": false,
    "run_control": {
     "frozen": true
    },
    "slideshow": {
     "slide_type": "fragment"
    },
    "tags": [
     "f"
    ]
   },
   "outputs": [],
   "source": [
    "%%capture capture_out\n",
    "\n",
    "print(1)"
   ]
  },
  {
   "cell_type": "code",
   "execution_count": 46,
   "metadata": {
    "deletable": false,
    "editable": false,
    "run_control": {
     "frozen": true
    },
    "slideshow": {
     "slide_type": "fragment"
    },
    "tags": [
     "f"
    ]
   },
   "outputs": [
    {
     "data": {
      "text/plain": [
       "'1\\n'"
      ]
     },
     "execution_count": 46,
     "metadata": {},
     "output_type": "execute_result"
    }
   ],
   "source": [
    "capture_out.stdout"
   ]
  },
  {
   "cell_type": "markdown",
   "metadata": {
    "slideshow": {
     "slide_type": "subslide"
    }
   },
   "source": [
    "#### %%bash\n",
    "bashを実行する"
   ]
  },
  {
   "cell_type": "code",
   "execution_count": 47,
   "metadata": {
    "deletable": false,
    "editable": false,
    "run_control": {
     "frozen": true
    },
    "slideshow": {
     "slide_type": "fragment"
    },
    "tags": [
     "f"
    ]
   },
   "outputs": [
    {
     "name": "stdout",
     "output_type": "stream",
     "text": [
      "111,222,333\n",
      "100,200,300\n"
     ]
    }
   ],
   "source": [
    "%%bash\n",
    "\n",
    "for file in sample/*.csv\n",
    "do\n",
    "  grep 1 $file\n",
    "done"
   ]
  },
  {
   "cell_type": "markdown",
   "metadata": {
    "slideshow": {
     "slide_type": "subslide"
    }
   },
   "source": [
    "#### %%python2\n",
    "python2のコードを実行する"
   ]
  },
  {
   "cell_type": "code",
   "execution_count": 48,
   "metadata": {
    "deletable": false,
    "editable": false,
    "run_control": {
     "frozen": true
    },
    "slideshow": {
     "slide_type": "fragment"
    },
    "tags": [
     "f"
    ]
   },
   "outputs": [
    {
     "name": "stdout",
     "output_type": "stream",
     "text": [
      "[0, 1, 2]\n"
     ]
    }
   ],
   "source": [
    "%%python2\n",
    "\n",
    "def func():\n",
    "    yield 1\n",
    "\n",
    "func().next()\n",
    "print range(3)"
   ]
  },
  {
   "cell_type": "markdown",
   "metadata": {
    "slideshow": {
     "slide_type": "subslide"
    }
   },
   "source": [
    "#### %%pypy\n",
    "\n",
    "* PythonのコードをPyPyから実行する\n",
    "* `pypy3`ではなく`pypy`を呼び出す  \n",
    "  `pypy3`にする場合には環境変数やPATHを工夫する"
   ]
  },
  {
   "cell_type": "markdown",
   "metadata": {
    "slideshow": {
     "slide_type": "subslide"
    }
   },
   "source": [
    "#### Pythonで実行した場合"
   ]
  },
  {
   "cell_type": "code",
   "execution_count": 49,
   "metadata": {
    "deletable": false,
    "editable": false,
    "run_control": {
     "frozen": true
    },
    "slideshow": {
     "slide_type": "fragment"
    },
    "tags": [
     "f"
    ]
   },
   "outputs": [
    {
     "name": "stdout",
     "output_type": "stream",
     "text": [
      "0.490006685256958\n"
     ]
    }
   ],
   "source": [
    "import time\n",
    "\n",
    "start = time.time()\n",
    "for x in range(1000000):\n",
    "    x ** 2\n",
    "\n",
    "print(time.time() - start)"
   ]
  },
  {
   "cell_type": "markdown",
   "metadata": {
    "slideshow": {
     "slide_type": "subslide"
    }
   },
   "source": [
    "#### PyPyで実行した場合"
   ]
  },
  {
   "cell_type": "code",
   "execution_count": 50,
   "metadata": {
    "deletable": false,
    "editable": false,
    "run_control": {
     "frozen": true
    },
    "slideshow": {
     "slide_type": "fragment"
    },
    "tags": [
     "f"
    ]
   },
   "outputs": [
    {
     "name": "stdout",
     "output_type": "stream",
     "text": [
      "0.007111549377441406\n"
     ]
    }
   ],
   "source": [
    "%%pypy\n",
    "\n",
    "import time\n",
    "\n",
    "start = time.time()\n",
    "for x in range(1000000):\n",
    "    x ** 2\n",
    "\n",
    "print(time.time() - start)"
   ]
  },
  {
   "cell_type": "markdown",
   "metadata": {
    "slideshow": {
     "slide_type": "fragment"
    }
   },
   "source": [
    "実行速度が**70**倍に！"
   ]
  },
  {
   "cell_type": "markdown",
   "metadata": {
    "slideshow": {
     "slide_type": "subslide"
    }
   },
   "source": [
    "#### %%javascript, %%js\n",
    "JavaScriptのコードを実行"
   ]
  },
  {
   "cell_type": "code",
   "execution_count": 20,
   "metadata": {
    "deletable": false,
    "editable": false,
    "run_control": {
     "frozen": true
    },
    "slideshow": {
     "slide_type": "fragment"
    },
    "tags": [
     "f"
    ]
   },
   "outputs": [
    {
     "data": {
      "application/javascript": [
       "\n",
       "function fizzbuzz(n) {\n",
       "    if (n % 3 == 0 && n % 5 == 0) return \"Fizz,Buzz\";\n",
       "    else if (n % 3 == 0) return \"Fizz\";\n",
       "    else if (n % 5 == 0) return \"Buzz\";\n",
       "    else return n;\n",
       "}\n",
       "\n",
       "console.log(element.text(fizzbuzz(5)))"
      ],
      "text/plain": [
       "<IPython.core.display.Javascript object>"
      ]
     },
     "metadata": {},
     "output_type": "display_data"
    }
   ],
   "source": [
    "%%javascript\n",
    "\n",
    "function fizzbuzz(n) {\n",
    "    if (n % 3 == 0 && n % 5 == 0) return \"Fizz,Buzz\";\n",
    "    else if (n % 3 == 0) return \"Fizz\";\n",
    "    else if (n % 5 == 0) return \"Buzz\";\n",
    "    else return n;\n",
    "}\n",
    "\n",
    "console.log(element.text(fizzbuzz(5)))"
   ]
  },
  {
   "cell_type": "markdown",
   "metadata": {
    "slideshow": {
     "slide_type": "subslide"
    }
   },
   "source": [
    "#### %%ruby\n",
    "Rubyのコードを実行"
   ]
  },
  {
   "cell_type": "code",
   "execution_count": 52,
   "metadata": {
    "deletable": false,
    "editable": false,
    "run_control": {
     "frozen": true
    },
    "slideshow": {
     "slide_type": "fragment"
    },
    "tags": [
     "f"
    ]
   },
   "outputs": [
    {
     "name": "stdout",
     "output_type": "stream",
     "text": [
      "Fizz\n"
     ]
    }
   ],
   "source": [
    "%%ruby\n",
    "\n",
    "def fizzbuzz(n)\n",
    "    if n%15==0\n",
    "        return \"FizzBuzz\"\n",
    "    elsif n%3==0\n",
    "        return \"Fizz\"\n",
    "    elsif n%5==0 \n",
    "        return \"Buzz\"\n",
    "    else\n",
    "        return n\n",
    "    end\n",
    "end\n",
    "\n",
    "puts fizzbuzz(3)"
   ]
  },
  {
   "cell_type": "markdown",
   "metadata": {
    "slideshow": {
     "slide_type": "subslide"
    }
   },
   "source": [
    "#### %%perl\n",
    "Perlのコードを実行"
   ]
  },
  {
   "cell_type": "code",
   "execution_count": 53,
   "metadata": {
    "deletable": false,
    "editable": false,
    "run_control": {
     "frozen": true
    },
    "slideshow": {
     "slide_type": "fragment"
    },
    "tags": [
     "f"
    ]
   },
   "outputs": [
    {
     "name": "stdout",
     "output_type": "stream",
     "text": [
      "Fizz,Buzz"
     ]
    }
   ],
   "source": [
    "%%perl\n",
    "\n",
    "sub fizzbuzz {\n",
    "    my ($n) = @_;\n",
    "    if ( $n % 3 == 0 && $n % 5 == 0 ) {\n",
    "        return \"Fizz,Buzz\";\n",
    "    }\n",
    "    elsif ( $n % 3 == 0 ) {\n",
    "        print \"Fizz\";\n",
    "    }\n",
    "    elsif ( $n % 5 == 0 ) {\n",
    "        return \"Buzz\";\n",
    "    }\n",
    "    else {\n",
    "        return $n;\n",
    "    }\n",
    "}\n",
    "\n",
    "print fizzbuzz(15)"
   ]
  },
  {
   "cell_type": "markdown",
   "metadata": {
    "slideshow": {
     "slide_type": "subslide"
    }
   },
   "source": [
    "#### %%script\n",
    "\n",
    "* 引数をシバン(#!)のように扱える  \n",
    "  つまり、なんでもできる"
   ]
  },
  {
   "cell_type": "markdown",
   "metadata": {
    "slideshow": {
     "slide_type": "subslide"
    }
   },
   "source": [
    "#### juliaの実行例"
   ]
  },
  {
   "cell_type": "code",
   "execution_count": 54,
   "metadata": {
    "deletable": false,
    "editable": false,
    "run_control": {
     "frozen": true
    },
    "slideshow": {
     "slide_type": "fragment"
    },
    "tags": [
     "f"
    ]
   },
   "outputs": [
    {
     "name": "stdout",
     "output_type": "stream",
     "text": [
      "fizzbuzz (generic function with 1 method)\n",
      "3\n"
     ]
    }
   ],
   "source": [
    "%%script julia\n",
    "\n",
    "function fizzbuzz(n)\n",
    "    if n % 15 == 0\n",
    "        println(\"fizzbuzz\")\n",
    "    elseif n % 5 == 0\n",
    "        println(\"buzz\")\n",
    "    elseif n % 3 == 0\n",
    "        println(\"fizz\")\n",
    "    else\n",
    "        println(n)\n",
    "    end\n",
    "end \n",
    "\n",
    "println(3)"
   ]
  },
  {
   "cell_type": "markdown",
   "metadata": {
    "slideshow": {
     "slide_type": "subslide"
    }
   },
   "source": [
    "#### display関連\n",
    "セルに記述された内容をレンダリングして出力  \n",
    "詳細は`IPython.display`で解説\n",
    "* %%HTML, %%html\n",
    "* %%SVG, %%svg\n",
    "* %%markdown\n",
    "* %%latex"
   ]
  },
  {
   "cell_type": "markdown",
   "metadata": {
    "slideshow": {
     "slide_type": "slide"
    }
   },
   "source": [
    "### Jupyter NotebookでSQL"
   ]
  },
  {
   "cell_type": "markdown",
   "metadata": {
    "slideshow": {
     "slide_type": "subslide"
    }
   },
   "source": [
    "#### ipython-sql\n",
    "* 拡張マジックコマンド\n",
    "  - %sql, %%sql\n",
    "* SQLAlchemyからDBに接続  \n",
    "* pandas.DataFrameに対応"
   ]
  },
  {
   "cell_type": "markdown",
   "metadata": {
    "slideshow": {
     "slide_type": "subslide"
    }
   },
   "source": [
    "#### テーブルを作成"
   ]
  },
  {
   "cell_type": "code",
   "execution_count": 55,
   "metadata": {
    "deletable": false,
    "editable": false,
    "run_control": {
     "frozen": true
    },
    "slideshow": {
     "slide_type": "fragment"
    },
    "tags": [
     "f"
    ]
   },
   "outputs": [],
   "source": [
    "%load_ext sql"
   ]
  },
  {
   "cell_type": "code",
   "execution_count": 56,
   "metadata": {
    "deletable": false,
    "editable": false,
    "run_control": {
     "frozen": true
    },
    "slideshow": {
     "slide_type": "fragment"
    },
    "tags": [
     "f"
    ]
   },
   "outputs": [
    {
     "name": "stdout",
     "output_type": "stream",
     "text": [
      "Done.\n",
      "1 rows affected.\n",
      "1 rows affected.\n"
     ]
    },
    {
     "data": {
      "text/plain": [
       "[]"
      ]
     },
     "execution_count": 56,
     "metadata": {},
     "output_type": "execute_result"
    }
   ],
   "source": [
    "%%sql sqlite://\n",
    "CREATE TABLE sample_table (name, age);\n",
    "INSERT INTO sample_table VALUES ('Nagato', 16);\n",
    "INSERT INTO sample_table VALUES ('Mikuru', 17);"
   ]
  },
  {
   "cell_type": "markdown",
   "metadata": {
    "slideshow": {
     "slide_type": "subslide"
    }
   },
   "source": [
    "#### SELECTの結果をDataFrameに"
   ]
  },
  {
   "cell_type": "code",
   "execution_count": 57,
   "metadata": {
    "deletable": false,
    "editable": false,
    "run_control": {
     "frozen": true
    },
    "slideshow": {
     "slide_type": "fragment"
    },
    "tags": [
     "f"
    ]
   },
   "outputs": [
    {
     "name": "stdout",
     "output_type": "stream",
     "text": [
      " * sqlite://\n",
      "Done.\n"
     ]
    },
    {
     "data": {
      "text/html": [
       "<table>\n",
       "    <tr>\n",
       "        <th>name</th>\n",
       "        <th>age</th>\n",
       "    </tr>\n",
       "    <tr>\n",
       "        <td>Nagato</td>\n",
       "        <td>16</td>\n",
       "    </tr>\n",
       "    <tr>\n",
       "        <td>Mikuru</td>\n",
       "        <td>17</td>\n",
       "    </tr>\n",
       "</table>"
      ],
      "text/plain": [
       "[('Nagato', 16), ('Mikuru', 17)]"
      ]
     },
     "execution_count": 57,
     "metadata": {},
     "output_type": "execute_result"
    }
   ],
   "source": [
    "%%sql\n",
    "SELECT * from sample_table;"
   ]
  },
  {
   "cell_type": "code",
   "execution_count": 58,
   "metadata": {
    "deletable": false,
    "editable": false,
    "run_control": {
     "frozen": true
    },
    "slideshow": {
     "slide_type": "fragment"
    },
    "tags": [
     "f"
    ]
   },
   "outputs": [
    {
     "data": {
      "text/plain": [
       "16.5"
      ]
     },
     "execution_count": 58,
     "metadata": {},
     "output_type": "execute_result"
    }
   ],
   "source": [
    "_.DataFrame()[\"age\"].mean()"
   ]
  },
  {
   "cell_type": "markdown",
   "metadata": {
    "slideshow": {
     "slide_type": "slide"
    }
   },
   "source": [
    "## 4. Unofficial Jupyter Notebook Extensions"
   ]
  },
  {
   "cell_type": "markdown",
   "metadata": {
    "slideshow": {
     "slide_type": "subslide"
    }
   },
   "source": [
    "#### Unofficial Jupyter Notebook Extensions\n",
    "※ 以降は`nbextensions`と表記\n",
    "\n",
    "* Notebookに機能を追加する拡張機能群\n",
    "* JavaScript\n",
    "* ローカルブラウザで動作"
   ]
  },
  {
   "cell_type": "markdown",
   "metadata": {
    "slideshow": {
     "slide_type": "subslide"
    }
   },
   "source": [
    "#### ExecuteTime\n",
    "\n",
    "* セルの実行時間が表示される\n",
    "* デフォルトで表示されるため、`%%time`よりお手軽\n",
    "\n",
    "![ExecuteTime](./static/images/ExecuteTime.png)"
   ]
  },
  {
   "cell_type": "markdown",
   "metadata": {
    "slideshow": {
     "slide_type": "subslide"
    }
   },
   "source": [
    "#### Snippets\n",
    "\n",
    "* ドロップダウンで登録済みのスニペットをセルに貼付け\n",
    "* 任意のコードやマークアップなどを登録できる\n",
    "* さまざまな用途に  \n",
    "  - import\n",
    "  - docstringのテンプレート\n",
    "  - チートシート代わり"
   ]
  },
  {
   "cell_type": "markdown",
   "metadata": {
    "slideshow": {
     "slide_type": "subslide"
    }
   },
   "source": [
    "#### よくやるimport処理"
   ]
  },
  {
   "cell_type": "markdown",
   "metadata": {
    "slideshow": {
     "slide_type": "fragment"
    }
   },
   "source": [
    "![import matplotlib](./static/images/snipet_import.png)"
   ]
  },
  {
   "cell_type": "code",
   "execution_count": null,
   "metadata": {
    "deletable": false,
    "editable": false,
    "run_control": {
     "frozen": true
    },
    "slideshow": {
     "slide_type": "fragment"
    }
   },
   "outputs": [],
   "source": [
    "%matplotlib inline\n",
    "import matplotlib.pyplot as plt\n",
    "import numpy as np"
   ]
  },
  {
   "cell_type": "markdown",
   "metadata": {
    "slideshow": {
     "slide_type": "subslide"
    }
   },
   "source": [
    "#### docstringのテンプレート"
   ]
  },
  {
   "cell_type": "markdown",
   "metadata": {
    "slideshow": {
     "slide_type": "fragment"
    }
   },
   "source": [
    "![import matplotlib](./static/images/snipet_numpy.png)"
   ]
  },
  {
   "cell_type": "code",
   "execution_count": null,
   "metadata": {
    "deletable": false,
    "editable": false,
    "run_control": {
     "frozen": true
    },
    "slideshow": {
     "slide_type": "fragment"
    }
   },
   "outputs": [],
   "source": [
    "def func(arg1, arg2):\n",
    "    \"\"\"Summary line.\n",
    "    \n",
    "    Extended description of function.\n",
    "    \n",
    "    Parameters\n",
    "    ----------\n",
    "    arg1 : int\n",
    "        Description of arg1\n",
    "    arg2 : str\n",
    "        Description of arg2\n",
    "    \n",
    "    Returns\n",
    "    -------\n",
    "    bool\n",
    "        Description of return value\n",
    "    \n",
    "    \"\"\"\n",
    "    return"
   ]
  },
  {
   "cell_type": "markdown",
   "metadata": {
    "slideshow": {
     "slide_type": "subslide"
    }
   },
   "source": [
    "#### Snippets Menu\n",
    "* 予めよくつかわれるスニペットが登録されている\n",
    "  - numpy, scipy, matplotlib, sympy, pandas\n",
    "  - astropy, h5py, numba\n",
    "  - python\n",
    " - markdown\n",
    "* カスタマイズできる"
   ]
  },
  {
   "cell_type": "markdown",
   "metadata": {
    "slideshow": {
     "slide_type": "slide"
    }
   },
   "source": [
    "### Jupyter Notebookでもきれいなコードを書く"
   ]
  },
  {
   "cell_type": "markdown",
   "metadata": {
    "slideshow": {
     "slide_type": "subslide"
    }
   },
   "source": [
    "#### pycodestyle_magic\n",
    "\n",
    "* 拡張マジック\n",
    "* [pycodestyle](http://pycodestyle.pycqa.org/en/latest/)のcell magic\n",
    "* PEP8に違反した箇所を出力\n",
    "* コードは実行しないので注意"
   ]
  },
  {
   "cell_type": "code",
   "execution_count": 61,
   "metadata": {
    "deletable": false,
    "editable": false,
    "run_control": {
     "frozen": true
    },
    "slideshow": {
     "slide_type": "subslide"
    },
    "tags": [
     "f"
    ]
   },
   "outputs": [],
   "source": [
    "%load_ext pycodestyle_magic"
   ]
  },
  {
   "cell_type": "code",
   "execution_count": 62,
   "metadata": {
    "deletable": false,
    "editable": false,
    "run_control": {
     "frozen": true
    },
    "slideshow": {
     "slide_type": "fragment"
    },
    "tags": [
     "f"
    ]
   },
   "outputs": [
    {
     "name": "stderr",
     "output_type": "stream",
     "text": [
      "2:8: E231 missing whitespace after ','\n",
      "2:10: E202 whitespace before ')'\n",
      "4:1: E305 expected 2 blank lines after class or function definition, found 0\n",
      "4:8: E231 missing whitespace after ','\n"
     ]
    }
   ],
   "source": [
    "%%pycodestyle\n",
    "\n",
    "def f(x,y ):\n",
    "    return x**+y\n",
    "print(3,2)"
   ]
  },
  {
   "cell_type": "markdown",
   "metadata": {
    "slideshow": {
     "slide_type": "subslide"
    }
   },
   "source": [
    "#### Ruler\n",
    "\n",
    "* nbextensions\n",
    "* 指定した文字数に縦線を描画\n",
    "* コード1行当たりの文字数の上限を可視化できる\n",
    "* 線の色やスタイルが変更できる\n",
    "* 線は複数設定できる  \n",
    "  インデントの可視化など\n",
    "\n",
    "![Ruler](./static/images/Ruler.png)"
   ]
  },
  {
   "cell_type": "markdown",
   "metadata": {
    "slideshow": {
     "slide_type": "subslide"
    }
   },
   "source": [
    "#### isort formatter\n",
    "\n",
    "* [isort](http://timothycrosley.github.io/isort/)のnbextensions\n",
    "* <i class=\"fa-legal fa\"></i>ボタン1発でimport文を並び替える"
   ]
  },
  {
   "cell_type": "markdown",
   "metadata": {
    "slideshow": {
     "slide_type": "subslide"
    }
   },
   "source": [
    "#### Before"
   ]
  },
  {
   "cell_type": "code",
   "execution_count": null,
   "metadata": {
    "deletable": false,
    "editable": false,
    "run_control": {
     "frozen": true
    },
    "slideshow": {
     "slide_type": "fragment"
    }
   },
   "outputs": [],
   "source": [
    "import pandas as pd\n",
    "import numpy as np\n",
    "from datetime import datetime\n",
    "import ast"
   ]
  },
  {
   "cell_type": "markdown",
   "metadata": {
    "slideshow": {
     "slide_type": "fragment"
    }
   },
   "source": [
    "#### After<i class=\"fa-legal fa\"></i>"
   ]
  },
  {
   "cell_type": "code",
   "execution_count": null,
   "metadata": {
    "deletable": false,
    "editable": false,
    "run_control": {
     "frozen": true
    },
    "slideshow": {
     "slide_type": "fragment"
    }
   },
   "outputs": [],
   "source": [
    "import ast\n",
    "from datetime import datetime\n",
    "\n",
    "import numpy as np\n",
    "import pandas as pd"
   ]
  },
  {
   "cell_type": "markdown",
   "metadata": {
    "slideshow": {
     "slide_type": "subslide"
    }
   },
   "source": [
    "#### コードフォーマッタ\n",
    "\n",
    "* [autopep8](https://github.com/hhatto/autopep8)  \n",
    "  nbextensions:Autopep8\n",
    "* [yapf](https://github.com/google/yapf)  \n",
    "  nbextensions:Code prettify\n",
    "* [Black](https://black.readthedocs.io/en/stable/index.html)  \n",
    "  cell magic:[blackcellmagic](https://github.com/csurfer/blackcellmagic)  \n",
    "  nbextensions:[jupyter-black](https://github.com/drillan/jupyter-black)"
   ]
  },
  {
   "cell_type": "markdown",
   "metadata": {
    "slideshow": {
     "slide_type": "subslide"
    }
   },
   "source": [
    "#### おだい:このコードをなんとかする\n",
    "```python\n",
    "pd.DataFrame(data={\"A\":[1000,2000,3000,4000,5000,6000],\"B\":[.001,.002,.003,.004,.005,.006],},index=range(1,7),dtype=int,).reindex(range(1,10)).append(pd.DataFrame([[8000,.008]],columns=[\"A\",\"B\"])).interpolate(method=\"index\",axis=0,limit=10000,inplace=False,limit_direction=\"forward\",limit_area=\"inside\",downcast=\"infer\",)\n",
    "```"
   ]
  },
  {
   "cell_type": "markdown",
   "metadata": {
    "slideshow": {
     "slide_type": "subslide"
    }
   },
   "source": [
    "#### Autopep8\n",
    "<i class=\"fa-legal fa\"></i>ボタン1発で整形できる"
   ]
  },
  {
   "cell_type": "code",
   "execution_count": null,
   "metadata": {
    "deletable": false,
    "editable": false,
    "run_control": {
     "frozen": true
    },
    "slideshow": {
     "slide_type": "fragment"
    }
   },
   "outputs": [],
   "source": [
    "pd.DataFrame(data={\"A\": [1000, 2000, 3000, 4000, 5000, 6000], \"B\": [.001, .002, .003, .004, .005, .006], }, index=range(1, 7), dtype=int,).reindex(range(1, 10)).append(\n",
    "    pd.DataFrame([[8000, .008]], columns=[\"A\", \"B\"])).interpolate(method=\"index\", axis=0, limit=10000, inplace=False, limit_direction=\"forward\", limit_area=\"inside\", downcast=\"infer\",)"
   ]
  },
  {
   "cell_type": "markdown",
   "metadata": {
    "slideshow": {
     "slide_type": "subslide"
    }
   },
   "source": [
    "#### Code prettify(yapf)\n",
    "<i class=\"fa-legal fa\"></i>ボタン1発で整形できる"
   ]
  },
  {
   "cell_type": "code",
   "execution_count": null,
   "metadata": {
    "deletable": false,
    "editable": false,
    "run_control": {
     "frozen": true
    },
    "slideshow": {
     "slide_type": "fragment"
    }
   },
   "outputs": [],
   "source": [
    "pd.DataFrame(\n",
    "    data={\n",
    "        \"A\": [1000, 2000, 3000, 4000, 5000, 6000],\n",
    "        \"B\": [.001, .002, .003, .004, .005, .006],\n",
    "    },\n",
    "    index=range(1, 7),\n",
    "    dtype=int,\n",
    ").reindex(range(1, 10)).append(\n",
    "    pd.DataFrame([[8000, .008]], columns=[\"A\", \"B\"])).interpolate(\n",
    "        method=\"index\",\n",
    "        axis=0,\n",
    "        limit=10000,\n",
    "        inplace=False,\n",
    "        limit_direction=\"forward\",\n",
    "        limit_area=\"inside\",\n",
    "        downcast=\"infer\",\n",
    "    )"
   ]
  },
  {
   "cell_type": "markdown",
   "metadata": {
    "slideshow": {
     "slide_type": "subslide"
    }
   },
   "source": [
    "#### %%blackcellmagic\n",
    "セルマジックを使う"
   ]
  },
  {
   "cell_type": "code",
   "execution_count": null,
   "metadata": {
    "deletable": false,
    "editable": false,
    "run_control": {
     "frozen": true
    },
    "slideshow": {
     "slide_type": "fragment"
    }
   },
   "outputs": [],
   "source": [
    "%load_ext blackcellmagic"
   ]
  },
  {
   "cell_type": "code",
   "execution_count": null,
   "metadata": {
    "deletable": false,
    "editable": false,
    "run_control": {
     "frozen": true
    },
    "slideshow": {
     "slide_type": "fragment"
    }
   },
   "outputs": [],
   "source": [
    "%%black\n",
    "pd.DataFrame(data={\"A\":[1000,2000,3000,4000,5000,6000],\"B\":[.001,.002,.003,.004,.005,.006],},index=range(1,7),dtype=int,).reindex(range(1,10)).append(pd.DataFrame([[8000,.008]],columns=[\"A\",\"B\"])).interpolate(method=\"index\",axis=0,limit=10000,inplace=False,limit_direction=\"forward\",limit_area=\"inside\",downcast=\"infer\",)"
   ]
  },
  {
   "cell_type": "code",
   "execution_count": null,
   "metadata": {
    "deletable": false,
    "editable": false,
    "run_control": {
     "frozen": true
    },
    "slideshow": {
     "slide_type": "subslide"
    }
   },
   "outputs": [],
   "source": [
    "pd.DataFrame(\n",
    "    data={\n",
    "        \"A\": [1000, 2000, 3000, 4000, 5000, 6000],\n",
    "        \"B\": [.001, .002, .003, .004, .005, .006],\n",
    "    },\n",
    "    index=range(1, 7),\n",
    "    dtype=int,\n",
    ").reindex(range(1, 10)).append(\n",
    "    pd.DataFrame([[8000, .008]], columns=[\"A\", \"B\"])\n",
    ").interpolate(\n",
    "    method=\"index\",\n",
    "    axis=0,\n",
    "    limit=10000,\n",
    "    inplace=False,\n",
    "    limit_direction=\"forward\",\n",
    "    limit_area=\"inside\",\n",
    "    downcast=\"infer\",\n",
    ")"
   ]
  },
  {
   "cell_type": "markdown",
   "metadata": {
    "slideshow": {
     "slide_type": "subslide"
    }
   },
   "source": [
    "#### jupyter-black\n",
    "\n",
    "* blackはnbextensionsがない(2018/09/17時点)\n",
    "* ないので作った\n",
    "* ほかのフォーマッタ同様に <i class=\"fa-legal fa\">Black</i> ボタン1発でコードを整形できる\n",
    "* 公式でnbextensionsを出してくれたらお役御免に"
   ]
  },
  {
   "cell_type": "markdown",
   "metadata": {
    "slideshow": {
     "slide_type": "slide"
    }
   },
   "source": [
    "## 5. IPython.display"
   ]
  },
  {
   "cell_type": "markdown",
   "metadata": {
    "slideshow": {
     "slide_type": "subslide"
    }
   },
   "source": [
    "### IPython.display\n",
    "\n",
    "* `DisplayObject`を継承したクラス\n",
    "* 文字列やURLから得たデータをレンダリングしてNotebook上に表示\n",
    "* cell magicで代用できるものが多い"
   ]
  },
  {
   "cell_type": "markdown",
   "metadata": {
    "slideshow": {
     "slide_type": "subslide"
    }
   },
   "source": [
    "#### HTML\n",
    "* raw HTMLデータを表示\n",
    "* URLやローカルPATHを指定できる\n",
    "* JavaScriptも動作する\n",
    "* これさえ使えれば、表示上の問題は大抵どうにかなる"
   ]
  },
  {
   "cell_type": "code",
   "execution_count": 63,
   "metadata": {
    "deletable": false,
    "editable": false,
    "run_control": {
     "frozen": true
    },
    "slideshow": {
     "slide_type": "fragment"
    },
    "tags": [
     "f"
    ]
   },
   "outputs": [
    {
     "data": {
      "text/html": [
       "<font color=red>Red</font>"
      ],
      "text/plain": [
       "<IPython.core.display.HTML object>"
      ]
     },
     "execution_count": 63,
     "metadata": {},
     "output_type": "execute_result"
    }
   ],
   "source": [
    "display.HTML(\"<font color=red>Red</font>\")"
   ]
  },
  {
   "cell_type": "markdown",
   "metadata": {
    "slideshow": {
     "slide_type": "subslide"
    }
   },
   "source": [
    "#### HTMLを利用してNotebookのスタイルも変更できる\n",
    "\n",
    "実行前\n",
    "![width before](./static/images/width100_before.png)\n",
    "実行後\n",
    "![width after](./static/images/width100_after.png)\n",
    "\n",
    "横幅を有効活用"
   ]
  },
  {
   "cell_type": "markdown",
   "metadata": {
    "slideshow": {
     "slide_type": "subslide"
    }
   },
   "source": [
    "#### Markdown\n",
    "* マークダウン記法で記述したテキストを表示\n",
    "* URLやローカルPATHを指定できる\n",
    "* GFMに対応"
   ]
  },
  {
   "cell_type": "code",
   "execution_count": 13,
   "metadata": {
    "slideshow": {
     "slide_type": "fragment"
    }
   },
   "outputs": [
    {
     "data": {
      "text/markdown": [
       "col1|col2\n",
       "----|----\n",
       "data|data"
      ],
      "text/plain": [
       "<IPython.core.display.Markdown object>"
      ]
     },
     "metadata": {},
     "output_type": "display_data"
    }
   ],
   "source": [
    "%%markdown\n",
    "col1|col2\n",
    "----|----\n",
    "data|data"
   ]
  },
  {
   "cell_type": "markdown",
   "metadata": {
    "slideshow": {
     "slide_type": "subslide"
    }
   },
   "source": [
    "#### Markdownの応用事例\n",
    "* `format`関数やf-stringと組み合わせられる\n",
    "* Jinja2と組み合わせるといろいろできる"
   ]
  },
  {
   "cell_type": "markdown",
   "metadata": {
    "slideshow": {
     "slide_type": "subslide"
    }
   },
   "source": [
    "#### 現在時刻に合わせてMarkdownであいさつする"
   ]
  },
  {
   "cell_type": "code",
   "execution_count": 14,
   "metadata": {
    "slideshow": {
     "slide_type": "fragment"
    },
    "tags": [
     "e"
    ]
   },
   "outputs": [
    {
     "data": {
      "text/markdown": [
       "# みなさんこんばんは"
      ],
      "text/plain": [
       "<IPython.core.display.Markdown object>"
      ]
     },
     "execution_count": 14,
     "metadata": {},
     "output_type": "execute_result"
    }
   ],
   "source": [
    "hour = datetime.datetime.now().timetuple().tm_hour\n",
    "oha = 4 <= hour < 11\n",
    "kon = 11 <= hour < 18\n",
    "ban = 18 <= hour or 0 <= hour < 4\n",
    "\n",
    "greetings = np.array([\"おはようございます\", \"こんにちは\", \"こんばんは\"])\n",
    "greeting = greetings[np.array([oha, kon, ban])][0]\n",
    "display.Markdown(f\"# みなさん{greeting}\")"
   ]
  },
  {
   "cell_type": "markdown",
   "metadata": {
    "slideshow": {
     "slide_type": "subslide"
    }
   },
   "source": [
    "#### The Zen of PythonをMarkdownで表示する"
   ]
  },
  {
   "cell_type": "code",
   "execution_count": null,
   "metadata": {
    "deletable": false,
    "editable": false,
    "run_control": {
     "frozen": true
    },
    "slideshow": {
     "slide_type": "fragment"
    }
   },
   "outputs": [],
   "source": [
    "zen_op_python = \"\".join([this.d.get(c, c) for c in this.s]).split(\"\\n\")\n",
    "\n",
    "tpl_text = \"\"\"\n",
    "#### {{ title }}\n",
    "{% for item in item_list %}\n",
    "  * {{ item }}\n",
    "{% endfor %}\n",
    "\"\"\"\n",
    "\n",
    "tpl = Template(tpl_text)\n",
    "display.Markdown(\n",
    "    tpl.render({\"title\": zen_op_python[0], \"item_list\": zen_op_python[2:]})\n",
    ")"
   ]
  },
  {
   "cell_type": "code",
   "execution_count": 67,
   "metadata": {
    "deletable": false,
    "editable": false,
    "hideCode": true,
    "run_control": {
     "frozen": true
    },
    "slideshow": {
     "slide_type": "subslide"
    }
   },
   "outputs": [
    {
     "data": {
      "text/markdown": [
       "\n",
       "#### The Zen of Python, by Tim Peters\n",
       "\n",
       "  * Beautiful is better than ugly.\n",
       "\n",
       "  * Explicit is better than implicit.\n",
       "\n",
       "  * Simple is better than complex.\n",
       "\n",
       "  * Complex is better than complicated.\n",
       "\n",
       "  * Flat is better than nested.\n",
       "\n",
       "  * Sparse is better than dense.\n",
       "\n",
       "  * Readability counts.\n",
       "\n",
       "  * Special cases aren't special enough to break the rules.\n",
       "\n",
       "  * Although practicality beats purity.\n",
       "\n",
       "  * Errors should never pass silently.\n",
       "\n",
       "  * Unless explicitly silenced.\n",
       "\n",
       "  * In the face of ambiguity, refuse the temptation to guess.\n",
       "\n",
       "  * There should be one-- and preferably only one --obvious way to do it.\n",
       "\n",
       "  * Although that way may not be obvious at first unless you're Dutch.\n",
       "\n",
       "  * Now is better than never.\n",
       "\n",
       "  * Although never is often better than *right* now.\n",
       "\n",
       "  * If the implementation is hard to explain, it's a bad idea.\n",
       "\n",
       "  * If the implementation is easy to explain, it may be a good idea.\n",
       "\n",
       "  * Namespaces are one honking great idea -- let's do more of those!\n"
      ],
      "text/plain": [
       "<IPython.core.display.Markdown object>"
      ]
     },
     "execution_count": 67,
     "metadata": {},
     "output_type": "execute_result"
    }
   ],
   "source": [
    "zen_op_python = \"\".join([this.d.get(c, c) for c in this.s]).split(\"\\n\")\n",
    "\n",
    "tpl_text = \"\"\"\n",
    "#### {{ title }}\n",
    "{% for item in item_list %}\n",
    "  * {{ item }}\n",
    "{% endfor %}\n",
    "\"\"\"\n",
    "\n",
    "tpl = Template(tpl_text)\n",
    "display.Markdown(\n",
    "    tpl.render({\"title\": zen_op_python[0], \"item_list\": zen_op_python[2:]})\n",
    ")"
   ]
  },
  {
   "cell_type": "markdown",
   "metadata": {
    "slideshow": {
     "slide_type": "subslide"
    }
   },
   "source": [
    "#### FileLink, FileLinks\n",
    "\n",
    "* PATHのハイパーリンクを作成\n",
    "* GitHubのリポジトリから参照させたい場合などに便利"
   ]
  },
  {
   "cell_type": "code",
   "execution_count": 69,
   "metadata": {
    "deletable": false,
    "editable": false,
    "run_control": {
     "frozen": true
    },
    "slideshow": {
     "slide_type": "fragment"
    }
   },
   "outputs": [
    {
     "data": {
      "text/html": [
       "./sample/<br>\n",
       "&nbsp;&nbsp;<a href='./sample/file2.csv' target='_blank'>file2.csv</a><br>\n",
       "&nbsp;&nbsp;<a href='./sample/file1.csv' target='_blank'>file1.csv</a><br>"
      ],
      "text/plain": [
       "./sample/\n",
       "  file2.csv\n",
       "  file1.csv"
      ]
     },
     "execution_count": 69,
     "metadata": {},
     "output_type": "execute_result"
    }
   ],
   "source": [
    "display.FileLinks(\"./sample/\")"
   ]
  },
  {
   "cell_type": "markdown",
   "metadata": {
    "slideshow": {
     "slide_type": "subslide"
    }
   },
   "source": [
    "#### Image, SVG, Video, YouTubeVideo\n",
    "* 画像・動画を表示\n",
    "* URLやPATHの指定ができる"
   ]
  },
  {
   "cell_type": "markdown",
   "metadata": {
    "slideshow": {
     "slide_type": "subslide"
    }
   },
   "source": [
    "####  display\n",
    "* オブジェクトをフロントエンドとして表示  \n",
    "  pandas.DataFrameなど\n",
    "* 表示形式をカスタマイズできる"
   ]
  },
  {
   "cell_type": "markdown",
   "metadata": {
    "slideshow": {
     "slide_type": "subslide"
    }
   },
   "source": [
    "#### displayの使用例"
   ]
  },
  {
   "cell_type": "code",
   "execution_count": 71,
   "metadata": {
    "deletable": false,
    "editable": false,
    "run_control": {
     "frozen": true
    },
    "slideshow": {
     "slide_type": "fragment"
    }
   },
   "outputs": [
    {
     "data": {
      "text/html": [
       "<div>\n",
       "<style scoped>\n",
       "    .dataframe tbody tr th:only-of-type {\n",
       "        vertical-align: middle;\n",
       "    }\n",
       "\n",
       "    .dataframe tbody tr th {\n",
       "        vertical-align: top;\n",
       "    }\n",
       "\n",
       "    .dataframe thead th {\n",
       "        text-align: right;\n",
       "    }\n",
       "</style>\n",
       "<table border=\"1\" class=\"dataframe\">\n",
       "  <thead>\n",
       "    <tr style=\"text-align: right;\">\n",
       "      <th></th>\n",
       "      <th>0</th>\n",
       "      <th>1</th>\n",
       "    </tr>\n",
       "  </thead>\n",
       "  <tbody>\n",
       "    <tr>\n",
       "      <th>0</th>\n",
       "      <td>10</td>\n",
       "      <td>20</td>\n",
       "    </tr>\n",
       "    <tr>\n",
       "      <th>1</th>\n",
       "      <td>30</td>\n",
       "      <td>40</td>\n",
       "    </tr>\n",
       "  </tbody>\n",
       "</table>\n",
       "</div>"
      ],
      "text/plain": [
       "    0   1\n",
       "0  10  20\n",
       "1  30  40"
      ]
     },
     "execution_count": 71,
     "metadata": {},
     "output_type": "execute_result"
    }
   ],
   "source": [
    "df1 = pd.DataFrame([[1, 2], [3, 4]])\n",
    "df2 = pd.DataFrame([[10, 20], [30, 40]])\n",
    "\n",
    "df1\n",
    "df2"
   ]
  },
  {
   "cell_type": "markdown",
   "metadata": {
    "slideshow": {
     "slide_type": "fragment"
    }
   },
   "source": [
    "通常は最後のオブジェクトしか表示されない"
   ]
  },
  {
   "cell_type": "code",
   "execution_count": 72,
   "metadata": {
    "deletable": false,
    "editable": false,
    "run_control": {
     "frozen": true
    },
    "slideshow": {
     "slide_type": "subslide"
    }
   },
   "outputs": [
    {
     "data": {
      "text/html": [
       "<div>\n",
       "<style scoped>\n",
       "    .dataframe tbody tr th:only-of-type {\n",
       "        vertical-align: middle;\n",
       "    }\n",
       "\n",
       "    .dataframe tbody tr th {\n",
       "        vertical-align: top;\n",
       "    }\n",
       "\n",
       "    .dataframe thead th {\n",
       "        text-align: right;\n",
       "    }\n",
       "</style>\n",
       "<table border=\"1\" class=\"dataframe\">\n",
       "  <thead>\n",
       "    <tr style=\"text-align: right;\">\n",
       "      <th></th>\n",
       "      <th>0</th>\n",
       "      <th>1</th>\n",
       "    </tr>\n",
       "  </thead>\n",
       "  <tbody>\n",
       "    <tr>\n",
       "      <th>0</th>\n",
       "      <td>1</td>\n",
       "      <td>2</td>\n",
       "    </tr>\n",
       "    <tr>\n",
       "      <th>1</th>\n",
       "      <td>3</td>\n",
       "      <td>4</td>\n",
       "    </tr>\n",
       "  </tbody>\n",
       "</table>\n",
       "</div>"
      ],
      "text/plain": [
       "   0  1\n",
       "0  1  2\n",
       "1  3  4"
      ]
     },
     "metadata": {},
     "output_type": "display_data"
    },
    {
     "data": {
      "text/html": [
       "<div>\n",
       "<style scoped>\n",
       "    .dataframe tbody tr th:only-of-type {\n",
       "        vertical-align: middle;\n",
       "    }\n",
       "\n",
       "    .dataframe tbody tr th {\n",
       "        vertical-align: top;\n",
       "    }\n",
       "\n",
       "    .dataframe thead th {\n",
       "        text-align: right;\n",
       "    }\n",
       "</style>\n",
       "<table border=\"1\" class=\"dataframe\">\n",
       "  <thead>\n",
       "    <tr style=\"text-align: right;\">\n",
       "      <th></th>\n",
       "      <th>0</th>\n",
       "      <th>1</th>\n",
       "    </tr>\n",
       "  </thead>\n",
       "  <tbody>\n",
       "    <tr>\n",
       "      <th>0</th>\n",
       "      <td>10</td>\n",
       "      <td>20</td>\n",
       "    </tr>\n",
       "    <tr>\n",
       "      <th>1</th>\n",
       "      <td>30</td>\n",
       "      <td>40</td>\n",
       "    </tr>\n",
       "  </tbody>\n",
       "</table>\n",
       "</div>"
      ],
      "text/plain": [
       "    0   1\n",
       "0  10  20\n",
       "1  30  40"
      ]
     },
     "metadata": {},
     "output_type": "display_data"
    }
   ],
   "source": [
    "display.display(df1)\n",
    "display.display(df2)"
   ]
  },
  {
   "cell_type": "markdown",
   "metadata": {
    "slideshow": {
     "slide_type": "subslide"
    }
   },
   "source": [
    "#### カスタマイズ例"
   ]
  },
  {
   "cell_type": "code",
   "execution_count": 73,
   "metadata": {
    "deletable": false,
    "editable": false,
    "run_control": {
     "frozen": true
    },
    "slideshow": {
     "slide_type": "fragment"
    }
   },
   "outputs": [
    {
     "data": {
      "text/plain": [
       "{\n",
       "  \"1\": 2,\n",
       "  \"3\": {\n",
       "    \"4\": 5\n",
       "  }\n",
       "}"
      ]
     },
     "metadata": {},
     "output_type": "display_data"
    }
   ],
   "source": [
    "class Json(object):\n",
    "    def __init__(self, json):\n",
    "        self.json = json\n",
    "\n",
    "    def _repr_pretty_(self, pp, cycle):\n",
    "        import json\n",
    "\n",
    "        pp.text(json.dumps(self.json, indent=2))\n",
    "\n",
    "    def __repr__(self):\n",
    "        return str(self.json)\n",
    "\n",
    "display.display(Json({1: 2, 3: {4: 5}}))"
   ]
  },
  {
   "cell_type": "markdown",
   "metadata": {
    "slideshow": {
     "slide_type": "subslide"
    }
   },
   "source": [
    "#### clear_output\n",
    "\n",
    "* 表示を消去する\n",
    "* 表示した情報を更新する場合に便利\n",
    "  - 出力を追記ではなく上書きする\n",
    "  - 画像を表示して差し替える(アニメーション)"
   ]
  },
  {
   "cell_type": "code",
   "execution_count": 15,
   "metadata": {
    "slideshow": {
     "slide_type": "subslide"
    },
    "tags": [
     "e"
    ]
   },
   "outputs": [
    {
     "name": "stdout",
     "output_type": "stream",
     "text": [
      "4\n"
     ]
    }
   ],
   "source": [
    "for i in range(5):\n",
    "    print(i)\n",
    "    time.sleep(2)\n",
    "    display.clear_output(wait=True)"
   ]
  },
  {
   "cell_type": "markdown",
   "metadata": {
    "slideshow": {
     "slide_type": "subslide"
    }
   },
   "source": [
    "#### update_display\n",
    "\n",
    "* `display`で一度表示した情報を更新\n",
    "* 複数の表示情報を制御できる\n",
    "* ipywidgetsと組み合わせると便利"
   ]
  },
  {
   "cell_type": "code",
   "execution_count": null,
   "metadata": {
    "slideshow": {
     "slide_type": "subslide"
    }
   },
   "outputs": [],
   "source": [
    "display.display(pd.DataFrame(np.random.rand(4, 4)), display_id=\"df1\")"
   ]
  },
  {
   "cell_type": "code",
   "execution_count": null,
   "metadata": {
    "slideshow": {
     "slide_type": "fragment"
    }
   },
   "outputs": [],
   "source": [
    "for i in range(5):\n",
    "    display.update_display(pd.DataFrame(np.random.rand(4, 4)), display_id=\"df1\")\n",
    "    time.sleep(1)"
   ]
  },
  {
   "cell_type": "markdown",
   "metadata": {
    "slideshow": {
     "slide_type": "slide"
    }
   },
   "source": [
    "## 6. ipywidgets"
   ]
  },
  {
   "cell_type": "markdown",
   "metadata": {
    "slideshow": {
     "slide_type": "subslide"
    }
   },
   "source": [
    "#### ipywidgets\n",
    "* Notebook上にインタラクティブなUIを提供\n",
    "* 多数のインタフェース  \n",
    "  Button, Slider, Dropdown, RadioButtons, Date picker...\n",
    "* 実装が容易"
   ]
  },
  {
   "cell_type": "markdown",
   "metadata": {
    "slideshow": {
     "slide_type": "subslide"
    }
   },
   "source": [
    "#### 3行でできるUI"
   ]
  },
  {
   "cell_type": "code",
   "execution_count": null,
   "metadata": {
    "slideshow": {
     "slide_type": "fragment"
    }
   },
   "outputs": [],
   "source": [
    "@interact(checked=True, selected=[\"A\", \"B\", \"C\"])\n",
    "def f(checked, selected):\n",
    "    return checked, selected"
   ]
  },
  {
   "cell_type": "markdown",
   "metadata": {
    "slideshow": {
     "slide_type": "subslide"
    }
   },
   "source": [
    "#### 事例:ファンドの組み入れ比率\n",
    "* 複数の投資信託の投資比率を考えてみる  \n",
    "  ファンドA, ファンドB, ファンドC\n",
    "* できるだけリターンを大きくしたい\n",
    "* できるだけリスクを小さくしたい"
   ]
  },
  {
   "cell_type": "markdown",
   "metadata": {
    "slideshow": {
     "slide_type": "subslide"
    }
   },
   "source": [
    "#### 投資比率をパラメータ化\n",
    "1. リターンとリスクを算出する関数を作成\n",
    "2. パラメータを変更して`1.`の結果を確認"
   ]
  },
  {
   "cell_type": "markdown",
   "metadata": {
    "slideshow": {
     "slide_type": "fragment"
    }
   },
   "source": [
    "* パラメータを手入力で変更するのは大変\n",
    "* すべての組み合わせを一覧化・可視化すると情報が多すぎる\n",
    "* 状況に応じて裁量でパラメータを調整したい"
   ]
  },
  {
   "cell_type": "markdown",
   "metadata": {
    "slideshow": {
     "slide_type": "subslide"
    }
   },
   "source": [
    "#### ipywidgetsでインタラクティブにリターンとリスクを可視化"
   ]
  },
  {
   "cell_type": "code",
   "execution_count": null,
   "metadata": {
    "hideCode": true,
    "hide_input": false,
    "slideshow": {
     "slide_type": "fragment"
    }
   },
   "outputs": [],
   "source": [
    "def fund_returns(s0, mu, sigma, t, dt):\n",
    "    return s0 * np.exp(\n",
    "        np.cumsum(np.random.normal(mu * dt, sigma * np.sqrt(dt), round(t / dt)))\n",
    "    )\n",
    "\n",
    "\n",
    "def get_return_and_risk(a, b):\n",
    "    weight = (a, b, 1 - sum((a, b)))\n",
    "    return_df = df * weight\n",
    "    return return_df.sum(axis=1).pct_change().var(), return_df.iloc[-1].sum() / 100\n",
    "\n",
    "\n",
    "np.random.seed(9)\n",
    "fund_a = fund_returns(100, 0.1, 0.15, 1, 0.01)\n",
    "fund_b = fund_returns(100, 0.12, 0.4, 1, 0.01)\n",
    "fund_c = fund_returns(100, 0.05, 0.1, 1, 0.01)\n",
    "df = pd.DataFrame({\"A\": fund_a, \"B\": fund_b, \"C\": fund_c})\n",
    "\n",
    "\n",
    "@interact(\n",
    "    a=FloatSlider(0.3, min=0.0, max=1.0, step=0.1, continuous_update=False),\n",
    "    b=FloatSlider(0.3, min=0.0, max=1.0, step=0.1, continuous_update=False),\n",
    ")\n",
    "def plot_return_and_risk(a, b):\n",
    "    c = 1 - sum((a, b))\n",
    "    fig = plt.figure(figsize=(14, 6))\n",
    "    ax1 = fig.add_subplot(1, 2, 1)\n",
    "    ax1.plot(fund_a, label=\"FundA\")\n",
    "    ax1.plot(fund_b, label=\"FundB\")\n",
    "    ax1.plot(fund_c, label=\"FundC\")\n",
    "    ax2 = fig.add_subplot(1, 2, 2)\n",
    "    ax1.legend()\n",
    "    ax2.set_title(f\"a:{a:.2}0%, b:{b:.2}0%, c:{c:.2}0%\", fontsize=20)\n",
    "    ax2.set_xlim(0, 0.002)\n",
    "    ax2.set_xlabel(\"Risk\", fontsize=20)\n",
    "    ax2.set_ylabel(\"Return\", fontsize=20)\n",
    "    ax2.set_ylim(0.8, 1.5)\n",
    "    ax2.scatter(*get_return_and_risk(a, b), s=1000)\n",
    "    ax2.axvline(0.001, c=\"black\")\n",
    "    ax2.axhline(1.0, c=\"black\")"
   ]
  },
  {
   "cell_type": "markdown",
   "metadata": {
    "slideshow": {
     "slide_type": "slide"
    }
   },
   "source": [
    "## 7. Jupyter Notebookでプレゼンテーション"
   ]
  },
  {
   "cell_type": "markdown",
   "metadata": {
    "slideshow": {
     "slide_type": "subslide"
    }
   },
   "source": [
    "#### 資料作成の悩み\n",
    "1. 資料に使えそうなコードを書く\n",
    "2. コードや実行結果をスライドに転記する\n",
    "3. `1.`を途中で変更する\n",
    "4. ウギャーとなる  \n",
    "  - 転記が大変\n",
    "  - 漏れが出る"
   ]
  },
  {
   "cell_type": "markdown",
   "metadata": {
    "slideshow": {
     "slide_type": "subslide"
    }
   },
   "source": [
    "#### Jupyter Notebook\n",
    "* スライドに変換する機能がある(nbconvert)\n",
    "* マークダウンで書ける\n",
    "* コードも実行結果もそのままスライドにできる\n",
    "* ウギャーとならない"
   ]
  },
  {
   "cell_type": "markdown",
   "metadata": {
    "slideshow": {
     "slide_type": "subslide"
    }
   },
   "source": [
    "#### Jupyter Notebookでいいんじゃね？\n",
    "* 変換がメンドウ\n",
    "* 変換後はコードが実行できない"
   ]
  },
  {
   "cell_type": "markdown",
   "metadata": {
    "slideshow": {
     "slide_type": "subslide"
    }
   },
   "source": [
    "#### RISE\n",
    "* Reveal.jsを利用したnbextensions\n",
    "* ボタン1発でNotebookからスライドに\n",
    "* スタイルをカスタマイズできる\n",
    "* スライド上からコードを実行できる\n",
    "* nbpresentというツールもあるらしい"
   ]
  },
  {
   "cell_type": "markdown",
   "metadata": {
    "slideshow": {
     "slide_type": "fragment"
    }
   },
   "source": [
    "RISEを使うとインタラクティブなプレゼンが可能に"
   ]
  },
  {
   "cell_type": "markdown",
   "metadata": {
    "slideshow": {
     "slide_type": "subslide"
    }
   },
   "source": [
    "#### コードが邪魔\n",
    "* 大抵において、プレゼン資料で必用なのはコードではなく実行結果  \n",
    "  - テーブルデータ(pandas.DataFrameなど)\n",
    "  - グラフ(Matplotlibなど)\n",
    "* 隠せるものなら隠したい  \n",
    "  - 全部のコード\n",
    "  - 一部のコード"
   ]
  },
  {
   "cell_type": "markdown",
   "metadata": {
    "slideshow": {
     "slide_type": "subslide"
    }
   },
   "source": [
    "#### Hide_code\n",
    "* nbextensions\n",
    "* チェックした項目を隠せる  \n",
    "  - [ ] Hide Prompts\n",
    "  - [ ] Hide Code\n",
    "  - [ ] Hide Outputs"
   ]
  },
  {
   "cell_type": "markdown",
   "metadata": {
    "slideshow": {
     "slide_type": "subslide"
    }
   },
   "source": [
    "#### cellの内容を固定したい\n",
    "* コードは見せたいが実行したくない\n",
    "* 一度実行した結果を固定したい"
   ]
  },
  {
   "cell_type": "markdown",
   "metadata": {
    "hide_input": true,
    "slideshow": {
     "slide_type": "subslide"
    }
   },
   "source": [
    "#### Freeze\n",
    "セルを読み取り専用にしたり、実行不可にできる  \n",
    "\n",
    "* <i class=\"fa-lock fa\"></i> read-only  \n",
    "  変更したくないセルにプロテクトをかけられる\n",
    "* <i class=\"fa-unlock-alt fa\"></i> unlock\n",
    "* <i class=\"fa-asterisk fa\"></i> frozen(実行不可)  \n",
    "  `Rull All`を実行した際に、実行したくないセルをスキップできる"
   ]
  },
  {
   "cell_type": "code",
   "execution_count": 75,
   "metadata": {
    "deletable": false,
    "editable": false,
    "hideCode": true,
    "hide_input": false,
    "run_control": {
     "frozen": true
    },
    "slideshow": {
     "slide_type": "subslide"
    }
   },
   "outputs": [
    {
     "data": {
      "text/html": [
       "<div class=\"tsumiki\">\n",
       "  <style>\n",
       "  .tsumiki .columns1 {\n",
       "    margin-bottom: 12px;\n",
       "  }\n",
       "</style>\n",
       "<h4>段組みにしたい</h4>\n",
       "<style>\n",
       "  .tsumiki .columns2 {\n",
       "    -webkit-columns: 2;\n",
       "    -moz-columns: 2;\n",
       "    -ms-columns: 2;\n",
       "    columns: 2;\n",
       "    display: inline-flex;\n",
       "    align-items: top;\n",
       "    width: 100%;\n",
       "  }\n",
       "\n",
       "\n",
       "  .tsumiki #col0 {\n",
       "      width: calc(100% / 2);\n",
       "  }\n",
       "\n",
       "  .tsumiki #col1 {\n",
       "      width: calc(100% / 2);\n",
       "  }\n",
       "\n",
       "</style>\n",
       "<div class=\"columns2\">\n",
       "  \n",
       "    <div id=\"col1\">\n",
       "    <ul>\n",
       "<li>よのなかのアスペクト比はどんどん横長に</li>\n",
       "<li>プレゼン資料で横長の文章は読みづらい</li>\n",
       "<li>左右に分割して比較をしたい</li>\n",
       "</ul>\n",
       "    </div>\n",
       "  \n",
       "    <div id=\"col2\">\n",
       "    <ul>\n",
       "<li>ここには</li>\n",
       "<li>有効なスペースが</li>\n",
       "<li>ありますよ</li>\n",
       "</ul>\n",
       "    </div>\n",
       "  \n",
       "</div> \n",
       "</div>"
      ],
      "text/plain": [
       "<IPython.core.display.HTML object>"
      ]
     },
     "execution_count": 75,
     "metadata": {},
     "output_type": "execute_result"
    }
   ],
   "source": [
    "%%tsumiki\n",
    "\n",
    ":Markdown:\n",
    "#### 段組みにしたい\n",
    "\n",
    ":Markdown::\n",
    "* よのなかのアスペクト比はどんどん横長に\n",
    "* プレゼン資料で横長の文章は読みづらい\n",
    "* 左右に分割して比較をしたい\n",
    "\n",
    ":Markdown::\n",
    "* ここには\n",
    "* 有効なスペースが\n",
    "* ありますよ"
   ]
  },
  {
   "cell_type": "markdown",
   "metadata": {
    "slideshow": {
     "slide_type": "subslide"
    }
   },
   "source": [
    "#### tsumiki\n",
    "* どりらんが考案したマークアップ記法\n",
    "* MarkdownやHTMLで記載した内容を複数列に表示できる\n",
    "* IPython/Jupyter Notebookのcell magicに対応\n",
    "* Jinja2に対応"
   ]
  },
  {
   "cell_type": "code",
   "execution_count": 31,
   "metadata": {
    "deletable": false,
    "editable": false,
    "hideCode": false,
    "hide_input": false,
    "run_control": {
     "frozen": true
    },
    "slideshow": {
     "slide_type": "subslide"
    }
   },
   "outputs": [
    {
     "data": {
      "text/html": [
       "<div class=\"tsumiki\">\n",
       "  <style>\n",
       "  .tsumiki .columns1 {\n",
       "    margin-bottom: 12px;\n",
       "  }\n",
       "</style>\n",
       "<h4>Main Title</h4>\n",
       "<style>\n",
       "  .tsumiki {\n",
       "      width: 100%;\n",
       "  }\n",
       "  .tsumiki .columns2 {\n",
       "    -webkit-columns: 2;\n",
       "    -moz-columns: 2;\n",
       "    -ms-columns: 2;\n",
       "    columns: 2;\n",
       "    display: inline-flex;\n",
       "    align-items: top;\n",
       "    width: 100%;\n",
       "  }\n",
       "\n",
       "\n",
       "  .tsumiki #col0 {\n",
       "      width: calc(100% / 2);\n",
       "  }\n",
       "\n",
       "  .tsumiki #col1 {\n",
       "      width: calc(100% / 2);\n",
       "  }\n",
       "\n",
       "</style>\n",
       "<div class=\"columns2\">\n",
       "  \n",
       "    <div id=\"col1\">\n",
       "    <h5>Sub Title1</h5>\n",
       "<ul>\n",
       "<li>col1</li>\n",
       "<li>Markdown</li>\n",
       "</ul>\n",
       "    </div>\n",
       "  \n",
       "    <div id=\"col2\">\n",
       "    <h5>Sub Title2</h5>\n",
       "<ul>\n",
       "  <li><font color=\"red\">col2</font></li>\n",
       "  <li><font color=\"green\">HTML</font></li>\n",
       "</ul>\n",
       "    </div>\n",
       "  \n",
       "</div> \n",
       "</div>"
      ],
      "text/plain": [
       "<IPython.core.display.HTML object>"
      ]
     },
     "execution_count": 31,
     "metadata": {},
     "output_type": "execute_result"
    }
   ],
   "source": [
    "%%tsumiki\n",
    "\n",
    ":Markdown:\n",
    "#### Main Title\n",
    ":Markdown::\n",
    "##### Sub Title1\n",
    "* col1\n",
    "* Markdown\n",
    ":HTML::\n",
    "<h5>Sub Title2</h5>\n",
    "<ul>\n",
    "  <li><font color=\"red\">col2</font></li>\n",
    "  <li><font color=\"green\">HTML</font></li>\n",
    "</ul>"
   ]
  },
  {
   "cell_type": "markdown",
   "metadata": {
    "slideshow": {
     "slide_type": "subslide"
    }
   },
   "source": [
    "#### Jinja2に対応"
   ]
  },
  {
   "cell_type": "code",
   "execution_count": 6,
   "metadata": {
    "slideshow": {
     "slide_type": "fragment"
    }
   },
   "outputs": [
    {
     "ename": "NameError",
     "evalue": "name 'datetime' is not defined",
     "output_type": "error",
     "traceback": [
      "\u001b[0;31m---------------------------------------------------------------------------\u001b[0m",
      "\u001b[0;31mNameError\u001b[0m                                 Traceback (most recent call last)",
      "\u001b[0;32m<ipython-input-6-dd64f53c7eb9>\u001b[0m in \u001b[0;36m<module>\u001b[0;34m()\u001b[0m\n\u001b[0;32m----> 1\u001b[0;31m \u001b[0mtoday\u001b[0m \u001b[0;34m=\u001b[0m \u001b[0mdatetime\u001b[0m\u001b[0;34m.\u001b[0m\u001b[0mdate\u001b[0m\u001b[0;34m.\u001b[0m\u001b[0mtoday\u001b[0m\u001b[0;34m(\u001b[0m\u001b[0;34m)\u001b[0m\u001b[0;34m\u001b[0m\u001b[0m\n\u001b[0m\u001b[1;32m      2\u001b[0m \u001b[0mtenki\u001b[0m \u001b[0;34m=\u001b[0m \u001b[0;34m[\u001b[0m\u001b[0;34m[\u001b[0m\u001b[0;34m\"23区\"\u001b[0m\u001b[0;34m,\u001b[0m \u001b[0;34m\"晴れ\"\u001b[0m\u001b[0;34m]\u001b[0m\u001b[0;34m,\u001b[0m \u001b[0;34m[\u001b[0m\u001b[0;34m\"練馬区\"\u001b[0m\u001b[0;34m,\u001b[0m \u001b[0;34m\"ゲリラ豪雨\"\u001b[0m\u001b[0;34m]\u001b[0m\u001b[0;34m]\u001b[0m\u001b[0;34m\u001b[0m\u001b[0m\n",
      "\u001b[0;31mNameError\u001b[0m: name 'datetime' is not defined"
     ]
    }
   ],
   "source": [
    "today = datetime.date.today()\n",
    "tenki = [[\"23区\", \"晴れ\"], [\"練馬区\", \"ゲリラ豪雨\"]]"
   ]
  },
  {
   "cell_type": "code",
   "execution_count": null,
   "metadata": {
    "slideshow": {
     "slide_type": "fragment"
    }
   },
   "outputs": [],
   "source": [
    "%%tsumiki -r\n",
    "\n",
    ":Markdown:\n",
    "### {{ today }}日の天気は\n",
    "{% for loc, weather in tenki %}\n",
    "  {{ loc }}は{{ weather }}\n",
    "{% endfor %}"
   ]
  },
  {
   "cell_type": "markdown",
   "metadata": {
    "slideshow": {
     "slide_type": "subslide"
    }
   },
   "source": [
    "#### pandas.DataFrame"
   ]
  },
  {
   "cell_type": "code",
   "execution_count": 2,
   "metadata": {
    "deletable": false,
    "editable": false,
    "run_control": {
     "frozen": true
    },
    "slideshow": {
     "slide_type": "fragment"
    }
   },
   "outputs": [],
   "source": [
    "df1 = pd.DataFrame(np.random.rand(4, 4))\n",
    "df2 = pd.DataFrame(np.random.rand(4, 4))\n",
    "df1_html = df1.to_html()\n",
    "df2_html = df2.to_html()"
   ]
  },
  {
   "cell_type": "code",
   "execution_count": 3,
   "metadata": {
    "deletable": false,
    "editable": false,
    "run_control": {
     "frozen": true
    },
    "slideshow": {
     "slide_type": "subslide"
    }
   },
   "outputs": [
    {
     "data": {
      "text/html": [
       "<div class=\"tsumiki\">\n",
       "  <style>\n",
       "  .tsumiki .columns2 {\n",
       "    -webkit-columns: 2;\n",
       "    -moz-columns: 2;\n",
       "    -ms-columns: 2;\n",
       "    columns: 2;\n",
       "    display: inline-flex;\n",
       "    align-items: top;\n",
       "    width: 100%;\n",
       "  }\n",
       "\n",
       "\n",
       "  .tsumiki #col0 {\n",
       "      width: calc(100% / 2);\n",
       "  }\n",
       "\n",
       "  .tsumiki #col1 {\n",
       "      width: calc(100% / 2);\n",
       "  }\n",
       "\n",
       "</style>\n",
       "<div class=\"columns2\">\n",
       "  \n",
       "    <div id=\"col1\">\n",
       "    <table border=\"1\" class=\"dataframe\">\n",
       "  <thead>\n",
       "    <tr style=\"text-align: right;\">\n",
       "      <th></th>\n",
       "      <th>0</th>\n",
       "      <th>1</th>\n",
       "      <th>2</th>\n",
       "      <th>3</th>\n",
       "    </tr>\n",
       "  </thead>\n",
       "  <tbody>\n",
       "    <tr>\n",
       "      <th>0</th>\n",
       "      <td>0.323934</td>\n",
       "      <td>0.231254</td>\n",
       "      <td>0.031324</td>\n",
       "      <td>0.572658</td>\n",
       "    </tr>\n",
       "    <tr>\n",
       "      <th>1</th>\n",
       "      <td>0.133523</td>\n",
       "      <td>0.270351</td>\n",
       "      <td>0.472770</td>\n",
       "      <td>0.388230</td>\n",
       "    </tr>\n",
       "    <tr>\n",
       "      <th>2</th>\n",
       "      <td>0.105396</td>\n",
       "      <td>0.438228</td>\n",
       "      <td>0.969362</td>\n",
       "      <td>0.529379</td>\n",
       "    </tr>\n",
       "    <tr>\n",
       "      <th>3</th>\n",
       "      <td>0.754079</td>\n",
       "      <td>0.098560</td>\n",
       "      <td>0.163029</td>\n",
       "      <td>0.898877</td>\n",
       "    </tr>\n",
       "  </tbody>\n",
       "</table>\n",
       "    </div>\n",
       "  \n",
       "    <div id=\"col2\">\n",
       "    <table border=\"1\" class=\"dataframe\">\n",
       "  <thead>\n",
       "    <tr style=\"text-align: right;\">\n",
       "      <th></th>\n",
       "      <th>0</th>\n",
       "      <th>1</th>\n",
       "      <th>2</th>\n",
       "      <th>3</th>\n",
       "    </tr>\n",
       "  </thead>\n",
       "  <tbody>\n",
       "    <tr>\n",
       "      <th>0</th>\n",
       "      <td>0.641554</td>\n",
       "      <td>0.512160</td>\n",
       "      <td>0.722562</td>\n",
       "      <td>0.088153</td>\n",
       "    </tr>\n",
       "    <tr>\n",
       "      <th>1</th>\n",
       "      <td>0.223776</td>\n",
       "      <td>0.356094</td>\n",
       "      <td>0.816858</td>\n",
       "      <td>0.521238</td>\n",
       "    </tr>\n",
       "    <tr>\n",
       "      <th>2</th>\n",
       "      <td>0.044340</td>\n",
       "      <td>0.417344</td>\n",
       "      <td>0.191742</td>\n",
       "      <td>0.910358</td>\n",
       "    </tr>\n",
       "    <tr>\n",
       "      <th>3</th>\n",
       "      <td>0.502237</td>\n",
       "      <td>0.131096</td>\n",
       "      <td>0.694244</td>\n",
       "      <td>0.029592</td>\n",
       "    </tr>\n",
       "  </tbody>\n",
       "</table>\n",
       "    </div>\n",
       "  \n",
       "</div> \n",
       "</div>"
      ],
      "text/plain": [
       "<IPython.core.display.HTML object>"
      ]
     },
     "execution_count": 3,
     "metadata": {},
     "output_type": "execute_result"
    }
   ],
   "source": [
    "%%tsumiki -r\n",
    "\n",
    ":HTML::\n",
    "{{ df1_html }}\n",
    "\n",
    ":HTML::\n",
    "{{ df2_html }}"
   ]
  },
  {
   "cell_type": "markdown",
   "metadata": {
    "slideshow": {
     "slide_type": "slide"
    }
   },
   "source": [
    "#### Matplotlib"
   ]
  },
  {
   "cell_type": "code",
   "execution_count": 4,
   "metadata": {
    "deletable": false,
    "editable": false,
    "hideOutput": false,
    "run_control": {
     "frozen": true
    },
    "slideshow": {
     "slide_type": "fragment"
    }
   },
   "outputs": [],
   "source": [
    "svg_data = StringIO()\n",
    "fig, ax = plt.subplots()\n",
    "ax.plot(df1)\n",
    "fig.savefig(svg_data, format=\"SVG\")\n",
    "plt.close(fig)\n",
    "svg_data.seek(0)\n",
    "plot_data = svg_data.read()"
   ]
  },
  {
   "cell_type": "code",
   "execution_count": 5,
   "metadata": {
    "deletable": false,
    "editable": false,
    "hide_input": false,
    "run_control": {
     "frozen": true
    },
    "slideshow": {
     "slide_type": "subslide"
    }
   },
   "outputs": [
    {
     "data": {
      "text/html": [
       "<div class=\"tsumiki\">\n",
       "  <style>\n",
       "  .tsumiki .columns1 {\n",
       "    margin-bottom: 12px;\n",
       "  }\n",
       "</style>\n",
       "<h5>DataFrame and Plot</h5>\n",
       "<style>\n",
       "  .tsumiki .columns2 {\n",
       "    -webkit-columns: 2;\n",
       "    -moz-columns: 2;\n",
       "    -ms-columns: 2;\n",
       "    columns: 2;\n",
       "    display: inline-flex;\n",
       "    align-items: top;\n",
       "    width: 100%;\n",
       "  }\n",
       "\n",
       "\n",
       "  .tsumiki #col0 {\n",
       "      width: calc(100% / 2);\n",
       "  }\n",
       "\n",
       "  .tsumiki #col1 {\n",
       "      width: calc(100% / 2);\n",
       "  }\n",
       "\n",
       "</style>\n",
       "<div class=\"columns2\">\n",
       "  \n",
       "    <div id=\"col1\">\n",
       "    <table border=\"1\" class=\"dataframe\">\n",
       "  <thead>\n",
       "    <tr style=\"text-align: right;\">\n",
       "      <th></th>\n",
       "      <th>0</th>\n",
       "      <th>1</th>\n",
       "      <th>2</th>\n",
       "      <th>3</th>\n",
       "    </tr>\n",
       "  </thead>\n",
       "  <tbody>\n",
       "    <tr>\n",
       "      <th>0</th>\n",
       "      <td>0.323934</td>\n",
       "      <td>0.231254</td>\n",
       "      <td>0.031324</td>\n",
       "      <td>0.572658</td>\n",
       "    </tr>\n",
       "    <tr>\n",
       "      <th>1</th>\n",
       "      <td>0.133523</td>\n",
       "      <td>0.270351</td>\n",
       "      <td>0.472770</td>\n",
       "      <td>0.388230</td>\n",
       "    </tr>\n",
       "    <tr>\n",
       "      <th>2</th>\n",
       "      <td>0.105396</td>\n",
       "      <td>0.438228</td>\n",
       "      <td>0.969362</td>\n",
       "      <td>0.529379</td>\n",
       "    </tr>\n",
       "    <tr>\n",
       "      <th>3</th>\n",
       "      <td>0.754079</td>\n",
       "      <td>0.098560</td>\n",
       "      <td>0.163029</td>\n",
       "      <td>0.898877</td>\n",
       "    </tr>\n",
       "  </tbody>\n",
       "</table>\n",
       "    </div>\n",
       "  \n",
       "    <div id=\"col2\">\n",
       "    <?xml version=\"1.0\" encoding=\"utf-8\" standalone=\"no\"?>\n",
       "<!DOCTYPE svg PUBLIC \"-//W3C//DTD SVG 1.1//EN\"\n",
       "  \"http://www.w3.org/Graphics/SVG/1.1/DTD/svg11.dtd\">\n",
       "<!-- Created with matplotlib (http://matplotlib.org/) -->\n",
       "<svg height=\"288pt\" version=\"1.1\" viewBox=\"0 0 432 288\" width=\"432pt\" xmlns=\"http://www.w3.org/2000/svg\" xmlns:xlink=\"http://www.w3.org/1999/xlink\">\n",
       " <defs>\n",
       "  <style type=\"text/css\">\n",
       "*{stroke-linecap:butt;stroke-linejoin:round;}\n",
       "  </style>\n",
       " </defs>\n",
       " <g id=\"figure_1\">\n",
       "  <g id=\"patch_1\">\n",
       "   <path d=\"M 0 288 \n",
       "L 432 288 \n",
       "L 432 0 \n",
       "L 0 0 \n",
       "z\n",
       "\" style=\"fill:#ffffff;\"/>\n",
       "  </g>\n",
       "  <g id=\"axes_1\">\n",
       "   <g id=\"patch_2\">\n",
       "    <path d=\"M 54 252 \n",
       "L 388.8 252 \n",
       "L 388.8 34.56 \n",
       "L 54 34.56 \n",
       "z\n",
       "\" style=\"fill:#ffffff;\"/>\n",
       "   </g>\n",
       "   <g id=\"matplotlib.axis_1\">\n",
       "    <g id=\"xtick_1\">\n",
       "     <g id=\"line2d_1\">\n",
       "      <defs>\n",
       "       <path d=\"M 0 0 \n",
       "L 0 3.5 \n",
       "\" id=\"md34dd72e97\" style=\"stroke:#000000;stroke-width:0.8;\"/>\n",
       "      </defs>\n",
       "      <g>\n",
       "       <use style=\"stroke:#000000;stroke-width:0.8;\" x=\"69.218182\" xlink:href=\"#md34dd72e97\" y=\"252\"/>\n",
       "      </g>\n",
       "     </g>\n",
       "     <g id=\"text_1\">\n",
       "      <!-- 0.0 -->\n",
       "      <defs>\n",
       "       <path d=\"M 31.78125 66.40625 \n",
       "Q 24.171875 66.40625 20.328125 58.90625 \n",
       "Q 16.5 51.421875 16.5 36.375 \n",
       "Q 16.5 21.390625 20.328125 13.890625 \n",
       "Q 24.171875 6.390625 31.78125 6.390625 \n",
       "Q 39.453125 6.390625 43.28125 13.890625 \n",
       "Q 47.125 21.390625 47.125 36.375 \n",
       "Q 47.125 51.421875 43.28125 58.90625 \n",
       "Q 39.453125 66.40625 31.78125 66.40625 \n",
       "z\n",
       "M 31.78125 74.21875 \n",
       "Q 44.046875 74.21875 50.515625 64.515625 \n",
       "Q 56.984375 54.828125 56.984375 36.375 \n",
       "Q 56.984375 17.96875 50.515625 8.265625 \n",
       "Q 44.046875 -1.421875 31.78125 -1.421875 \n",
       "Q 19.53125 -1.421875 13.0625 8.265625 \n",
       "Q 6.59375 17.96875 6.59375 36.375 \n",
       "Q 6.59375 54.828125 13.0625 64.515625 \n",
       "Q 19.53125 74.21875 31.78125 74.21875 \n",
       "z\n",
       "\" id=\"DejaVuSans-30\"/>\n",
       "       <path d=\"M 10.6875 12.40625 \n",
       "L 21 12.40625 \n",
       "L 21 0 \n",
       "L 10.6875 0 \n",
       "z\n",
       "\" id=\"DejaVuSans-2e\"/>\n",
       "      </defs>\n",
       "      <g transform=\"translate(61.266619 266.598437)scale(0.1 -0.1)\">\n",
       "       <use xlink:href=\"#DejaVuSans-30\"/>\n",
       "       <use x=\"63.623047\" xlink:href=\"#DejaVuSans-2e\"/>\n",
       "       <use x=\"95.410156\" xlink:href=\"#DejaVuSans-30\"/>\n",
       "      </g>\n",
       "     </g>\n",
       "    </g>\n",
       "    <g id=\"xtick_2\">\n",
       "     <g id=\"line2d_2\">\n",
       "      <g>\n",
       "       <use style=\"stroke:#000000;stroke-width:0.8;\" x=\"119.945455\" xlink:href=\"#md34dd72e97\" y=\"252\"/>\n",
       "      </g>\n",
       "     </g>\n",
       "     <g id=\"text_2\">\n",
       "      <!-- 0.5 -->\n",
       "      <defs>\n",
       "       <path d=\"M 10.796875 72.90625 \n",
       "L 49.515625 72.90625 \n",
       "L 49.515625 64.59375 \n",
       "L 19.828125 64.59375 \n",
       "L 19.828125 46.734375 \n",
       "Q 21.96875 47.46875 24.109375 47.828125 \n",
       "Q 26.265625 48.1875 28.421875 48.1875 \n",
       "Q 40.625 48.1875 47.75 41.5 \n",
       "Q 54.890625 34.8125 54.890625 23.390625 \n",
       "Q 54.890625 11.625 47.5625 5.09375 \n",
       "Q 40.234375 -1.421875 26.90625 -1.421875 \n",
       "Q 22.3125 -1.421875 17.546875 -0.640625 \n",
       "Q 12.796875 0.140625 7.71875 1.703125 \n",
       "L 7.71875 11.625 \n",
       "Q 12.109375 9.234375 16.796875 8.0625 \n",
       "Q 21.484375 6.890625 26.703125 6.890625 \n",
       "Q 35.15625 6.890625 40.078125 11.328125 \n",
       "Q 45.015625 15.765625 45.015625 23.390625 \n",
       "Q 45.015625 31 40.078125 35.4375 \n",
       "Q 35.15625 39.890625 26.703125 39.890625 \n",
       "Q 22.75 39.890625 18.8125 39.015625 \n",
       "Q 14.890625 38.140625 10.796875 36.28125 \n",
       "z\n",
       "\" id=\"DejaVuSans-35\"/>\n",
       "      </defs>\n",
       "      <g transform=\"translate(111.993892 266.598437)scale(0.1 -0.1)\">\n",
       "       <use xlink:href=\"#DejaVuSans-30\"/>\n",
       "       <use x=\"63.623047\" xlink:href=\"#DejaVuSans-2e\"/>\n",
       "       <use x=\"95.410156\" xlink:href=\"#DejaVuSans-35\"/>\n",
       "      </g>\n",
       "     </g>\n",
       "    </g>\n",
       "    <g id=\"xtick_3\">\n",
       "     <g id=\"line2d_3\">\n",
       "      <g>\n",
       "       <use style=\"stroke:#000000;stroke-width:0.8;\" x=\"170.672727\" xlink:href=\"#md34dd72e97\" y=\"252\"/>\n",
       "      </g>\n",
       "     </g>\n",
       "     <g id=\"text_3\">\n",
       "      <!-- 1.0 -->\n",
       "      <defs>\n",
       "       <path d=\"M 12.40625 8.296875 \n",
       "L 28.515625 8.296875 \n",
       "L 28.515625 63.921875 \n",
       "L 10.984375 60.40625 \n",
       "L 10.984375 69.390625 \n",
       "L 28.421875 72.90625 \n",
       "L 38.28125 72.90625 \n",
       "L 38.28125 8.296875 \n",
       "L 54.390625 8.296875 \n",
       "L 54.390625 0 \n",
       "L 12.40625 0 \n",
       "z\n",
       "\" id=\"DejaVuSans-31\"/>\n",
       "      </defs>\n",
       "      <g transform=\"translate(162.721165 266.598437)scale(0.1 -0.1)\">\n",
       "       <use xlink:href=\"#DejaVuSans-31\"/>\n",
       "       <use x=\"63.623047\" xlink:href=\"#DejaVuSans-2e\"/>\n",
       "       <use x=\"95.410156\" xlink:href=\"#DejaVuSans-30\"/>\n",
       "      </g>\n",
       "     </g>\n",
       "    </g>\n",
       "    <g id=\"xtick_4\">\n",
       "     <g id=\"line2d_4\">\n",
       "      <g>\n",
       "       <use style=\"stroke:#000000;stroke-width:0.8;\" x=\"221.4\" xlink:href=\"#md34dd72e97\" y=\"252\"/>\n",
       "      </g>\n",
       "     </g>\n",
       "     <g id=\"text_4\">\n",
       "      <!-- 1.5 -->\n",
       "      <g transform=\"translate(213.448438 266.598437)scale(0.1 -0.1)\">\n",
       "       <use xlink:href=\"#DejaVuSans-31\"/>\n",
       "       <use x=\"63.623047\" xlink:href=\"#DejaVuSans-2e\"/>\n",
       "       <use x=\"95.410156\" xlink:href=\"#DejaVuSans-35\"/>\n",
       "      </g>\n",
       "     </g>\n",
       "    </g>\n",
       "    <g id=\"xtick_5\">\n",
       "     <g id=\"line2d_5\">\n",
       "      <g>\n",
       "       <use style=\"stroke:#000000;stroke-width:0.8;\" x=\"272.127273\" xlink:href=\"#md34dd72e97\" y=\"252\"/>\n",
       "      </g>\n",
       "     </g>\n",
       "     <g id=\"text_5\">\n",
       "      <!-- 2.0 -->\n",
       "      <defs>\n",
       "       <path d=\"M 19.1875 8.296875 \n",
       "L 53.609375 8.296875 \n",
       "L 53.609375 0 \n",
       "L 7.328125 0 \n",
       "L 7.328125 8.296875 \n",
       "Q 12.9375 14.109375 22.625 23.890625 \n",
       "Q 32.328125 33.6875 34.8125 36.53125 \n",
       "Q 39.546875 41.84375 41.421875 45.53125 \n",
       "Q 43.3125 49.21875 43.3125 52.78125 \n",
       "Q 43.3125 58.59375 39.234375 62.25 \n",
       "Q 35.15625 65.921875 28.609375 65.921875 \n",
       "Q 23.96875 65.921875 18.8125 64.3125 \n",
       "Q 13.671875 62.703125 7.8125 59.421875 \n",
       "L 7.8125 69.390625 \n",
       "Q 13.765625 71.78125 18.9375 73 \n",
       "Q 24.125 74.21875 28.421875 74.21875 \n",
       "Q 39.75 74.21875 46.484375 68.546875 \n",
       "Q 53.21875 62.890625 53.21875 53.421875 \n",
       "Q 53.21875 48.921875 51.53125 44.890625 \n",
       "Q 49.859375 40.875 45.40625 35.40625 \n",
       "Q 44.1875 33.984375 37.640625 27.21875 \n",
       "Q 31.109375 20.453125 19.1875 8.296875 \n",
       "z\n",
       "\" id=\"DejaVuSans-32\"/>\n",
       "      </defs>\n",
       "      <g transform=\"translate(264.17571 266.598437)scale(0.1 -0.1)\">\n",
       "       <use xlink:href=\"#DejaVuSans-32\"/>\n",
       "       <use x=\"63.623047\" xlink:href=\"#DejaVuSans-2e\"/>\n",
       "       <use x=\"95.410156\" xlink:href=\"#DejaVuSans-30\"/>\n",
       "      </g>\n",
       "     </g>\n",
       "    </g>\n",
       "    <g id=\"xtick_6\">\n",
       "     <g id=\"line2d_6\">\n",
       "      <g>\n",
       "       <use style=\"stroke:#000000;stroke-width:0.8;\" x=\"322.854545\" xlink:href=\"#md34dd72e97\" y=\"252\"/>\n",
       "      </g>\n",
       "     </g>\n",
       "     <g id=\"text_6\">\n",
       "      <!-- 2.5 -->\n",
       "      <g transform=\"translate(314.902983 266.598437)scale(0.1 -0.1)\">\n",
       "       <use xlink:href=\"#DejaVuSans-32\"/>\n",
       "       <use x=\"63.623047\" xlink:href=\"#DejaVuSans-2e\"/>\n",
       "       <use x=\"95.410156\" xlink:href=\"#DejaVuSans-35\"/>\n",
       "      </g>\n",
       "     </g>\n",
       "    </g>\n",
       "    <g id=\"xtick_7\">\n",
       "     <g id=\"line2d_7\">\n",
       "      <g>\n",
       "       <use style=\"stroke:#000000;stroke-width:0.8;\" x=\"373.581818\" xlink:href=\"#md34dd72e97\" y=\"252\"/>\n",
       "      </g>\n",
       "     </g>\n",
       "     <g id=\"text_7\">\n",
       "      <!-- 3.0 -->\n",
       "      <defs>\n",
       "       <path d=\"M 40.578125 39.3125 \n",
       "Q 47.65625 37.796875 51.625 33 \n",
       "Q 55.609375 28.21875 55.609375 21.1875 \n",
       "Q 55.609375 10.40625 48.1875 4.484375 \n",
       "Q 40.765625 -1.421875 27.09375 -1.421875 \n",
       "Q 22.515625 -1.421875 17.65625 -0.515625 \n",
       "Q 12.796875 0.390625 7.625 2.203125 \n",
       "L 7.625 11.71875 \n",
       "Q 11.71875 9.328125 16.59375 8.109375 \n",
       "Q 21.484375 6.890625 26.8125 6.890625 \n",
       "Q 36.078125 6.890625 40.9375 10.546875 \n",
       "Q 45.796875 14.203125 45.796875 21.1875 \n",
       "Q 45.796875 27.640625 41.28125 31.265625 \n",
       "Q 36.765625 34.90625 28.71875 34.90625 \n",
       "L 20.21875 34.90625 \n",
       "L 20.21875 43.015625 \n",
       "L 29.109375 43.015625 \n",
       "Q 36.375 43.015625 40.234375 45.921875 \n",
       "Q 44.09375 48.828125 44.09375 54.296875 \n",
       "Q 44.09375 59.90625 40.109375 62.90625 \n",
       "Q 36.140625 65.921875 28.71875 65.921875 \n",
       "Q 24.65625 65.921875 20.015625 65.03125 \n",
       "Q 15.375 64.15625 9.8125 62.3125 \n",
       "L 9.8125 71.09375 \n",
       "Q 15.4375 72.65625 20.34375 73.4375 \n",
       "Q 25.25 74.21875 29.59375 74.21875 \n",
       "Q 40.828125 74.21875 47.359375 69.109375 \n",
       "Q 53.90625 64.015625 53.90625 55.328125 \n",
       "Q 53.90625 49.265625 50.4375 45.09375 \n",
       "Q 46.96875 40.921875 40.578125 39.3125 \n",
       "z\n",
       "\" id=\"DejaVuSans-33\"/>\n",
       "      </defs>\n",
       "      <g transform=\"translate(365.630256 266.598437)scale(0.1 -0.1)\">\n",
       "       <use xlink:href=\"#DejaVuSans-33\"/>\n",
       "       <use x=\"63.623047\" xlink:href=\"#DejaVuSans-2e\"/>\n",
       "       <use x=\"95.410156\" xlink:href=\"#DejaVuSans-30\"/>\n",
       "      </g>\n",
       "     </g>\n",
       "    </g>\n",
       "   </g>\n",
       "   <g id=\"matplotlib.axis_2\">\n",
       "    <g id=\"ytick_1\">\n",
       "     <g id=\"line2d_8\">\n",
       "      <defs>\n",
       "       <path d=\"M 0 0 \n",
       "L -3.5 0 \n",
       "\" id=\"m01c82da46c\" style=\"stroke:#000000;stroke-width:0.8;\"/>\n",
       "      </defs>\n",
       "      <g>\n",
       "       <use style=\"stroke:#000000;stroke-width:0.8;\" x=\"54\" xlink:href=\"#m01c82da46c\" y=\"248.717295\"/>\n",
       "      </g>\n",
       "     </g>\n",
       "     <g id=\"text_8\">\n",
       "      <!-- 0.0 -->\n",
       "      <g transform=\"translate(31.096875 252.516514)scale(0.1 -0.1)\">\n",
       "       <use xlink:href=\"#DejaVuSans-30\"/>\n",
       "       <use x=\"63.623047\" xlink:href=\"#DejaVuSans-2e\"/>\n",
       "       <use x=\"95.410156\" xlink:href=\"#DejaVuSans-30\"/>\n",
       "      </g>\n",
       "     </g>\n",
       "    </g>\n",
       "    <g id=\"ytick_2\">\n",
       "     <g id=\"line2d_9\">\n",
       "      <g>\n",
       "       <use style=\"stroke:#000000;stroke-width:0.8;\" x=\"54\" xlink:href=\"#m01c82da46c\" y=\"206.571288\"/>\n",
       "      </g>\n",
       "     </g>\n",
       "     <g id=\"text_9\">\n",
       "      <!-- 0.2 -->\n",
       "      <g transform=\"translate(31.096875 210.370506)scale(0.1 -0.1)\">\n",
       "       <use xlink:href=\"#DejaVuSans-30\"/>\n",
       "       <use x=\"63.623047\" xlink:href=\"#DejaVuSans-2e\"/>\n",
       "       <use x=\"95.410156\" xlink:href=\"#DejaVuSans-32\"/>\n",
       "      </g>\n",
       "     </g>\n",
       "    </g>\n",
       "    <g id=\"ytick_3\">\n",
       "     <g id=\"line2d_10\">\n",
       "      <g>\n",
       "       <use style=\"stroke:#000000;stroke-width:0.8;\" x=\"54\" xlink:href=\"#m01c82da46c\" y=\"164.42528\"/>\n",
       "      </g>\n",
       "     </g>\n",
       "     <g id=\"text_10\">\n",
       "      <!-- 0.4 -->\n",
       "      <defs>\n",
       "       <path d=\"M 37.796875 64.3125 \n",
       "L 12.890625 25.390625 \n",
       "L 37.796875 25.390625 \n",
       "z\n",
       "M 35.203125 72.90625 \n",
       "L 47.609375 72.90625 \n",
       "L 47.609375 25.390625 \n",
       "L 58.015625 25.390625 \n",
       "L 58.015625 17.1875 \n",
       "L 47.609375 17.1875 \n",
       "L 47.609375 0 \n",
       "L 37.796875 0 \n",
       "L 37.796875 17.1875 \n",
       "L 4.890625 17.1875 \n",
       "L 4.890625 26.703125 \n",
       "z\n",
       "\" id=\"DejaVuSans-34\"/>\n",
       "      </defs>\n",
       "      <g transform=\"translate(31.096875 168.224499)scale(0.1 -0.1)\">\n",
       "       <use xlink:href=\"#DejaVuSans-30\"/>\n",
       "       <use x=\"63.623047\" xlink:href=\"#DejaVuSans-2e\"/>\n",
       "       <use x=\"95.410156\" xlink:href=\"#DejaVuSans-34\"/>\n",
       "      </g>\n",
       "     </g>\n",
       "    </g>\n",
       "    <g id=\"ytick_4\">\n",
       "     <g id=\"line2d_11\">\n",
       "      <g>\n",
       "       <use style=\"stroke:#000000;stroke-width:0.8;\" x=\"54\" xlink:href=\"#m01c82da46c\" y=\"122.279272\"/>\n",
       "      </g>\n",
       "     </g>\n",
       "     <g id=\"text_11\">\n",
       "      <!-- 0.6 -->\n",
       "      <defs>\n",
       "       <path d=\"M 33.015625 40.375 \n",
       "Q 26.375 40.375 22.484375 35.828125 \n",
       "Q 18.609375 31.296875 18.609375 23.390625 \n",
       "Q 18.609375 15.53125 22.484375 10.953125 \n",
       "Q 26.375 6.390625 33.015625 6.390625 \n",
       "Q 39.65625 6.390625 43.53125 10.953125 \n",
       "Q 47.40625 15.53125 47.40625 23.390625 \n",
       "Q 47.40625 31.296875 43.53125 35.828125 \n",
       "Q 39.65625 40.375 33.015625 40.375 \n",
       "z\n",
       "M 52.59375 71.296875 \n",
       "L 52.59375 62.3125 \n",
       "Q 48.875 64.0625 45.09375 64.984375 \n",
       "Q 41.3125 65.921875 37.59375 65.921875 \n",
       "Q 27.828125 65.921875 22.671875 59.328125 \n",
       "Q 17.53125 52.734375 16.796875 39.40625 \n",
       "Q 19.671875 43.65625 24.015625 45.921875 \n",
       "Q 28.375 48.1875 33.59375 48.1875 \n",
       "Q 44.578125 48.1875 50.953125 41.515625 \n",
       "Q 57.328125 34.859375 57.328125 23.390625 \n",
       "Q 57.328125 12.15625 50.6875 5.359375 \n",
       "Q 44.046875 -1.421875 33.015625 -1.421875 \n",
       "Q 20.359375 -1.421875 13.671875 8.265625 \n",
       "Q 6.984375 17.96875 6.984375 36.375 \n",
       "Q 6.984375 53.65625 15.1875 63.9375 \n",
       "Q 23.390625 74.21875 37.203125 74.21875 \n",
       "Q 40.921875 74.21875 44.703125 73.484375 \n",
       "Q 48.484375 72.75 52.59375 71.296875 \n",
       "z\n",
       "\" id=\"DejaVuSans-36\"/>\n",
       "      </defs>\n",
       "      <g transform=\"translate(31.096875 126.078491)scale(0.1 -0.1)\">\n",
       "       <use xlink:href=\"#DejaVuSans-30\"/>\n",
       "       <use x=\"63.623047\" xlink:href=\"#DejaVuSans-2e\"/>\n",
       "       <use x=\"95.410156\" xlink:href=\"#DejaVuSans-36\"/>\n",
       "      </g>\n",
       "     </g>\n",
       "    </g>\n",
       "    <g id=\"ytick_5\">\n",
       "     <g id=\"line2d_12\">\n",
       "      <g>\n",
       "       <use style=\"stroke:#000000;stroke-width:0.8;\" x=\"54\" xlink:href=\"#m01c82da46c\" y=\"80.133264\"/>\n",
       "      </g>\n",
       "     </g>\n",
       "     <g id=\"text_12\">\n",
       "      <!-- 0.8 -->\n",
       "      <defs>\n",
       "       <path d=\"M 31.78125 34.625 \n",
       "Q 24.75 34.625 20.71875 30.859375 \n",
       "Q 16.703125 27.09375 16.703125 20.515625 \n",
       "Q 16.703125 13.921875 20.71875 10.15625 \n",
       "Q 24.75 6.390625 31.78125 6.390625 \n",
       "Q 38.8125 6.390625 42.859375 10.171875 \n",
       "Q 46.921875 13.96875 46.921875 20.515625 \n",
       "Q 46.921875 27.09375 42.890625 30.859375 \n",
       "Q 38.875 34.625 31.78125 34.625 \n",
       "z\n",
       "M 21.921875 38.8125 \n",
       "Q 15.578125 40.375 12.03125 44.71875 \n",
       "Q 8.5 49.078125 8.5 55.328125 \n",
       "Q 8.5 64.0625 14.71875 69.140625 \n",
       "Q 20.953125 74.21875 31.78125 74.21875 \n",
       "Q 42.671875 74.21875 48.875 69.140625 \n",
       "Q 55.078125 64.0625 55.078125 55.328125 \n",
       "Q 55.078125 49.078125 51.53125 44.71875 \n",
       "Q 48 40.375 41.703125 38.8125 \n",
       "Q 48.828125 37.15625 52.796875 32.3125 \n",
       "Q 56.78125 27.484375 56.78125 20.515625 \n",
       "Q 56.78125 9.90625 50.3125 4.234375 \n",
       "Q 43.84375 -1.421875 31.78125 -1.421875 \n",
       "Q 19.734375 -1.421875 13.25 4.234375 \n",
       "Q 6.78125 9.90625 6.78125 20.515625 \n",
       "Q 6.78125 27.484375 10.78125 32.3125 \n",
       "Q 14.796875 37.15625 21.921875 38.8125 \n",
       "z\n",
       "M 18.3125 54.390625 \n",
       "Q 18.3125 48.734375 21.84375 45.5625 \n",
       "Q 25.390625 42.390625 31.78125 42.390625 \n",
       "Q 38.140625 42.390625 41.71875 45.5625 \n",
       "Q 45.3125 48.734375 45.3125 54.390625 \n",
       "Q 45.3125 60.0625 41.71875 63.234375 \n",
       "Q 38.140625 66.40625 31.78125 66.40625 \n",
       "Q 25.390625 66.40625 21.84375 63.234375 \n",
       "Q 18.3125 60.0625 18.3125 54.390625 \n",
       "z\n",
       "\" id=\"DejaVuSans-38\"/>\n",
       "      </defs>\n",
       "      <g transform=\"translate(31.096875 83.932483)scale(0.1 -0.1)\">\n",
       "       <use xlink:href=\"#DejaVuSans-30\"/>\n",
       "       <use x=\"63.623047\" xlink:href=\"#DejaVuSans-2e\"/>\n",
       "       <use x=\"95.410156\" xlink:href=\"#DejaVuSans-38\"/>\n",
       "      </g>\n",
       "     </g>\n",
       "    </g>\n",
       "    <g id=\"ytick_6\">\n",
       "     <g id=\"line2d_13\">\n",
       "      <g>\n",
       "       <use style=\"stroke:#000000;stroke-width:0.8;\" x=\"54\" xlink:href=\"#m01c82da46c\" y=\"37.987257\"/>\n",
       "      </g>\n",
       "     </g>\n",
       "     <g id=\"text_13\">\n",
       "      <!-- 1.0 -->\n",
       "      <g transform=\"translate(31.096875 41.786475)scale(0.1 -0.1)\">\n",
       "       <use xlink:href=\"#DejaVuSans-31\"/>\n",
       "       <use x=\"63.623047\" xlink:href=\"#DejaVuSans-2e\"/>\n",
       "       <use x=\"95.410156\" xlink:href=\"#DejaVuSans-30\"/>\n",
       "      </g>\n",
       "     </g>\n",
       "    </g>\n",
       "   </g>\n",
       "   <g id=\"line2d_14\">\n",
       "    <path clip-path=\"url(#p10ea3bc119)\" d=\"M 69.218182 180.454743 \n",
       "L 170.672727 220.579925 \n",
       "L 272.127273 226.507262 \n",
       "L 373.581818 89.810145 \n",
       "\" style=\"fill:none;stroke:#1f77b4;stroke-linecap:square;stroke-width:1.5;\"/>\n",
       "   </g>\n",
       "   <g id=\"line2d_15\">\n",
       "    <path clip-path=\"url(#p10ea3bc119)\" d=\"M 69.218182 199.985161 \n",
       "L 170.672727 191.74621 \n",
       "L 272.127273 156.369399 \n",
       "L 373.581818 227.947808 \n",
       "\" style=\"fill:none;stroke:#ff7f0e;stroke-linecap:square;stroke-width:1.5;\"/>\n",
       "   </g>\n",
       "   <g id=\"line2d_16\">\n",
       "    <path clip-path=\"url(#p10ea3bc119)\" d=\"M 69.218182 242.116364 \n",
       "L 170.672727 149.090436 \n",
       "L 272.127273 44.443636 \n",
       "L 373.581818 214.362173 \n",
       "\" style=\"fill:none;stroke:#2ca02c;stroke-linecap:square;stroke-width:1.5;\"/>\n",
       "   </g>\n",
       "   <g id=\"line2d_17\">\n",
       "    <path clip-path=\"url(#p10ea3bc119)\" d=\"M 69.218182 128.041147 \n",
       "L 170.672727 166.905576 \n",
       "L 272.127273 137.161327 \n",
       "L 373.581818 59.296974 \n",
       "\" style=\"fill:none;stroke:#d62728;stroke-linecap:square;stroke-width:1.5;\"/>\n",
       "   </g>\n",
       "   <g id=\"patch_3\">\n",
       "    <path d=\"M 54 252 \n",
       "L 54 34.56 \n",
       "\" style=\"fill:none;stroke:#000000;stroke-linecap:square;stroke-linejoin:miter;stroke-width:0.8;\"/>\n",
       "   </g>\n",
       "   <g id=\"patch_4\">\n",
       "    <path d=\"M 388.8 252 \n",
       "L 388.8 34.56 \n",
       "\" style=\"fill:none;stroke:#000000;stroke-linecap:square;stroke-linejoin:miter;stroke-width:0.8;\"/>\n",
       "   </g>\n",
       "   <g id=\"patch_5\">\n",
       "    <path d=\"M 54 252 \n",
       "L 388.8 252 \n",
       "\" style=\"fill:none;stroke:#000000;stroke-linecap:square;stroke-linejoin:miter;stroke-width:0.8;\"/>\n",
       "   </g>\n",
       "   <g id=\"patch_6\">\n",
       "    <path d=\"M 54 34.56 \n",
       "L 388.8 34.56 \n",
       "\" style=\"fill:none;stroke:#000000;stroke-linecap:square;stroke-linejoin:miter;stroke-width:0.8;\"/>\n",
       "   </g>\n",
       "  </g>\n",
       " </g>\n",
       " <defs>\n",
       "  <clipPath id=\"p10ea3bc119\">\n",
       "   <rect height=\"217.44\" width=\"334.8\" x=\"54\" y=\"34.56\"/>\n",
       "  </clipPath>\n",
       " </defs>\n",
       "</svg>\n",
       "    </div>\n",
       "  \n",
       "</div> \n",
       "</div>"
      ],
      "text/plain": [
       "<IPython.core.display.HTML object>"
      ]
     },
     "execution_count": 5,
     "metadata": {},
     "output_type": "execute_result"
    }
   ],
   "source": [
    "%%tsumiki -r\n",
    "\n",
    ":Markdown:\n",
    "##### DataFrame and Plot\n",
    "\n",
    ":HTML::\n",
    "{{ df1_html }}\n",
    ":HTML::\n",
    "{{ plot_data }}"
   ]
  },
  {
   "cell_type": "markdown",
   "metadata": {
    "slideshow": {
     "slide_type": "subslide"
    }
   },
   "source": [
    "#### tsumikiの今後\n",
    "* 対応マークアップ言語の拡充  \n",
    "  - reStructuredText\n",
    "  - AsciiDoc\n",
    "* コマンドの実装  \n",
    "* テーマ"
   ]
  },
  {
   "cell_type": "markdown",
   "metadata": {
    "slideshow": {
     "slide_type": "slide"
    }
   },
   "source": [
    "## 8. Jupyter Publishing"
   ]
  },
  {
   "cell_type": "markdown",
   "metadata": {
    "slideshow": {
     "slide_type": "subslide"
    }
   },
   "source": [
    "#### 技術的な情報を\n",
    "* Webサイトにまとめたい\n",
    "* ブログの記事として投稿したい\n",
    "* ドキュメントを書きたい\n",
    "* 技術書を書きたい"
   ]
  },
  {
   "cell_type": "markdown",
   "metadata": {
    "slideshow": {
     "slide_type": "subslide"
    }
   },
   "source": [
    "#### 技術的な情報をまとめるのに大変なこと\n",
    "\n",
    "* コードとその解説のフォーマットが異なる\n",
    "* コードを記事や原稿に転記するのが大変\n",
    "* コードと情報のファイルが別々で管理が煩雑\n",
    "* 原稿に書いてあるコードのテストが難しい"
   ]
  },
  {
   "cell_type": "markdown",
   "metadata": {
    "slideshow": {
     "slide_type": "subslide"
    }
   },
   "source": [
    "#### Jupyter Notebookなら全部できる\n",
    "* 解説部分を軽量マークアップ言語で記述できて\n",
    "  - 表や図、画像などの埋め込み\n",
    "  - 数式を表現\n",
    "  - raw HTML\n",
    "* 記述したコードを実行できて\n",
    "* 実行したコードの出力を保存できる"
   ]
  },
  {
   "cell_type": "markdown",
   "metadata": {
    "slideshow": {
     "slide_type": "subslide"
    }
   },
   "source": [
    "#### 必用なもの\n",
    "\n",
    "* Jupyter Notebook\n",
    "* サイトジェネレータ or ドキュメントビルダー\n",
    "\n",
    "That's All!"
   ]
  },
  {
   "cell_type": "markdown",
   "metadata": {
    "slideshow": {
     "slide_type": "subslide"
    }
   },
   "source": [
    "#### 静的サイトジェネレータ・ドキュメントツール\n",
    "\n",
    "* Shpinx  \n",
    "  nbsphinxプラグイン\n",
    "* Pelican  \n",
    "  pelican-ipynbプラグイン\n",
    "* Nikola    \n",
    "  設定のみ\n",
    "* Miyadaiku  \n",
    "  設定のみ"
   ]
  },
  {
   "cell_type": "markdown",
   "metadata": {
    "slideshow": {
     "slide_type": "subslide"
    }
   },
   "source": [
    "#### 実際にJupyter Notebookでかいたもの\n",
    "* ブログ  \n",
    "  Miyadaikuを使用  \n",
    "  https://drillan.github.io\n",
    "* 雑誌の記事  \n",
    "  nbsphinxを使用  \n",
    "  Software Design 2018年2月号"
   ]
  },
  {
   "cell_type": "markdown",
   "metadata": {
    "slideshow": {
     "slide_type": "slide"
    }
   },
   "source": [
    "## 9. 便利なライブラリ・Webアプリケーション"
   ]
  },
  {
   "cell_type": "markdown",
   "metadata": {
    "slideshow": {
     "slide_type": "subslide"
    }
   },
   "source": [
    "#### よくいわれること\n",
    "「Jupyterってdiffがなぁ・・・」\n",
    "\n",
    "```bash\n",
    "$ diff plot1.ipynb plot2.ipynb \n",
    "22c22\n",
    "<        \"[<matplotlib.lines.Line2D at 0x7f1ecc596710>]\"\n",
    "---\n",
    ">        \"[<matplotlib.lines.Line2D at 0x7fb2184d9748>]\"\n",
    "31c31\n",
    "<       \"image/png\": \"iVBORw0KGgoAAAANSUhEUgAAAXcAAAD8CAYAAACMwORRAAAABHNCSVQICAgIfAhkiAAAAAlwSFlzAAALEgAACxIB0t1+/AAAADl0RVh0U29mdHdhcmUAbWF0cGxvdGxpYiB2ZXJzaW9uIDIuMi4yLCBodHRwOi8vbWF0cGxvdGxpYi5vcmcvhp/UCwAAIABJREFUeJzt3XlcVXX+x/HXVwUVRFzAFRE33EBLUbOasmxKzRazmWraraym2X+TmtZo2WI2M00zLY41LU5NzSS4pGWrZYtWWsmmKOKGGygKCLLe7+8P+P0eTqlc9cDhnvt+Ph48As6J8/564e3x3MPnGmstIiLiLU3cDiAiIs5TuYuIeJDKXUTEg1TuIiIepHIXEfEglbuIiAep3EVEPEjlLiLiQSp3EREPaubWgaOiomxcXJxbhxcRCUjr1q3bb6 ...\n",
    "```"
   ]
  },
  {
   "cell_type": "markdown",
   "metadata": {
    "slideshow": {
     "slide_type": "subslide"
    }
   },
   "source": [
    "#### nbdime\n",
    "\n",
    "* Notebookのdiffとmergeをやりやすくしたライブラリ\n",
    "* gitコマンドに対応\n",
    "* nbextensionを使うとボタン一発で履歴管理"
   ]
  },
  {
   "cell_type": "code",
   "execution_count": 27,
   "metadata": {
    "deletable": false,
    "editable": false,
    "hideCode": true,
    "run_control": {
     "frozen": true
    },
    "slideshow": {
     "slide_type": "subslide"
    }
   },
   "outputs": [
    {
     "data": {
      "text/html": [
       "<div class=\"tsumiki\">\n",
       "  <style>\n",
       "  .tsumiki .columns1 {\n",
       "    margin-bottom: 12px;\n",
       "  }\n",
       "</style>\n",
       "<h4>nbdiff</h4>\n",
       "<style>\n",
       "  .tsumiki .columns2 {\n",
       "    -webkit-columns: 2;\n",
       "    -moz-columns: 2;\n",
       "    -ms-columns: 2;\n",
       "    columns: 2;\n",
       "    display: inline-flex;\n",
       "    align-items: top;\n",
       "    width: 100%;\n",
       "  }\n",
       "\n",
       "\n",
       "  .tsumiki #col0 {\n",
       "      width: calc(100% / 2);\n",
       "  }\n",
       "\n",
       "  .tsumiki #col1 {\n",
       "      width: calc(100% / 2);\n",
       "  }\n",
       "\n",
       "</style>\n",
       "<div class=\"columns2\">\n",
       "  \n",
       "    <div id=\"col1\">\n",
       "    <div class=\"highlight\"><pre><span></span>$ nbdiff plot1.ipynb plot2.ipynb\n",
       "--- plot1.ipynb  <span class=\"m\">2018</span>-09-09 <span class=\"m\">18</span>:10:56.678277\n",
       "+++ plot2.ipynb  <span class=\"m\">2018</span>-09-09 <span class=\"m\">18</span>:11:11.428336\n",
       "<span class=\"c1\">## modified /cells/1/outputs/0/data/text/plain:</span>\n",
       "-  <span class=\"o\">[</span>&lt;matplotlib.lines.Line2D at 0x7f1ecc596710&gt;<span class=\"o\">]</span>\n",
       "+  <span class=\"o\">[</span>&lt;matplotlib.lines.Line2D at 0x7fb2184d9748&gt;<span class=\"o\">]</span>\n",
       "<span class=\"c1\">## inserted before /cells/1/outputs/1:</span>\n",
       "+  output:\n",
       "+    output_type: display_data\n",
       "+    data:\n",
       "+      image/png: iVBORw0K...&lt;snip base64, <span class=\"nv\">md5</span><span class=\"o\">=</span>6d291fb88d778210...&gt;\n",
       "+      text/plain: &lt;Figure size 432x288 with <span class=\"m\">1</span> Axes&gt;\n",
       "</pre></div>\n",
       "\n",
       "\n",
       "<p>↗</p>\n",
       "    </div>\n",
       "  \n",
       "    <div id=\"col2\">\n",
       "    <p>↘</p>\n",
       "<div class=\"highlight\"><pre><span></span><span class=\"c1\">## deleted /cells/1/outputs/1:</span>\n",
       "-  output:\n",
       "-    output_type: display_data\n",
       "-    data:\n",
       "-      image/png: iVBORw0K...&lt;snip base64, <span class=\"nv\">md5</span><span class=\"o\">=</span>f287ce2ad0448575...&gt;\n",
       "-      text/plain: &lt;Figure size 432x288 with <span class=\"m\">1</span> Axes&gt;\n",
       "<span class=\"c1\">## modified /cells/1/source:</span>\n",
       "@@ -1,2 +1,2 @@\n",
       " fig, <span class=\"nv\">ax</span> <span class=\"o\">=</span> plt.subplots<span class=\"o\">()</span>\n",
       "-ax.plot<span class=\"o\">([</span><span class=\"m\">1</span>, <span class=\"m\">2</span><span class=\"o\">])</span>\n",
       "+ax.plot<span class=\"o\">([</span><span class=\"m\">1</span>, <span class=\"m\">2</span><span class=\"o\">]</span>, <span class=\"nv\">color</span><span class=\"o\">=</span><span class=\"s2\">&quot;red&quot;</span><span class=\"o\">)</span>\n",
       "</pre></div>\n",
       "    </div>\n",
       "  \n",
       "</div> \n",
       "</div>"
      ],
      "text/plain": [
       "<IPython.core.display.HTML object>"
      ]
     },
     "execution_count": 27,
     "metadata": {},
     "output_type": "execute_result"
    }
   ],
   "source": [
    "%%tsumiki\n",
    "\n",
    ":Markdown:\n",
    "#### nbdiff\n",
    "\n",
    ":Markdown::\n",
    "```bash\n",
    "$ nbdiff plot1.ipynb plot2.ipynb\n",
    "--- plot1.ipynb  2018-09-09 18:10:56.678277\n",
    "+++ plot2.ipynb  2018-09-09 18:11:11.428336\n",
    "## modified /cells/1/outputs/0/data/text/plain:\n",
    "-  [<matplotlib.lines.Line2D at 0x7f1ecc596710>]\n",
    "+  [<matplotlib.lines.Line2D at 0x7fb2184d9748>]\n",
    "\n",
    "## inserted before /cells/1/outputs/1:\n",
    "+  output:\n",
    "+    output_type: display_data\n",
    "+    data:\n",
    "+      image/png: iVBORw0K...<snip base64, md5=6d291fb88d778210...>\n",
    "+      text/plain: <Figure size 432x288 with 1 Axes>\n",
    "\n",
    "\n",
    "```\n",
    "↗\n",
    ":Markdown::\n",
    "↘\n",
    "```bash\n",
    "## deleted /cells/1/outputs/1:\n",
    "-  output:\n",
    "-    output_type: display_data\n",
    "-    data:\n",
    "-      image/png: iVBORw0K...<snip base64, md5=f287ce2ad0448575...>\n",
    "-      text/plain: <Figure size 432x288 with 1 Axes>\n",
    "\n",
    "## modified /cells/1/source:\n",
    "@@ -1,2 +1,2 @@\n",
    " fig, ax = plt.subplots()\n",
    "-ax.plot([1, 2])\n",
    "\n",
    "+ax.plot([1, 2], color=\"red\")\n",
    "```"
   ]
  },
  {
   "cell_type": "markdown",
   "metadata": {
    "slideshow": {
     "slide_type": "subslide"
    }
   },
   "source": [
    "#### nbdiff-web\n",
    "![nbdiff-web](static/images/nbdiff-web.png)\n",
    "<i class=\"fa-clock-o fa\"></i>ボタンでも表示できる"
   ]
  },
  {
   "cell_type": "markdown",
   "metadata": {
    "slideshow": {
     "slide_type": "subslide"
    }
   },
   "source": [
    "#### papermill\n",
    "\n",
    "* Notebookを実行できる  \n",
    "  - Pythonから\n",
    "  - コマンドから\n",
    "* 実行時にパラメータを渡せる\n",
    "* Notebookが実行した結果を記録して収集できる\n",
    "* ほかのNotebookで可視化した画像を表示できる\n",
    "* Netflix社が使ってるらしい"
   ]
  },
  {
   "cell_type": "markdown",
   "metadata": {
    "slideshow": {
     "slide_type": "subslide"
    }
   },
   "source": [
    "#### papermillの活用例\n",
    "* テスト問題をNotebookで作成\n",
    "* 解答したNotebookを実行・記録\n",
    "* 記録された解答を集計"
   ]
  },
  {
   "cell_type": "markdown",
   "metadata": {
    "slideshow": {
     "slide_type": "subslide"
    }
   },
   "source": [
    "#### ホスティング\n",
    "GitホスティングサービスでNotebookがそのまま表示できる\n",
    "* GitHub\n",
    "* GitLab\n",
    "* BitBucket"
   ]
  },
  {
   "cell_type": "markdown",
   "metadata": {
    "hideCode": false,
    "slideshow": {
     "slide_type": "subslide"
    }
   },
   "source": [
    "#### nbviewer\n",
    "\n",
    "http://nbviewer.jupyter.org\n",
    "\n",
    "* NotebookをレンダリングするWebアプリケーション\n",
    "* ブラウザがあればNotebookの表示ができる\n",
    "* JavaScriptが使われたコードも表示できる\n",
    "* スライド表示に対応\n",
    "* binderへのリンク\n",
    "* 独自のnbviewerサーバーをホストできる"
   ]
  },
  {
   "cell_type": "code",
   "execution_count": 81,
   "metadata": {
    "deletable": false,
    "editable": false,
    "hideCode": true,
    "run_control": {
     "frozen": true
    },
    "slideshow": {
     "slide_type": "subslide"
    }
   },
   "outputs": [
    {
     "data": {
      "text/html": [
       "<div class=\"tsumiki\">\n",
       "  <style>\n",
       "  .tsumiki .columns1 {\n",
       "    margin-bottom: 12px;\n",
       "  }\n",
       "</style>\n",
       "<h4>GitHub vs nbviewer</h4>\n",
       "<style>\n",
       "  .tsumiki .columns2 {\n",
       "    -webkit-columns: 2;\n",
       "    -moz-columns: 2;\n",
       "    -ms-columns: 2;\n",
       "    columns: 2;\n",
       "    display: inline-flex;\n",
       "    align-items: top;\n",
       "    width: 100%;\n",
       "  }\n",
       "\n",
       "\n",
       "  .tsumiki #col0 {\n",
       "      width: calc(100% / 2);\n",
       "  }\n",
       "\n",
       "  .tsumiki #col1 {\n",
       "      width: calc(100% / 2);\n",
       "  }\n",
       "\n",
       "</style>\n",
       "<div class=\"columns2\">\n",
       "  \n",
       "    <div id=\"col1\">\n",
       "    <h5>GitHub</h5>\n",
       "<img src=\"static/images/render_github.png\">\n",
       "    </div>\n",
       "  \n",
       "    <div id=\"col2\">\n",
       "    <h5>nbviewer</h5>\n",
       "<img src=\"static/images/render_nbviewer.png\">\n",
       "    </div>\n",
       "  \n",
       "</div> \n",
       "</div>"
      ],
      "text/plain": [
       "<IPython.core.display.HTML object>"
      ]
     },
     "execution_count": 81,
     "metadata": {},
     "output_type": "execute_result"
    }
   ],
   "source": [
    "%%tsumiki\n",
    "\n",
    ":Markdown:\n",
    "#### GitHub vs nbviewer\n",
    "\n",
    ":HTML::\n",
    "<h5>GitHub</h5>\n",
    "<img src=\"static/images/render_github.png\">\n",
    "\n",
    ":HTML::\n",
    "<h5>nbviewer</h5>\n",
    "<img src=\"static/images/render_nbviewer.png\">"
   ]
  },
  {
   "cell_type": "markdown",
   "metadata": {
    "slideshow": {
     "slide_type": "subslide"
    }
   },
   "source": [
    "#### binder\n",
    "https://mybinder.org\n",
    "* Notebookの実行環境を提供するサービス\n",
    "* GitHubのリポジトリを指定するとDockerのコンテナで環境構築  \n",
    "  requirements.txt, environment.ymlなどのファイルでインストール環境を指定\n",
    "* JupyterHubが起動され、利用者はURLにアクセスするだけでNotebookを利用できる"
   ]
  },
  {
   "cell_type": "markdown",
   "metadata": {
    "slideshow": {
     "slide_type": "subslide"
    }
   },
   "source": [
    "#### Colaboratory\n",
    "\n",
    "https://colab.research.google.com\n",
    "\n",
    "* インストール不要でNotebookが作成・実行できる\n",
    "* TensorFlowなどのライブラリがデフォルトで使える\n",
    "* GPUが使える\n",
    "* NotebookをGoogle Driveに保存できる\n",
    "* URLを渡すだけでGitHubリポジトリのNotebookを利用できる\n",
    "* 独自のフォーム機能\n",
    "* 共有したユーザは同時に読み書きできる"
   ]
  },
  {
   "cell_type": "markdown",
   "metadata": {
    "slideshow": {
     "slide_type": "subslide"
    }
   },
   "source": [
    "#### Colaboratory留意事項\n",
    "* セッションが切れると環境がリセットされる  \n",
    "  Notebookに書いた内容は残る  \n",
    "* Notebookからローカルファイルを扱いたい場合  \n",
    "  - 都度、外部のストレージにupload/downloadする\n",
    "  - Google Driveと連携させる"
   ]
  },
  {
   "cell_type": "markdown",
   "metadata": {
    "slideshow": {
     "slide_type": "subslide"
    }
   },
   "source": [
    "##### GPUの活用例\n",
    "GPU+CuPyでNumpyと同じ処理を実行\n",
    "![numpy vs cupy](./static/images/numpy_vs_cupy.png)\n",
    "**70倍**の高速化"
   ]
  },
  {
   "cell_type": "code",
   "execution_count": 23,
   "metadata": {
    "hideCode": true,
    "slideshow": {
     "slide_type": "subslide"
    }
   },
   "outputs": [
    {
     "data": {
      "text/html": [
       "<div class=\"tsumiki\">\n",
       "  <style>\n",
       "  .tsumiki .columns1 {\n",
       "    margin-bottom: 12px;\n",
       "  }\n",
       "</style>\n",
       "<h4>今回紹介したライブラリ</h4>\n",
       "<style>\n",
       "  .tsumiki {\n",
       "      width: 100%;\n",
       "  }\n",
       "  .tsumiki .columns2 {\n",
       "    -webkit-columns: 2;\n",
       "    -moz-columns: 2;\n",
       "    -ms-columns: 2;\n",
       "    columns: 2;\n",
       "    display: inline-flex;\n",
       "    align-items: top;\n",
       "    width: 100%;\n",
       "  }\n",
       "\n",
       "\n",
       "  .tsumiki #col0 {\n",
       "      width: calc(100% / 2);\n",
       "  }\n",
       "\n",
       "  .tsumiki #col1 {\n",
       "      width: calc(100% / 2);\n",
       "  }\n",
       "\n",
       "</style>\n",
       "<div class=\"columns2\">\n",
       "  \n",
       "    <div id=\"col1\">\n",
       "    <ul>\n",
       "<li><a href=\"http://jupyter.org\">Project Jupyter</a></li>\n",
       "<li><a href=\"https://jupyter-contrib-nbextensions.readthedocs.io/en/latest/index.html\">Unofficial Jupyter Notebook Extensions</a></li>\n",
       "<li><a href=\"http://pycodestyle.pycqa.org/en/latest/\">pycodestyle</a></li>\n",
       "<li><a href=\"https://github.com/mattijn/pycodestyle_magic\">pycodestyle_magic</a></li>\n",
       "<li><a href=\"http://timothycrosley.github.io/isort/\">isort</a></li>\n",
       "<li><a href=\"https://github.com/hhatto/autopep8\">autopep8</a></li>\n",
       "<li><a href=\"https://github.com/google/yapf\">yapf</a></li>\n",
       "<li><a href=\"https://black.readthedocs.io/en/stable/index.html\">Black</a></li>\n",
       "<li><a href=\"https://github.com/csurfer/blackcellmagic\">blackcellmagic</a></li>\n",
       "</ul>\n",
       "    </div>\n",
       "  \n",
       "    <div id=\"col2\">\n",
       "    <ul>\n",
       "<li><a href=\"https://github.com/catherinedevlin/ipython-sql\">ipython-sql</a></li>\n",
       "<li><a href=\"https://github.com/kirbs-/hide_code\">Hide_code</a></li>\n",
       "<li><a href=\"https://damianavila.github.io/RISE/\">RISE</a></li>\n",
       "<li><a href=\"https://nbdime.readthedocs.io/en/stable/\">nbdime</a></li>\n",
       "<li><a href=\"https://papermill.readthedocs.io/en/latest/\">papermill</a></li>\n",
       "<li><a href=\"https://cupy.chainer.org\">CuPy</a></li>\n",
       "</ul>\n",
       "    </div>\n",
       "  \n",
       "</div> \n",
       "</div>"
      ],
      "text/plain": [
       "<IPython.core.display.HTML object>"
      ]
     },
     "execution_count": 23,
     "metadata": {},
     "output_type": "execute_result"
    }
   ],
   "source": [
    "%%tsumiki\n",
    "\n",
    ":Markdown:\n",
    "#### 今回紹介したライブラリ\n",
    "\n",
    ":Markdown::\n",
    "* [Project Jupyter](http://jupyter.org)\n",
    "* [Unofficial Jupyter Notebook Extensions](https://jupyter-contrib-nbextensions.readthedocs.io/en/latest/index.html)\n",
    "* [pycodestyle](http://pycodestyle.pycqa.org/en/latest/)\n",
    "* [pycodestyle_magic](https://github.com/mattijn/pycodestyle_magic)\n",
    "* [isort](http://timothycrosley.github.io/isort/)\n",
    "* [autopep8](https://github.com/hhatto/autopep8)\n",
    "* [yapf](https://github.com/google/yapf)\n",
    "* [Black](https://black.readthedocs.io/en/stable/index.html)\n",
    "* [blackcellmagic](https://github.com/csurfer/blackcellmagic)\n",
    "\n",
    ":Markdown::\n",
    "* [ipython-sql](https://github.com/catherinedevlin/ipython-sql)\n",
    "* [Hide_code](https://github.com/kirbs-/hide_code)\n",
    "* [RISE](https://damianavila.github.io/RISE/)\n",
    "* [nbdime](https://nbdime.readthedocs.io/en/stable/)\n",
    "* [papermill](https://papermill.readthedocs.io/en/latest/)\n",
    "* [CuPy](https://cupy.chainer.org)"
   ]
  },
  {
   "cell_type": "markdown",
   "metadata": {
    "slideshow": {
     "slide_type": "subslide"
    }
   },
   "source": [
    "#### 今回紹介したWebアプリケーション\n",
    "* [nbviewer](https://nbviewer.jupyter.org)\n",
    "* [binder](https://mybinder.org)\n",
    "* [colaboratory](https://colab.research.google.com)"
   ]
  },
  {
   "cell_type": "markdown",
   "metadata": {
    "slideshow": {
     "slide_type": "subslide"
    }
   },
   "source": [
    "#### どりらんがつくったもの\n",
    "* [jupyter-black](https://github.com/drillan/jupyter-black)\n",
    "* [tsumiki](https://github.com/drillan/tsumiki)"
   ]
  },
  {
   "cell_type": "markdown",
   "metadata": {
    "slideshow": {
     "slide_type": "slide"
    }
   },
   "source": [
    "## まとめ\n",
    "* Jupyterを使いこなす\n",
    "  - マジックコマンド\n",
    "  - nbextensions\n",
    "  - IPython.display\n",
    "  - ライブラリ・Webアプリケーション\n",
    "* 色々な用途に  \n",
    "  - プレゼン資料\n",
    "  - ドキュメント\n",
    "  - ウェブサイト"
   ]
  },
  {
   "cell_type": "markdown",
   "metadata": {
    "slideshow": {
     "slide_type": "subslide"
    }
   },
   "source": [
    "# ご清聴ありがとうございました\n",
    "ポスターセッションもよろしくネ"
   ]
  }
 ],
 "metadata": {
  "celltoolbar": "Hide code",
  "hide_input": false,
  "livereveal": {
   "autolaunch": true,
   "scroll": true
  },
  "kernelspec": {
   "display_name": "Python 3",
   "language": "python",
   "name": "python3"
  },
  "nbTranslate": {
   "displayLangs": [
    "*"
   ],
   "hotkey": "alt-t",
   "langInMainMenu": true,
   "sourceLang": "en",
   "targetLang": "fr",
   "useGoogleTranslate": true
  }
 },
 "nbformat": 4,
 "nbformat_minor": 2
}
